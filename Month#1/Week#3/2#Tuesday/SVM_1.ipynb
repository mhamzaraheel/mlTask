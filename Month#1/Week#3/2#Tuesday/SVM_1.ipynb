{
 "cells": [
  {
   "cell_type": "code",
   "execution_count": 203,
   "outputs": [],
   "source": [
    "import numpy as np\n",
    "import pandas as pd\n",
    "import seaborn as sns\n",
    "from sklearn.datasets import load_iris\n",
    "import matplotlib.pyplot as plt\n",
    "from sklearn.svm import SVC\n",
    "from sklearn.preprocessing import StandardScaler\n",
    "from sklearn.model_selection import train_test_split\n",
    "from sklearn.metrics import accuracy_score, classification_report\n",
    "from sklearn.metrics import confusion_matrix"
   ],
   "metadata": {
    "collapsed": false,
    "ExecuteTime": {
     "end_time": "2024-01-02T09:17:00.187613600Z",
     "start_time": "2024-01-02T09:17:00.068094200Z"
    }
   }
  },
  {
   "cell_type": "code",
   "execution_count": 204,
   "outputs": [
    {
     "name": "stdout",
     "output_type": "stream",
     "text": [
      "Feature names: ['sepal length (cm)', 'sepal width (cm)', 'petal length (cm)', 'petal width (cm)']\n",
      "Target names: ['setosa' 'versicolor' 'virginica']\n"
     ]
    }
   ],
   "source": [
    "# Load the Iris dataset\n",
    "iris = load_iris()\n",
    "\n",
    "# Features (X) and target (y)\n",
    "X = iris.data\n",
    "y = iris.target\n",
    "\n",
    "# <<Features_Names>> and <<Targets_Names>>\n",
    "feature_names = iris.feature_names\n",
    "target_names = iris.target_names\n",
    "\n",
    "print(\"Feature names:\", feature_names)\n",
    "print(\"Target names:\", target_names)"
   ],
   "metadata": {
    "collapsed": false,
    "ExecuteTime": {
     "end_time": "2024-01-02T09:17:00.187613600Z",
     "start_time": "2024-01-02T09:17:00.083715100Z"
    }
   }
  },
  {
   "cell_type": "code",
   "execution_count": 205,
   "outputs": [],
   "source": [
    "# Creat pandas dataframe\n",
    "data = pd.DataFrame(data=X, columns=feature_names)\n",
    "data['target'] = y\n",
    "data['target_names'] = data['target'].apply(lambda x: target_names[x])"
   ],
   "metadata": {
    "collapsed": false,
    "ExecuteTime": {
     "end_time": "2024-01-02T09:17:00.187613600Z",
     "start_time": "2024-01-02T09:17:00.105190800Z"
    }
   }
  },
  {
   "cell_type": "code",
   "execution_count": 206,
   "outputs": [
    {
     "data": {
      "text/plain": "     sepal length (cm)  sepal width (cm)  petal length (cm)  petal width (cm)  \\\n0                  5.1               3.5                1.4               0.2   \n1                  4.9               3.0                1.4               0.2   \n2                  4.7               3.2                1.3               0.2   \n3                  4.6               3.1                1.5               0.2   \n4                  5.0               3.6                1.4               0.2   \n..                 ...               ...                ...               ...   \n145                6.7               3.0                5.2               2.3   \n146                6.3               2.5                5.0               1.9   \n147                6.5               3.0                5.2               2.0   \n148                6.2               3.4                5.4               2.3   \n149                5.9               3.0                5.1               1.8   \n\n     target target_names  \n0         0       setosa  \n1         0       setosa  \n2         0       setosa  \n3         0       setosa  \n4         0       setosa  \n..      ...          ...  \n145       2    virginica  \n146       2    virginica  \n147       2    virginica  \n148       2    virginica  \n149       2    virginica  \n\n[150 rows x 6 columns]",
      "text/html": "<div>\n<style scoped>\n    .dataframe tbody tr th:only-of-type {\n        vertical-align: middle;\n    }\n\n    .dataframe tbody tr th {\n        vertical-align: top;\n    }\n\n    .dataframe thead th {\n        text-align: right;\n    }\n</style>\n<table border=\"1\" class=\"dataframe\">\n  <thead>\n    <tr style=\"text-align: right;\">\n      <th></th>\n      <th>sepal length (cm)</th>\n      <th>sepal width (cm)</th>\n      <th>petal length (cm)</th>\n      <th>petal width (cm)</th>\n      <th>target</th>\n      <th>target_names</th>\n    </tr>\n  </thead>\n  <tbody>\n    <tr>\n      <th>0</th>\n      <td>5.1</td>\n      <td>3.5</td>\n      <td>1.4</td>\n      <td>0.2</td>\n      <td>0</td>\n      <td>setosa</td>\n    </tr>\n    <tr>\n      <th>1</th>\n      <td>4.9</td>\n      <td>3.0</td>\n      <td>1.4</td>\n      <td>0.2</td>\n      <td>0</td>\n      <td>setosa</td>\n    </tr>\n    <tr>\n      <th>2</th>\n      <td>4.7</td>\n      <td>3.2</td>\n      <td>1.3</td>\n      <td>0.2</td>\n      <td>0</td>\n      <td>setosa</td>\n    </tr>\n    <tr>\n      <th>3</th>\n      <td>4.6</td>\n      <td>3.1</td>\n      <td>1.5</td>\n      <td>0.2</td>\n      <td>0</td>\n      <td>setosa</td>\n    </tr>\n    <tr>\n      <th>4</th>\n      <td>5.0</td>\n      <td>3.6</td>\n      <td>1.4</td>\n      <td>0.2</td>\n      <td>0</td>\n      <td>setosa</td>\n    </tr>\n    <tr>\n      <th>...</th>\n      <td>...</td>\n      <td>...</td>\n      <td>...</td>\n      <td>...</td>\n      <td>...</td>\n      <td>...</td>\n    </tr>\n    <tr>\n      <th>145</th>\n      <td>6.7</td>\n      <td>3.0</td>\n      <td>5.2</td>\n      <td>2.3</td>\n      <td>2</td>\n      <td>virginica</td>\n    </tr>\n    <tr>\n      <th>146</th>\n      <td>6.3</td>\n      <td>2.5</td>\n      <td>5.0</td>\n      <td>1.9</td>\n      <td>2</td>\n      <td>virginica</td>\n    </tr>\n    <tr>\n      <th>147</th>\n      <td>6.5</td>\n      <td>3.0</td>\n      <td>5.2</td>\n      <td>2.0</td>\n      <td>2</td>\n      <td>virginica</td>\n    </tr>\n    <tr>\n      <th>148</th>\n      <td>6.2</td>\n      <td>3.4</td>\n      <td>5.4</td>\n      <td>2.3</td>\n      <td>2</td>\n      <td>virginica</td>\n    </tr>\n    <tr>\n      <th>149</th>\n      <td>5.9</td>\n      <td>3.0</td>\n      <td>5.1</td>\n      <td>1.8</td>\n      <td>2</td>\n      <td>virginica</td>\n    </tr>\n  </tbody>\n</table>\n<p>150 rows × 6 columns</p>\n</div>"
     },
     "execution_count": 206,
     "metadata": {},
     "output_type": "execute_result"
    }
   ],
   "source": [
    "data"
   ],
   "metadata": {
    "collapsed": false,
    "ExecuteTime": {
     "end_time": "2024-01-02T09:17:00.270366800Z",
     "start_time": "2024-01-02T09:17:00.167675500Z"
    }
   }
  },
  {
   "cell_type": "code",
   "execution_count": 207,
   "outputs": [
    {
     "name": "stdout",
     "output_type": "stream",
     "text": [
      "There are 150 rows in the dataset.\n",
      "Shape of Data is (150, 6)\n"
     ]
    }
   ],
   "source": [
    "# check the length and shape of the data\n",
    "print(f\"There are {len(data)} rows in the dataset.\")\n",
    "print(f\"Shape of Data is {data.shape}\",) # >>> (rows , columns)"
   ],
   "metadata": {
    "collapsed": false,
    "ExecuteTime": {
     "end_time": "2024-01-02T09:17:00.270366800Z",
     "start_time": "2024-01-02T09:17:00.223503Z"
    }
   }
  },
  {
   "cell_type": "code",
   "execution_count": 208,
   "outputs": [],
   "source": [
    "# # Plot all the data\n",
    "# sns.pairplot(data, hue=\"target_names\", markers=[\"o\", \"s\", \"D\"])\n",
    "# plt.show()"
   ],
   "metadata": {
    "collapsed": false,
    "ExecuteTime": {
     "end_time": "2024-01-02T09:17:00.285988300Z",
     "start_time": "2024-01-02T09:17:00.254745Z"
    }
   }
  },
  {
   "cell_type": "code",
   "execution_count": 209,
   "outputs": [
    {
     "name": "stdout",
     "output_type": "stream",
     "text": [
      "There are 1 duplicate data.\n",
      "Indices of duplicate rows Index([101, 142], dtype='int64')\n"
     ]
    }
   ],
   "source": [
    "# to check the duplication in out text\n",
    "total_duplicate_titles = sum(data.duplicated())\n",
    "print(f\"There are {total_duplicate_titles} duplicate data.\")\n",
    "# Indices of duplicate rows\n",
    "duplicate_indices = data[data.duplicated(keep=False)].index\n",
    "print(f\"Indices of duplicate rows {duplicate_indices}\")\n",
    "\n",
    "# Remove duplicate rows and reset index\n",
    "data = data.drop_duplicates().reset_index(drop=True)\n",
    "\n",
    "# also remove the index from the X\n",
    "X = np.delete(X, duplicate_indices[:1], axis=0)\n",
    "y = np.delete(y, duplicate_indices[:1], axis=0)"
   ],
   "metadata": {
    "collapsed": false,
    "ExecuteTime": {
     "end_time": "2024-01-02T09:17:00.405003300Z",
     "start_time": "2024-01-02T09:17:00.285988300Z"
    }
   }
  },
  {
   "cell_type": "code",
   "execution_count": 210,
   "outputs": [
    {
     "data": {
      "text/plain": "Index([101], dtype='int64')"
     },
     "execution_count": 210,
     "metadata": {},
     "output_type": "execute_result"
    }
   ],
   "source": [
    "duplicate_indices[:1]"
   ],
   "metadata": {
    "collapsed": false,
    "ExecuteTime": {
     "end_time": "2024-01-02T09:17:00.451866100Z",
     "start_time": "2024-01-02T09:17:00.353838600Z"
    }
   }
  },
  {
   "cell_type": "code",
   "execution_count": 211,
   "outputs": [
    {
     "name": "stdout",
     "output_type": "stream",
     "text": [
      "There are 149 rows in the dataset after removing the duplicated row.\n",
      "Shape of Data is (149, 6)\n"
     ]
    }
   ],
   "source": [
    "# check the length and shape of the data\n",
    "print(f\"There are {len(data)} rows in the dataset after removing the duplicated row.\")\n",
    "print(f\"Shape of Data is {data.shape}\",) # >>> (rows , columns)"
   ],
   "metadata": {
    "collapsed": false,
    "ExecuteTime": {
     "end_time": "2024-01-02T09:17:00.535659900Z",
     "start_time": "2024-01-02T09:17:00.369458Z"
    }
   }
  },
  {
   "cell_type": "code",
   "execution_count": 212,
   "outputs": [
    {
     "name": "stdout",
     "output_type": "stream",
     "text": [
      "Columns with Missing Values:\n",
      "Series([], dtype: int64)\n"
     ]
    }
   ],
   "source": [
    "# Count the missing values in each column\n",
    "missing_count = data.isnull().sum()\n",
    "# Display columns with missing values\n",
    "print(\"Columns with Missing Values:\")\n",
    "print(missing_count[missing_count > 0])"
   ],
   "metadata": {
    "collapsed": false,
    "ExecuteTime": {
     "end_time": "2024-01-02T09:17:00.551281400Z",
     "start_time": "2024-01-02T09:17:00.420623800Z"
    }
   }
  },
  {
   "cell_type": "code",
   "execution_count": 213,
   "outputs": [
    {
     "data": {
      "text/plain": "array([[-0.8980334 ,  1.01240113, -1.33325507, -1.30862368],\n       [-1.13956224, -0.1373532 , -1.33325507, -1.30862368],\n       [-1.38109108,  0.32254853, -1.39001364, -1.30862368],\n       [-1.5018555 ,  0.09259766, -1.2764965 , -1.30862368],\n       [-1.01879782,  1.242352  , -1.33325507, -1.30862368],\n       [-0.53574014,  1.9322046 , -1.16297935, -1.04548613],\n       [-1.5018555 ,  0.78245027, -1.33325507, -1.17705491],\n       [-1.01879782,  0.78245027, -1.2764965 , -1.30862368],\n       [-1.74338434, -0.36730407, -1.33325507, -1.30862368],\n       [-1.13956224,  0.09259766, -1.2764965 , -1.44019246],\n       [-0.53574014,  1.47230287, -1.2764965 , -1.30862368],\n       [-1.26032666,  0.78245027, -1.21973792, -1.30862368],\n       [-1.26032666, -0.1373532 , -1.33325507, -1.44019246],\n       [-1.86414876, -0.1373532 , -1.50353079, -1.44019246],\n       [-0.05268246,  2.16215547, -1.44677222, -1.30862368],\n       [-0.17344688,  3.08195894, -1.2764965 , -1.04548613],\n       [-0.53574014,  1.9322046 , -1.39001364, -1.04548613],\n       [-0.8980334 ,  1.01240113, -1.33325507, -1.17705491],\n       [-0.17344688,  1.70225374, -1.16297935, -1.17705491],\n       [-0.8980334 ,  1.70225374, -1.2764965 , -1.17705491],\n       [-0.53574014,  0.78245027, -1.16297935, -1.30862368],\n       [-0.8980334 ,  1.47230287, -1.2764965 , -1.04548613],\n       [-1.5018555 ,  1.242352  , -1.56028936, -1.30862368],\n       [-0.8980334 ,  0.5524994 , -1.16297935, -0.91391735],\n       [-1.26032666,  0.78245027, -1.0494622 , -1.30862368],\n       [-1.01879782, -0.1373532 , -1.21973792, -1.30862368],\n       [-1.01879782,  0.78245027, -1.21973792, -1.04548613],\n       [-0.77726898,  1.01240113, -1.2764965 , -1.30862368],\n       [-0.77726898,  0.78245027, -1.33325507, -1.30862368],\n       [-1.38109108,  0.32254853, -1.21973792, -1.30862368],\n       [-1.26032666,  0.09259766, -1.21973792, -1.30862368],\n       [-0.53574014,  0.78245027, -1.2764965 , -1.04548613],\n       [-0.77726898,  2.39210634, -1.2764965 , -1.44019246],\n       [-0.41497572,  2.62205721, -1.33325507, -1.30862368],\n       [-1.13956224,  0.09259766, -1.2764965 , -1.30862368],\n       [-1.01879782,  0.32254853, -1.44677222, -1.30862368],\n       [-0.41497572,  1.01240113, -1.39001364, -1.30862368],\n       [-1.13956224,  1.242352  , -1.33325507, -1.44019246],\n       [-1.74338434, -0.1373532 , -1.39001364, -1.30862368],\n       [-0.8980334 ,  0.78245027, -1.2764965 , -1.30862368],\n       [-1.01879782,  1.01240113, -1.39001364, -1.17705491],\n       [-1.62261992, -1.74700927, -1.39001364, -1.17705491],\n       [-1.74338434,  0.32254853, -1.39001364, -1.30862368],\n       [-1.01879782,  1.01240113, -1.21973792, -0.78234857],\n       [-0.8980334 ,  1.70225374, -1.0494622 , -1.04548613],\n       [-1.26032666, -0.1373532 , -1.33325507, -1.17705491],\n       [-0.8980334 ,  1.70225374, -1.21973792, -1.30862368],\n       [-1.5018555 ,  0.32254853, -1.33325507, -1.30862368],\n       [-0.65650456,  1.47230287, -1.2764965 , -1.30862368],\n       [-1.01879782,  0.5524994 , -1.33325507, -1.30862368],\n       [ 1.39649057,  0.32254853,  0.53977784,  0.27020165],\n       [ 0.67190405,  0.32254853,  0.42626069,  0.40177043],\n       [ 1.27572615,  0.09259766,  0.65329498,  0.40177043],\n       [-0.41497572, -1.74700927,  0.14246783,  0.13863287],\n       [ 0.79266847, -0.59725494,  0.48301927,  0.40177043],\n       [-0.17344688, -0.59725494,  0.42626069,  0.13863287],\n       [ 0.55113963,  0.5524994 ,  0.53977784,  0.53333921],\n       [-1.13956224, -1.51705841, -0.25484218, -0.25607346],\n       [ 0.91343289, -0.36730407,  0.48301927,  0.13863287],\n       [-0.77726898, -0.8272058 ,  0.08570925,  0.27020165],\n       [-1.01879782, -2.43686188, -0.14132504, -0.25607346],\n       [ 0.06808195, -0.1373532 ,  0.25598497,  0.40177043],\n       [ 0.18884637, -1.97696014,  0.14246783, -0.25607346],\n       [ 0.30961079, -0.36730407,  0.53977784,  0.27020165],\n       [-0.2942113 , -0.36730407, -0.08456646,  0.13863287],\n       [ 1.03419731,  0.09259766,  0.36950212,  0.27020165],\n       [-0.2942113 , -0.1373532 ,  0.42626069,  0.40177043],\n       [-0.05268246, -0.8272058 ,  0.1992264 , -0.25607346],\n       [ 0.43037521, -1.97696014,  0.42626069,  0.40177043],\n       [-0.2942113 , -1.28710754,  0.08570925, -0.12450468],\n       [ 0.06808195,  0.32254853,  0.59653641,  0.79647676],\n       [ 0.30961079, -0.59725494,  0.14246783,  0.13863287],\n       [ 0.55113963, -1.28710754,  0.65329498,  0.40177043],\n       [ 0.30961079, -0.59725494,  0.53977784,  0.0070641 ],\n       [ 0.67190405, -0.36730407,  0.31274355,  0.13863287],\n       [ 0.91343289, -0.1373532 ,  0.36950212,  0.27020165],\n       [ 1.15496173, -0.59725494,  0.59653641,  0.27020165],\n       [ 1.03419731, -0.1373532 ,  0.71005356,  0.66490799],\n       [ 0.18884637, -0.36730407,  0.42626069,  0.40177043],\n       [-0.17344688, -1.05715667, -0.14132504, -0.25607346],\n       [-0.41497572, -1.51705841,  0.02895068, -0.12450468],\n       [-0.41497572, -1.51705841, -0.02780789, -0.25607346],\n       [-0.05268246, -0.8272058 ,  0.08570925,  0.0070641 ],\n       [ 0.18884637, -0.8272058 ,  0.76681213,  0.53333921],\n       [-0.53574014, -0.1373532 ,  0.42626069,  0.40177043],\n       [ 0.18884637,  0.78245027,  0.42626069,  0.53333921],\n       [ 1.03419731,  0.09259766,  0.53977784,  0.40177043],\n       [ 0.55113963, -1.74700927,  0.36950212,  0.13863287],\n       [-0.2942113 , -0.1373532 ,  0.1992264 ,  0.13863287],\n       [-0.41497572, -1.28710754,  0.14246783,  0.13863287],\n       [-0.41497572, -1.05715667,  0.36950212,  0.0070641 ],\n       [ 0.30961079, -0.1373532 ,  0.48301927,  0.27020165],\n       [-0.05268246, -1.05715667,  0.14246783,  0.0070641 ],\n       [-1.01879782, -1.74700927, -0.25484218, -0.25607346],\n       [-0.2942113 , -0.8272058 ,  0.25598497,  0.13863287],\n       [-0.17344688, -0.1373532 ,  0.25598497,  0.0070641 ],\n       [-0.17344688, -0.36730407,  0.25598497,  0.13863287],\n       [ 0.43037521, -0.36730407,  0.31274355,  0.13863287],\n       [-0.8980334 , -1.28710754, -0.4251179 , -0.12450468],\n       [-0.17344688, -0.59725494,  0.1992264 ,  0.13863287],\n       [ 0.55113963,  0.5524994 ,  1.27763929,  1.71745821],\n       [ 1.51725499, -0.1373532 ,  1.22088071,  1.1911831 ],\n       [ 0.55113963, -0.36730407,  1.05060499,  0.79647676],\n       [ 0.79266847, -0.1373532 ,  1.16412214,  1.32275187],\n       [ 2.12107708, -0.1373532 ,  1.61819072,  1.1911831 ],\n       [-1.13956224, -1.28710754,  0.42626069,  0.66490799],\n       [ 1.75878383, -0.36730407,  1.44791501,  0.79647676],\n       [ 1.03419731, -1.28710754,  1.16412214,  0.79647676],\n       [ 1.63801941,  1.242352  ,  1.33439786,  1.71745821],\n       [ 0.79266847,  0.32254853,  0.76681213,  1.05961432],\n       [ 0.67190405, -0.8272058 ,  0.88032928,  0.92804554],\n       [ 1.15496173, -0.1373532 ,  0.99384642,  1.1911831 ],\n       [-0.17344688, -1.28710754,  0.71005356,  1.05961432],\n       [-0.05268246, -0.59725494,  0.76681213,  1.58588943],\n       [ 0.67190405,  0.32254853,  0.88032928,  1.45432065],\n       [ 0.79266847, -0.1373532 ,  0.99384642,  0.79647676],\n       [ 2.2418415 ,  1.70225374,  1.6749493 ,  1.32275187],\n       [ 2.2418415 , -1.05715667,  1.78846644,  1.45432065],\n       [ 0.18884637, -1.97696014,  0.71005356,  0.40177043],\n       [ 1.27572615,  0.32254853,  1.10736357,  1.45432065],\n       [-0.2942113 , -0.59725494,  0.65329498,  1.05961432],\n       [ 2.2418415 , -0.59725494,  1.6749493 ,  1.05961432],\n       [ 0.55113963, -0.8272058 ,  0.65329498,  0.79647676],\n       [ 1.03419731,  0.5524994 ,  1.10736357,  1.1911831 ],\n       [ 1.63801941,  0.32254853,  1.27763929,  0.79647676],\n       [ 0.43037521, -0.59725494,  0.59653641,  0.79647676],\n       [ 0.30961079, -0.1373532 ,  0.65329498,  0.79647676],\n       [ 0.67190405, -0.59725494,  1.05060499,  1.1911831 ],\n       [ 1.63801941, -0.1373532 ,  1.16412214,  0.53333921],\n       [ 1.87954825, -0.59725494,  1.33439786,  0.92804554],\n       [ 2.48337034,  1.70225374,  1.50467358,  1.05961432],\n       [ 0.67190405, -0.59725494,  1.05060499,  1.32275187],\n       [ 0.55113963, -0.59725494,  0.76681213,  0.40177043],\n       [ 0.30961079, -1.05715667,  1.05060499,  0.27020165],\n       [ 2.2418415 , -0.1373532 ,  1.33439786,  1.45432065],\n       [ 0.55113963,  0.78245027,  1.05060499,  1.58588943],\n       [ 0.67190405,  0.09259766,  0.99384642,  0.79647676],\n       [ 0.18884637, -0.1373532 ,  0.59653641,  0.79647676],\n       [ 1.27572615,  0.09259766,  0.93708785,  1.1911831 ],\n       [ 1.03419731,  0.09259766,  1.05060499,  1.58588943],\n       [ 1.27572615,  0.09259766,  0.76681213,  1.45432065],\n       [-0.05268246, -0.8272058 ,  0.76681213,  0.92804554],\n       [ 1.15496173,  0.32254853,  1.22088071,  1.45432065],\n       [ 1.03419731,  0.5524994 ,  1.10736357,  1.71745821],\n       [ 1.03419731, -0.1373532 ,  0.8235707 ,  1.45432065],\n       [ 0.55113963, -1.28710754,  0.71005356,  0.92804554],\n       [ 0.79266847, -0.1373532 ,  0.8235707 ,  1.05961432],\n       [ 0.43037521,  0.78245027,  0.93708785,  1.45432065],\n       [ 0.06808195, -0.1373532 ,  0.76681213,  0.79647676]])"
     },
     "execution_count": 213,
     "metadata": {},
     "output_type": "execute_result"
    }
   ],
   "source": [
    "scaler = StandardScaler()\n",
    "X = scaler.fit_transform(X)\n",
    "X"
   ],
   "metadata": {
    "collapsed": false,
    "ExecuteTime": {
     "end_time": "2024-01-02T09:17:00.551281400Z",
     "start_time": "2024-01-02T09:17:00.451866100Z"
    }
   }
  },
  {
   "cell_type": "code",
   "execution_count": 214,
   "outputs": [
    {
     "data": {
      "text/plain": "(119, 119, 30, 30)"
     },
     "execution_count": 214,
     "metadata": {},
     "output_type": "execute_result"
    }
   ],
   "source": [
    "# Split the data into train and test\n",
    "xTrain, xTest, yTrain, yTest = train_test_split(X,y,random_state=42,test_size=0.2)\n",
    "len(xTrain), len(yTrain), len(xTest), len(yTest)"
   ],
   "metadata": {
    "collapsed": false,
    "ExecuteTime": {
     "end_time": "2024-01-02T09:17:00.566903100Z",
     "start_time": "2024-01-02T09:17:00.483109300Z"
    }
   }
  },
  {
   "cell_type": "code",
   "execution_count": 215,
   "outputs": [
    {
     "data": {
      "text/plain": "SVC(kernel='linear')",
      "text/html": "<style>#sk-container-id-4 {color: black;}#sk-container-id-4 pre{padding: 0;}#sk-container-id-4 div.sk-toggleable {background-color: white;}#sk-container-id-4 label.sk-toggleable__label {cursor: pointer;display: block;width: 100%;margin-bottom: 0;padding: 0.3em;box-sizing: border-box;text-align: center;}#sk-container-id-4 label.sk-toggleable__label-arrow:before {content: \"▸\";float: left;margin-right: 0.25em;color: #696969;}#sk-container-id-4 label.sk-toggleable__label-arrow:hover:before {color: black;}#sk-container-id-4 div.sk-estimator:hover label.sk-toggleable__label-arrow:before {color: black;}#sk-container-id-4 div.sk-toggleable__content {max-height: 0;max-width: 0;overflow: hidden;text-align: left;background-color: #f0f8ff;}#sk-container-id-4 div.sk-toggleable__content pre {margin: 0.2em;color: black;border-radius: 0.25em;background-color: #f0f8ff;}#sk-container-id-4 input.sk-toggleable__control:checked~div.sk-toggleable__content {max-height: 200px;max-width: 100%;overflow: auto;}#sk-container-id-4 input.sk-toggleable__control:checked~label.sk-toggleable__label-arrow:before {content: \"▾\";}#sk-container-id-4 div.sk-estimator input.sk-toggleable__control:checked~label.sk-toggleable__label {background-color: #d4ebff;}#sk-container-id-4 div.sk-label input.sk-toggleable__control:checked~label.sk-toggleable__label {background-color: #d4ebff;}#sk-container-id-4 input.sk-hidden--visually {border: 0;clip: rect(1px 1px 1px 1px);clip: rect(1px, 1px, 1px, 1px);height: 1px;margin: -1px;overflow: hidden;padding: 0;position: absolute;width: 1px;}#sk-container-id-4 div.sk-estimator {font-family: monospace;background-color: #f0f8ff;border: 1px dotted black;border-radius: 0.25em;box-sizing: border-box;margin-bottom: 0.5em;}#sk-container-id-4 div.sk-estimator:hover {background-color: #d4ebff;}#sk-container-id-4 div.sk-parallel-item::after {content: \"\";width: 100%;border-bottom: 1px solid gray;flex-grow: 1;}#sk-container-id-4 div.sk-label:hover label.sk-toggleable__label {background-color: #d4ebff;}#sk-container-id-4 div.sk-serial::before {content: \"\";position: absolute;border-left: 1px solid gray;box-sizing: border-box;top: 0;bottom: 0;left: 50%;z-index: 0;}#sk-container-id-4 div.sk-serial {display: flex;flex-direction: column;align-items: center;background-color: white;padding-right: 0.2em;padding-left: 0.2em;position: relative;}#sk-container-id-4 div.sk-item {position: relative;z-index: 1;}#sk-container-id-4 div.sk-parallel {display: flex;align-items: stretch;justify-content: center;background-color: white;position: relative;}#sk-container-id-4 div.sk-item::before, #sk-container-id-4 div.sk-parallel-item::before {content: \"\";position: absolute;border-left: 1px solid gray;box-sizing: border-box;top: 0;bottom: 0;left: 50%;z-index: -1;}#sk-container-id-4 div.sk-parallel-item {display: flex;flex-direction: column;z-index: 1;position: relative;background-color: white;}#sk-container-id-4 div.sk-parallel-item:first-child::after {align-self: flex-end;width: 50%;}#sk-container-id-4 div.sk-parallel-item:last-child::after {align-self: flex-start;width: 50%;}#sk-container-id-4 div.sk-parallel-item:only-child::after {width: 0;}#sk-container-id-4 div.sk-dashed-wrapped {border: 1px dashed gray;margin: 0 0.4em 0.5em 0.4em;box-sizing: border-box;padding-bottom: 0.4em;background-color: white;}#sk-container-id-4 div.sk-label label {font-family: monospace;font-weight: bold;display: inline-block;line-height: 1.2em;}#sk-container-id-4 div.sk-label-container {text-align: center;}#sk-container-id-4 div.sk-container {/* jupyter's `normalize.less` sets `[hidden] { display: none; }` but bootstrap.min.css set `[hidden] { display: none !important; }` so we also need the `!important` here to be able to override the default hidden behavior on the sphinx rendered scikit-learn.org. See: https://github.com/scikit-learn/scikit-learn/issues/21755 */display: inline-block !important;position: relative;}#sk-container-id-4 div.sk-text-repr-fallback {display: none;}</style><div id=\"sk-container-id-4\" class=\"sk-top-container\"><div class=\"sk-text-repr-fallback\"><pre>SVC(kernel=&#x27;linear&#x27;)</pre><b>In a Jupyter environment, please rerun this cell to show the HTML representation or trust the notebook. <br />On GitHub, the HTML representation is unable to render, please try loading this page with nbviewer.org.</b></div><div class=\"sk-container\" hidden><div class=\"sk-item\"><div class=\"sk-estimator sk-toggleable\"><input class=\"sk-toggleable__control sk-hidden--visually\" id=\"sk-estimator-id-4\" type=\"checkbox\" checked><label for=\"sk-estimator-id-4\" class=\"sk-toggleable__label sk-toggleable__label-arrow\">SVC</label><div class=\"sk-toggleable__content\"><pre>SVC(kernel=&#x27;linear&#x27;)</pre></div></div></div></div></div>"
     },
     "execution_count": 215,
     "metadata": {},
     "output_type": "execute_result"
    }
   ],
   "source": [
    "# Create an SVM classifier\n",
    "model = SVC(kernel='linear', C=1.0)\n",
    "\n",
    "# Train the classifier on the training data\n",
    "model.fit(xTrain, yTrain)"
   ],
   "metadata": {
    "collapsed": false,
    "ExecuteTime": {
     "end_time": "2024-01-02T09:17:00.566903100Z",
     "start_time": "2024-01-02T09:17:00.504418100Z"
    }
   }
  },
  {
   "cell_type": "code",
   "execution_count": 216,
   "outputs": [],
   "source": [
    "# Prediction on the Test data\n",
    "yPred = model.predict(xTest)\n"
   ],
   "metadata": {
    "collapsed": false,
    "ExecuteTime": {
     "end_time": "2024-01-02T09:17:00.566903100Z",
     "start_time": "2024-01-02T09:17:00.520040200Z"
    }
   }
  },
  {
   "cell_type": "code",
   "execution_count": 217,
   "outputs": [
    {
     "name": "stdout",
     "output_type": "stream",
     "text": [
      "Accuracy: 0.9666666666666667\n"
     ]
    }
   ],
   "source": [
    "# Accuracy of the data set\n",
    "accuracy = accuracy_score(yTest, yPred)\n",
    "print(f'Accuracy: {accuracy}')\n"
   ],
   "metadata": {
    "collapsed": false,
    "ExecuteTime": {
     "end_time": "2024-01-02T09:17:00.566903100Z",
     "start_time": "2024-01-02T09:17:00.535659900Z"
    }
   }
  },
  {
   "cell_type": "code",
   "execution_count": 218,
   "outputs": [
    {
     "name": "stdout",
     "output_type": "stream",
     "text": [
      "\n",
      "Classification Report:\n",
      "              precision    recall  f1-score   support\n",
      "\n",
      "           0       1.00      1.00      1.00        10\n",
      "           1       1.00      0.89      0.94         9\n",
      "           2       0.92      1.00      0.96        11\n",
      "\n",
      "    accuracy                           0.97        30\n",
      "   macro avg       0.97      0.96      0.97        30\n",
      "weighted avg       0.97      0.97      0.97        30\n",
      "\n"
     ]
    }
   ],
   "source": [
    "# Additional metrics\n",
    "print(\"\\nClassification Report:\")\n",
    "print(classification_report(yTest, yPred))"
   ],
   "metadata": {
    "collapsed": false,
    "ExecuteTime": {
     "end_time": "2024-01-02T09:17:00.696813100Z",
     "start_time": "2024-01-02T09:17:00.566903100Z"
    }
   }
  },
  {
   "cell_type": "code",
   "execution_count": 219,
   "outputs": [
    {
     "data": {
      "text/plain": "array([[10,  0,  0],\n       [ 0,  8,  1],\n       [ 0,  0, 11]], dtype=int64)"
     },
     "execution_count": 219,
     "metadata": {},
     "output_type": "execute_result"
    }
   ],
   "source": [
    "cm = confusion_matrix(yTest, yPred)\n",
    "cm"
   ],
   "metadata": {
    "collapsed": false,
    "ExecuteTime": {
     "end_time": "2024-01-02T09:17:00.697810900Z",
     "start_time": "2024-01-02T09:17:00.585856600Z"
    }
   }
  },
  {
   "cell_type": "code",
   "execution_count": 220,
   "outputs": [
    {
     "data": {
      "text/plain": "<Figure size 640x480 with 2 Axes>",
      "image/png": "[encoded data removed]"
     },
     "metadata": {},
     "output_type": "display_data"
    }
   ],
   "source": [
    "# Plot the confusion matrix using seaborn heatmap\n",
    "sns.heatmap(cm, annot=True, fmt=\"d\", cmap=\"Blues\", xticklabels=iris.target_names, yticklabels=iris.target_names)\n",
    "plt.xlabel('Predicted')\n",
    "plt.ylabel('True')\n",
    "plt.title('Confusion Matrix')\n",
    "plt.show()"
   ],
   "metadata": {
    "collapsed": false,
    "ExecuteTime": {
     "end_time": "2024-01-02T09:17:00.866303700Z",
     "start_time": "2024-01-02T09:17:00.603968500Z"
    }
   }
  }
 ],
 "metadata": {
  "kernelspec": {
   "display_name": "Python 3",
   "language": "python",
   "name": "python3"
  },
  "language_info": {
   "codemirror_mode": {
    "name": "ipython",
    "version": 2
   },
   "file_extension": ".py",
   "mimetype": "text/x-python",
   "name": "python",
   "nbconvert_exporter": "python",
   "pygments_lexer": "ipython2",
   "version": "2.7.6"
  }
 },
 "nbformat": 4,
 "nbformat_minor": 0
}
