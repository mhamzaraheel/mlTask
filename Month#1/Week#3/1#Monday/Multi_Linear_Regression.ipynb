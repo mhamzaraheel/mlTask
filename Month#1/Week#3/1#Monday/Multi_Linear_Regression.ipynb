{
 "cells": [
  {
   "cell_type": "code",
   "execution_count": 273,
   "outputs": [],
   "source": [
    "import numpy as np\n",
    "import pandas as pd\n",
    "import matplotlib.pyplot as plt\n",
    "from sklearn.linear_model import LinearRegression\n",
    "from sklearn.ensemble import IsolationForest\n",
    "from sklearn.preprocessing import StandardScaler\n",
    "from sklearn.model_selection import train_test_split\n",
    "from sklearn.metrics import mean_squared_error,mean_absolute_error"
   ],
   "metadata": {
    "collapsed": false,
    "ExecuteTime": {
     "end_time": "2024-01-02T07:26:22.597885700Z",
     "start_time": "2024-01-02T07:26:22.472906700Z"
    }
   }
  },
  {
   "cell_type": "code",
   "execution_count": 274,
   "metadata": {
    "collapsed": true,
    "ExecuteTime": {
     "end_time": "2024-01-02T07:26:22.613502800Z",
     "start_time": "2024-01-02T07:26:22.488530900Z"
    }
   },
   "outputs": [],
   "source": [
    "# Load the dataset\n",
    "file_path = 'data.csv'\n",
    "data = pd.read_csv(file_path)"
   ]
  },
  {
   "cell_type": "code",
   "execution_count": 275,
   "outputs": [
    {
     "data": {
      "text/plain": "                     date         price  bedrooms  bathrooms  sqft_living  \\\n0     2014-05-02 00:00:00  3.130000e+05       3.0       1.50         1340   \n1     2014-05-02 00:00:00  2.384000e+06       5.0       2.50         3650   \n2     2014-05-02 00:00:00  3.420000e+05       3.0       2.00         1930   \n3     2014-05-02 00:00:00  4.200000e+05       3.0       2.25         2000   \n4     2014-05-02 00:00:00  5.500000e+05       4.0       2.50         1940   \n...                   ...           ...       ...        ...          ...   \n4595  2014-07-09 00:00:00  3.081667e+05       3.0       1.75         1510   \n4596  2014-07-09 00:00:00  5.343333e+05       3.0       2.50         1460   \n4597  2014-07-09 00:00:00  4.169042e+05       3.0       2.50         3010   \n4598  2014-07-10 00:00:00  2.034000e+05       4.0       2.00         2090   \n4599  2014-07-10 00:00:00  2.206000e+05       3.0       2.50         1490   \n\n      sqft_lot  floors  waterfront  view  condition  sqft_above  \\\n0         7912     1.5           0     0          3        1340   \n1         9050     2.0           0     4          5        3370   \n2        11947     1.0           0     0          4        1930   \n3         8030     1.0           0     0          4        1000   \n4        10500     1.0           0     0          4        1140   \n...        ...     ...         ...   ...        ...         ...   \n4595      6360     1.0           0     0          4        1510   \n4596      7573     2.0           0     0          3        1460   \n4597      7014     2.0           0     0          3        3010   \n4598      6630     1.0           0     0          3        1070   \n4599      8102     2.0           0     0          4        1490   \n\n      sqft_basement  yr_built  yr_renovated                    street  \\\n0                 0      1955          2005      18810 Densmore Ave N   \n1               280      1921             0           709 W Blaine St   \n2                 0      1966             0  26206-26214 143rd Ave SE   \n3              1000      1963             0           857 170th Pl NE   \n4               800      1976          1992         9105 170th Ave NE   \n...             ...       ...           ...                       ...   \n4595              0      1954          1979            501 N 143rd St   \n4596              0      1983          2009          14855 SE 10th Pl   \n4597              0      2009             0          759 Ilwaco Pl NE   \n4598           1020      1974             0         5148 S Creston St   \n4599              0      1990             0         18717 SE 258th St   \n\n           city  statezip country  \n0     Shoreline  WA 98133     USA  \n1       Seattle  WA 98119     USA  \n2          Kent  WA 98042     USA  \n3      Bellevue  WA 98008     USA  \n4       Redmond  WA 98052     USA  \n...         ...       ...     ...  \n4595    Seattle  WA 98133     USA  \n4596   Bellevue  WA 98007     USA  \n4597     Renton  WA 98059     USA  \n4598    Seattle  WA 98178     USA  \n4599  Covington  WA 98042     USA  \n\n[4600 rows x 18 columns]",
      "text/html": "<div>\n<style scoped>\n    .dataframe tbody tr th:only-of-type {\n        vertical-align: middle;\n    }\n\n    .dataframe tbody tr th {\n        vertical-align: top;\n    }\n\n    .dataframe thead th {\n        text-align: right;\n    }\n</style>\n<table border=\"1\" class=\"dataframe\">\n  <thead>\n    <tr style=\"text-align: right;\">\n      <th></th>\n      <th>date</th>\n      <th>price</th>\n      <th>bedrooms</th>\n      <th>bathrooms</th>\n      <th>sqft_living</th>\n      <th>sqft_lot</th>\n      <th>floors</th>\n      <th>waterfront</th>\n      <th>view</th>\n      <th>condition</th>\n      <th>sqft_above</th>\n      <th>sqft_basement</th>\n      <th>yr_built</th>\n      <th>yr_renovated</th>\n      <th>street</th>\n      <th>city</th>\n      <th>statezip</th>\n      <th>country</th>\n    </tr>\n  </thead>\n  <tbody>\n    <tr>\n      <th>0</th>\n      <td>2014-05-02 00:00:00</td>\n      <td>3.130000e+05</td>\n      <td>3.0</td>\n      <td>1.50</td>\n      <td>1340</td>\n      <td>7912</td>\n      <td>1.5</td>\n      <td>0</td>\n      <td>0</td>\n      <td>3</td>\n      <td>1340</td>\n      <td>0</td>\n      <td>1955</td>\n      <td>2005</td>\n      <td>18810 Densmore Ave N</td>\n      <td>Shoreline</td>\n      <td>WA 98133</td>\n      <td>USA</td>\n    </tr>\n    <tr>\n      <th>1</th>\n      <td>2014-05-02 00:00:00</td>\n      <td>2.384000e+06</td>\n      <td>5.0</td>\n      <td>2.50</td>\n      <td>3650</td>\n      <td>9050</td>\n      <td>2.0</td>\n      <td>0</td>\n      <td>4</td>\n      <td>5</td>\n      <td>3370</td>\n      <td>280</td>\n      <td>1921</td>\n      <td>0</td>\n      <td>709 W Blaine St</td>\n      <td>Seattle</td>\n      <td>WA 98119</td>\n      <td>USA</td>\n    </tr>\n    <tr>\n      <th>2</th>\n      <td>2014-05-02 00:00:00</td>\n      <td>3.420000e+05</td>\n      <td>3.0</td>\n      <td>2.00</td>\n      <td>1930</td>\n      <td>11947</td>\n      <td>1.0</td>\n      <td>0</td>\n      <td>0</td>\n      <td>4</td>\n      <td>1930</td>\n      <td>0</td>\n      <td>1966</td>\n      <td>0</td>\n      <td>26206-26214 143rd Ave SE</td>\n      <td>Kent</td>\n      <td>WA 98042</td>\n      <td>USA</td>\n    </tr>\n    <tr>\n      <th>3</th>\n      <td>2014-05-02 00:00:00</td>\n      <td>4.200000e+05</td>\n      <td>3.0</td>\n      <td>2.25</td>\n      <td>2000</td>\n      <td>8030</td>\n      <td>1.0</td>\n      <td>0</td>\n      <td>0</td>\n      <td>4</td>\n      <td>1000</td>\n      <td>1000</td>\n      <td>1963</td>\n      <td>0</td>\n      <td>857 170th Pl NE</td>\n      <td>Bellevue</td>\n      <td>WA 98008</td>\n      <td>USA</td>\n    </tr>\n    <tr>\n      <th>4</th>\n      <td>2014-05-02 00:00:00</td>\n      <td>5.500000e+05</td>\n      <td>4.0</td>\n      <td>2.50</td>\n      <td>1940</td>\n      <td>10500</td>\n      <td>1.0</td>\n      <td>0</td>\n      <td>0</td>\n      <td>4</td>\n      <td>1140</td>\n      <td>800</td>\n      <td>1976</td>\n      <td>1992</td>\n      <td>9105 170th Ave NE</td>\n      <td>Redmond</td>\n      <td>WA 98052</td>\n      <td>USA</td>\n    </tr>\n    <tr>\n      <th>...</th>\n      <td>...</td>\n      <td>...</td>\n      <td>...</td>\n      <td>...</td>\n      <td>...</td>\n      <td>...</td>\n      <td>...</td>\n      <td>...</td>\n      <td>...</td>\n      <td>...</td>\n      <td>...</td>\n      <td>...</td>\n      <td>...</td>\n      <td>...</td>\n      <td>...</td>\n      <td>...</td>\n      <td>...</td>\n      <td>...</td>\n    </tr>\n    <tr>\n      <th>4595</th>\n      <td>2014-07-09 00:00:00</td>\n      <td>3.081667e+05</td>\n      <td>3.0</td>\n      <td>1.75</td>\n      <td>1510</td>\n      <td>6360</td>\n      <td>1.0</td>\n      <td>0</td>\n      <td>0</td>\n      <td>4</td>\n      <td>1510</td>\n      <td>0</td>\n      <td>1954</td>\n      <td>1979</td>\n      <td>501 N 143rd St</td>\n      <td>Seattle</td>\n      <td>WA 98133</td>\n      <td>USA</td>\n    </tr>\n    <tr>\n      <th>4596</th>\n      <td>2014-07-09 00:00:00</td>\n      <td>5.343333e+05</td>\n      <td>3.0</td>\n      <td>2.50</td>\n      <td>1460</td>\n      <td>7573</td>\n      <td>2.0</td>\n      <td>0</td>\n      <td>0</td>\n      <td>3</td>\n      <td>1460</td>\n      <td>0</td>\n      <td>1983</td>\n      <td>2009</td>\n      <td>14855 SE 10th Pl</td>\n      <td>Bellevue</td>\n      <td>WA 98007</td>\n      <td>USA</td>\n    </tr>\n    <tr>\n      <th>4597</th>\n      <td>2014-07-09 00:00:00</td>\n      <td>4.169042e+05</td>\n      <td>3.0</td>\n      <td>2.50</td>\n      <td>3010</td>\n      <td>7014</td>\n      <td>2.0</td>\n      <td>0</td>\n      <td>0</td>\n      <td>3</td>\n      <td>3010</td>\n      <td>0</td>\n      <td>2009</td>\n      <td>0</td>\n      <td>759 Ilwaco Pl NE</td>\n      <td>Renton</td>\n      <td>WA 98059</td>\n      <td>USA</td>\n    </tr>\n    <tr>\n      <th>4598</th>\n      <td>2014-07-10 00:00:00</td>\n      <td>2.034000e+05</td>\n      <td>4.0</td>\n      <td>2.00</td>\n      <td>2090</td>\n      <td>6630</td>\n      <td>1.0</td>\n      <td>0</td>\n      <td>0</td>\n      <td>3</td>\n      <td>1070</td>\n      <td>1020</td>\n      <td>1974</td>\n      <td>0</td>\n      <td>5148 S Creston St</td>\n      <td>Seattle</td>\n      <td>WA 98178</td>\n      <td>USA</td>\n    </tr>\n    <tr>\n      <th>4599</th>\n      <td>2014-07-10 00:00:00</td>\n      <td>2.206000e+05</td>\n      <td>3.0</td>\n      <td>2.50</td>\n      <td>1490</td>\n      <td>8102</td>\n      <td>2.0</td>\n      <td>0</td>\n      <td>0</td>\n      <td>4</td>\n      <td>1490</td>\n      <td>0</td>\n      <td>1990</td>\n      <td>0</td>\n      <td>18717 SE 258th St</td>\n      <td>Covington</td>\n      <td>WA 98042</td>\n      <td>USA</td>\n    </tr>\n  </tbody>\n</table>\n<p>4600 rows × 18 columns</p>\n</div>"
     },
     "execution_count": 275,
     "metadata": {},
     "output_type": "execute_result"
    }
   ],
   "source": [
    "data"
   ],
   "metadata": {
    "collapsed": false,
    "ExecuteTime": {
     "end_time": "2024-01-02T07:26:22.613502800Z",
     "start_time": "2024-01-02T07:26:22.519773100Z"
    }
   }
  },
  {
   "cell_type": "code",
   "execution_count": 276,
   "outputs": [
    {
     "name": "stdout",
     "output_type": "stream",
     "text": [
      "There are 4600 rows in the dataset.\n",
      "Shape of Data is (4600, 18)\n"
     ]
    }
   ],
   "source": [
    "# check the length and shape of the data\n",
    "print(f\"There are {len(data)} rows in the dataset.\")\n",
    "print(f\"Shape of Data is {data.shape}\",) # >>> (rows , columns)"
   ],
   "metadata": {
    "collapsed": false,
    "ExecuteTime": {
     "end_time": "2024-01-02T07:26:22.613502800Z",
     "start_time": "2024-01-02T07:26:22.566634500Z"
    }
   }
  },
  {
   "cell_type": "code",
   "execution_count": 277,
   "outputs": [],
   "source": [
    "# remove the columns that are not in number\n",
    "columns_to_remove = ['date', 'street','waterfront' ,'city', 'statezip', 'country']\n",
    "data = data.drop(columns=columns_to_remove)"
   ],
   "metadata": {
    "collapsed": false,
    "ExecuteTime": {
     "end_time": "2024-01-02T07:26:22.613502800Z",
     "start_time": "2024-01-02T07:26:22.582255700Z"
    }
   }
  },
  {
   "cell_type": "code",
   "execution_count": 278,
   "outputs": [
    {
     "data": {
      "text/plain": "             price  bedrooms  bathrooms  sqft_living  sqft_lot  floors  view  \\\n0     3.130000e+05       3.0       1.50         1340      7912     1.5     0   \n1     2.384000e+06       5.0       2.50         3650      9050     2.0     4   \n2     3.420000e+05       3.0       2.00         1930     11947     1.0     0   \n3     4.200000e+05       3.0       2.25         2000      8030     1.0     0   \n4     5.500000e+05       4.0       2.50         1940     10500     1.0     0   \n...            ...       ...        ...          ...       ...     ...   ...   \n4595  3.081667e+05       3.0       1.75         1510      6360     1.0     0   \n4596  5.343333e+05       3.0       2.50         1460      7573     2.0     0   \n4597  4.169042e+05       3.0       2.50         3010      7014     2.0     0   \n4598  2.034000e+05       4.0       2.00         2090      6630     1.0     0   \n4599  2.206000e+05       3.0       2.50         1490      8102     2.0     0   \n\n      condition  sqft_above  sqft_basement  yr_built  yr_renovated  \n0             3        1340              0      1955          2005  \n1             5        3370            280      1921             0  \n2             4        1930              0      1966             0  \n3             4        1000           1000      1963             0  \n4             4        1140            800      1976          1992  \n...         ...         ...            ...       ...           ...  \n4595          4        1510              0      1954          1979  \n4596          3        1460              0      1983          2009  \n4597          3        3010              0      2009             0  \n4598          3        1070           1020      1974             0  \n4599          4        1490              0      1990             0  \n\n[4600 rows x 12 columns]",
      "text/html": "<div>\n<style scoped>\n    .dataframe tbody tr th:only-of-type {\n        vertical-align: middle;\n    }\n\n    .dataframe tbody tr th {\n        vertical-align: top;\n    }\n\n    .dataframe thead th {\n        text-align: right;\n    }\n</style>\n<table border=\"1\" class=\"dataframe\">\n  <thead>\n    <tr style=\"text-align: right;\">\n      <th></th>\n      <th>price</th>\n      <th>bedrooms</th>\n      <th>bathrooms</th>\n      <th>sqft_living</th>\n      <th>sqft_lot</th>\n      <th>floors</th>\n      <th>view</th>\n      <th>condition</th>\n      <th>sqft_above</th>\n      <th>sqft_basement</th>\n      <th>yr_built</th>\n      <th>yr_renovated</th>\n    </tr>\n  </thead>\n  <tbody>\n    <tr>\n      <th>0</th>\n      <td>3.130000e+05</td>\n      <td>3.0</td>\n      <td>1.50</td>\n      <td>1340</td>\n      <td>7912</td>\n      <td>1.5</td>\n      <td>0</td>\n      <td>3</td>\n      <td>1340</td>\n      <td>0</td>\n      <td>1955</td>\n      <td>2005</td>\n    </tr>\n    <tr>\n      <th>1</th>\n      <td>2.384000e+06</td>\n      <td>5.0</td>\n      <td>2.50</td>\n      <td>3650</td>\n      <td>9050</td>\n      <td>2.0</td>\n      <td>4</td>\n      <td>5</td>\n      <td>3370</td>\n      <td>280</td>\n      <td>1921</td>\n      <td>0</td>\n    </tr>\n    <tr>\n      <th>2</th>\n      <td>3.420000e+05</td>\n      <td>3.0</td>\n      <td>2.00</td>\n      <td>1930</td>\n      <td>11947</td>\n      <td>1.0</td>\n      <td>0</td>\n      <td>4</td>\n      <td>1930</td>\n      <td>0</td>\n      <td>1966</td>\n      <td>0</td>\n    </tr>\n    <tr>\n      <th>3</th>\n      <td>4.200000e+05</td>\n      <td>3.0</td>\n      <td>2.25</td>\n      <td>2000</td>\n      <td>8030</td>\n      <td>1.0</td>\n      <td>0</td>\n      <td>4</td>\n      <td>1000</td>\n      <td>1000</td>\n      <td>1963</td>\n      <td>0</td>\n    </tr>\n    <tr>\n      <th>4</th>\n      <td>5.500000e+05</td>\n      <td>4.0</td>\n      <td>2.50</td>\n      <td>1940</td>\n      <td>10500</td>\n      <td>1.0</td>\n      <td>0</td>\n      <td>4</td>\n      <td>1140</td>\n      <td>800</td>\n      <td>1976</td>\n      <td>1992</td>\n    </tr>\n    <tr>\n      <th>...</th>\n      <td>...</td>\n      <td>...</td>\n      <td>...</td>\n      <td>...</td>\n      <td>...</td>\n      <td>...</td>\n      <td>...</td>\n      <td>...</td>\n      <td>...</td>\n      <td>...</td>\n      <td>...</td>\n      <td>...</td>\n    </tr>\n    <tr>\n      <th>4595</th>\n      <td>3.081667e+05</td>\n      <td>3.0</td>\n      <td>1.75</td>\n      <td>1510</td>\n      <td>6360</td>\n      <td>1.0</td>\n      <td>0</td>\n      <td>4</td>\n      <td>1510</td>\n      <td>0</td>\n      <td>1954</td>\n      <td>1979</td>\n    </tr>\n    <tr>\n      <th>4596</th>\n      <td>5.343333e+05</td>\n      <td>3.0</td>\n      <td>2.50</td>\n      <td>1460</td>\n      <td>7573</td>\n      <td>2.0</td>\n      <td>0</td>\n      <td>3</td>\n      <td>1460</td>\n      <td>0</td>\n      <td>1983</td>\n      <td>2009</td>\n    </tr>\n    <tr>\n      <th>4597</th>\n      <td>4.169042e+05</td>\n      <td>3.0</td>\n      <td>2.50</td>\n      <td>3010</td>\n      <td>7014</td>\n      <td>2.0</td>\n      <td>0</td>\n      <td>3</td>\n      <td>3010</td>\n      <td>0</td>\n      <td>2009</td>\n      <td>0</td>\n    </tr>\n    <tr>\n      <th>4598</th>\n      <td>2.034000e+05</td>\n      <td>4.0</td>\n      <td>2.00</td>\n      <td>2090</td>\n      <td>6630</td>\n      <td>1.0</td>\n      <td>0</td>\n      <td>3</td>\n      <td>1070</td>\n      <td>1020</td>\n      <td>1974</td>\n      <td>0</td>\n    </tr>\n    <tr>\n      <th>4599</th>\n      <td>2.206000e+05</td>\n      <td>3.0</td>\n      <td>2.50</td>\n      <td>1490</td>\n      <td>8102</td>\n      <td>2.0</td>\n      <td>0</td>\n      <td>4</td>\n      <td>1490</td>\n      <td>0</td>\n      <td>1990</td>\n      <td>0</td>\n    </tr>\n  </tbody>\n</table>\n<p>4600 rows × 12 columns</p>\n</div>"
     },
     "execution_count": 278,
     "metadata": {},
     "output_type": "execute_result"
    }
   ],
   "source": [
    "data"
   ],
   "metadata": {
    "collapsed": false,
    "ExecuteTime": {
     "end_time": "2024-01-02T07:26:22.660363800Z",
     "start_time": "2024-01-02T07:26:22.597885700Z"
    }
   }
  },
  {
   "cell_type": "code",
   "execution_count": 279,
   "outputs": [
    {
     "name": "stdout",
     "output_type": "stream",
     "text": [
      "Shape of Data is (4600, 12)\n"
     ]
    }
   ],
   "source": [
    "# shape after dropping some columns\n",
    "print(f\"Shape of Data is {data.shape}\",) # >>> (rows , columns)"
   ],
   "metadata": {
    "collapsed": false,
    "ExecuteTime": {
     "end_time": "2024-01-02T07:26:22.722858400Z",
     "start_time": "2024-01-02T07:26:22.629119900Z"
    }
   }
  },
  {
   "cell_type": "code",
   "execution_count": 280,
   "outputs": [
    {
     "name": "stdout",
     "output_type": "stream",
     "text": [
      "\n",
      "There are 0 duplicate data.\n"
     ]
    }
   ],
   "source": [
    "# to check the duplication in out text\n",
    "total_duplicate_titles = sum(data.duplicated())\n",
    "print(f\"\\nThere are {total_duplicate_titles} duplicate data.\")"
   ],
   "metadata": {
    "collapsed": false,
    "ExecuteTime": {
     "end_time": "2024-01-02T07:26:22.775735500Z",
     "start_time": "2024-01-02T07:26:22.644744900Z"
    }
   }
  },
  {
   "cell_type": "code",
   "execution_count": 281,
   "outputs": [
    {
     "name": "stdout",
     "output_type": "stream",
     "text": [
      "Columns with Missing Values:\n",
      "Series([], dtype: int64)\n"
     ]
    }
   ],
   "source": [
    "# Count the missing values in each column\n",
    "missing_count = data.isnull().sum()\n",
    "# Display columns with missing values\n",
    "print(\"Columns with Missing Values:\")\n",
    "print(missing_count[missing_count > 0])"
   ],
   "metadata": {
    "collapsed": false,
    "ExecuteTime": {
     "end_time": "2024-01-02T07:26:22.904498900Z",
     "start_time": "2024-01-02T07:26:22.675983900Z"
    }
   }
  },
  {
   "cell_type": "code",
   "execution_count": 282,
   "outputs": [],
   "source": [
    "# # # finding the outliers in our data\n",
    "# clf = IsolationForest(contamination=0.05)\n",
    "# outliers = clf.fit_predict(data) == -1\n",
    "# outliers"
   ],
   "metadata": {
    "collapsed": false,
    "ExecuteTime": {
     "end_time": "2024-01-02T07:26:22.951361Z",
     "start_time": "2024-01-02T07:26:22.691605500Z"
    }
   }
  },
  {
   "cell_type": "code",
   "execution_count": 283,
   "outputs": [],
   "source": [
    "# # # Identify the indices of the rows containing outliers\n",
    "# outlier_indices = data.index[outliers]\n",
    "# # Remove the rows with outliers\n",
    "# data = data.drop(outlier_indices)\n"
   ],
   "metadata": {
    "collapsed": false,
    "ExecuteTime": {
     "end_time": "2024-01-02T07:26:22.966982500Z",
     "start_time": "2024-01-02T07:26:22.722858400Z"
    }
   }
  },
  {
   "cell_type": "code",
   "execution_count": 284,
   "outputs": [
    {
     "name": "stdout",
     "output_type": "stream",
     "text": [
      "There are 4600 rows in the dataset after removing the outliers.\n",
      "Shape of Data is (4600, 12)\n"
     ]
    }
   ],
   "source": [
    "# check the length and shape of the data\n",
    "print(f\"There are {len(data)} rows in the dataset after removing the outliers.\")\n",
    "print(f\"Shape of Data is {data.shape}\",) # >>> (rows , columns)"
   ],
   "metadata": {
    "collapsed": false,
    "ExecuteTime": {
     "end_time": "2024-01-02T07:26:22.982604200Z",
     "start_time": "2024-01-02T07:26:22.722858400Z"
    }
   }
  },
  {
   "cell_type": "code",
   "execution_count": 285,
   "outputs": [
    {
     "data": {
      "text/plain": "(4600, 4600)"
     },
     "execution_count": 285,
     "metadata": {},
     "output_type": "execute_result"
    }
   ],
   "source": [
    "# Our data set  <<Features>> <<Labels>>\n",
    "x = data.iloc[:, 1:data.shape[1]]\n",
    "y = data.iloc[:, 0]\n",
    "len(x), len(y)"
   ],
   "metadata": {
    "collapsed": false,
    "ExecuteTime": {
     "end_time": "2024-01-02T07:26:22.982604200Z",
     "start_time": "2024-01-02T07:26:22.738469600Z"
    }
   }
  },
  {
   "cell_type": "code",
   "execution_count": 286,
   "outputs": [],
   "source": [
    "# num_features = x.shape[1]\n",
    "#\n",
    "# # Determine the number of rows and columns for subplots\n",
    "# num_rows = int(np.ceil(num_features / 3))\n",
    "# num_cols = min(num_features, 3)\n",
    "#\n",
    "# fig, axes = plt.subplots(num_rows, num_cols, figsize=(15, 5*num_rows))\n",
    "# axes = axes.flatten()\n",
    "#\n",
    "# # Loop through each column and plot the scatter plot in the corresponding subplot\n",
    "# for feature_index, ax in enumerate(axes):\n",
    "#     if feature_index < num_features:\n",
    "#         chosen_feature = x.iloc[:, feature_index]\n",
    "#\n",
    "#         ax.scatter(chosen_feature, y, color='black')\n",
    "#         ax.set_xlabel(f'Feature {feature_index}')\n",
    "#         ax.set_ylabel('y')\n",
    "#         ax.set_title(f'Scatter Plot for Feature {feature_index} against y')\n",
    "#\n",
    "# # Adjust layout for better spacing\n",
    "# plt.tight_layout()\n",
    "# plt.show()\n"
   ],
   "metadata": {
    "collapsed": false,
    "ExecuteTime": {
     "end_time": "2024-01-02T07:26:22.982604200Z",
     "start_time": "2024-01-02T07:26:22.760113100Z"
    }
   }
  },
  {
   "cell_type": "code",
   "execution_count": 287,
   "outputs": [],
   "source": [
    "# # Columns which you want to show on the graph\n",
    "# chosen_feature_index = 0"
   ],
   "metadata": {
    "collapsed": false,
    "ExecuteTime": {
     "end_time": "2024-01-02T07:26:22.982604200Z",
     "start_time": "2024-01-02T07:26:22.791357100Z"
    }
   }
  },
  {
   "cell_type": "code",
   "execution_count": 288,
   "outputs": [],
   "source": [
    "# # Choose a specific feature from x data  (e.g., the first feature)\n",
    "# chosen_feature = x.iloc[:, chosen_feature_index]\n",
    "#\n",
    "# plt.scatter(chosen_feature, y, color='black')\n",
    "# plt.xlabel('Chosen Feature')\n",
    "# plt.ylabel('y')\n",
    "# plt.title('Data Before the Normalization')\n",
    "# plt.show()\n"
   ],
   "metadata": {
    "collapsed": false,
    "ExecuteTime": {
     "end_time": "2024-01-02T07:26:23.037450Z",
     "start_time": "2024-01-02T07:26:22.806979800Z"
    }
   }
  },
  {
   "cell_type": "code",
   "execution_count": 289,
   "outputs": [
    {
     "data": {
      "text/plain": "array([[-0.44112227, -0.84320364, -0.82997105, ..., -0.67246372,\n        -0.53101376,  1.22167046],\n       [ 1.75970468,  0.43280154,  1.56852826, ..., -0.06912828,\n        -1.67469295, -0.82569345],\n       [-0.44112227, -0.20520105, -0.21736733, ..., -0.67246372,\n        -0.1609999 , -0.82569345],\n       ...,\n       [-0.44112227,  0.43280154,  0.90400897, ..., -0.67246372,\n         1.2854179 , -0.82569345],\n       [ 0.6592912 , -0.20520105, -0.05123751, ...,  1.5254011 ,\n         0.10810108, -0.82569345],\n       [-0.44112227,  0.43280154, -0.67422434, ..., -0.67246372,\n         0.64630305, -0.82569345]])"
     },
     "execution_count": 289,
     "metadata": {},
     "output_type": "execute_result"
    }
   ],
   "source": [
    "# standardize/ Normalize the data\n",
    "scaler = StandardScaler()\n",
    "x = scaler.fit_transform(x)\n",
    "x"
   ],
   "metadata": {
    "collapsed": false,
    "ExecuteTime": {
     "end_time": "2024-01-02T07:26:23.053072400Z",
     "start_time": "2024-01-02T07:26:22.826389400Z"
    }
   }
  },
  {
   "cell_type": "code",
   "execution_count": 290,
   "outputs": [],
   "source": [
    "# num_features = x.shape[1]\n",
    "#\n",
    "# # Determine the number of rows and columns for subplots\n",
    "# num_rows = int(np.ceil(num_features / 3))\n",
    "# num_cols = min(num_features, 3)\n",
    "#\n",
    "# fig, axes = plt.subplots(num_rows, num_cols, figsize=(15, 5*num_rows))\n",
    "# axes = axes.flatten()\n",
    "#\n",
    "# # Loop through each column and plot the scatter plot in the corresponding subplot\n",
    "# for feature_index, ax in enumerate(axes):\n",
    "#     if feature_index < num_features:\n",
    "#         chosen_feature = x[:, feature_index]\n",
    "#\n",
    "#         ax.scatter(chosen_feature, y, color='black')\n",
    "#         ax.set_xlabel(f'Feature {feature_index}')\n",
    "#         ax.set_ylabel('y')\n",
    "#         ax.set_title(f'Scatter Plot for Feature {feature_index} against y')\n",
    "#\n",
    "# # Adjust layout for better spacing\n",
    "# plt.tight_layout()\n",
    "# plt.show()\n"
   ],
   "metadata": {
    "collapsed": false,
    "ExecuteTime": {
     "end_time": "2024-01-02T07:26:23.053072400Z",
     "start_time": "2024-01-02T07:26:22.857633500Z"
    }
   }
  },
  {
   "cell_type": "code",
   "execution_count": 291,
   "outputs": [
    {
     "data": {
      "text/plain": "(3680, 3680, 920, 920)"
     },
     "execution_count": 291,
     "metadata": {},
     "output_type": "execute_result"
    }
   ],
   "source": [
    "# Split the data into train and test\n",
    "xTrain, xTest, yTrain, yTest = train_test_split(x,y,random_state=14,test_size=0.2)\n",
    "len(xTrain), len(yTrain), len(xTest), len(yTest)"
   ],
   "metadata": {
    "collapsed": false,
    "ExecuteTime": {
     "end_time": "2024-01-02T07:26:23.053072400Z",
     "start_time": "2024-01-02T07:26:22.873254900Z"
    }
   }
  },
  {
   "cell_type": "code",
   "execution_count": 292,
   "outputs": [
    {
     "data": {
      "text/plain": "LinearRegression()",
      "text/html": "<style>#sk-container-id-10 {color: black;}#sk-container-id-10 pre{padding: 0;}#sk-container-id-10 div.sk-toggleable {background-color: white;}#sk-container-id-10 label.sk-toggleable__label {cursor: pointer;display: block;width: 100%;margin-bottom: 0;padding: 0.3em;box-sizing: border-box;text-align: center;}#sk-container-id-10 label.sk-toggleable__label-arrow:before {content: \"▸\";float: left;margin-right: 0.25em;color: #696969;}#sk-container-id-10 label.sk-toggleable__label-arrow:hover:before {color: black;}#sk-container-id-10 div.sk-estimator:hover label.sk-toggleable__label-arrow:before {color: black;}#sk-container-id-10 div.sk-toggleable__content {max-height: 0;max-width: 0;overflow: hidden;text-align: left;background-color: #f0f8ff;}#sk-container-id-10 div.sk-toggleable__content pre {margin: 0.2em;color: black;border-radius: 0.25em;background-color: #f0f8ff;}#sk-container-id-10 input.sk-toggleable__control:checked~div.sk-toggleable__content {max-height: 200px;max-width: 100%;overflow: auto;}#sk-container-id-10 input.sk-toggleable__control:checked~label.sk-toggleable__label-arrow:before {content: \"▾\";}#sk-container-id-10 div.sk-estimator input.sk-toggleable__control:checked~label.sk-toggleable__label {background-color: #d4ebff;}#sk-container-id-10 div.sk-label input.sk-toggleable__control:checked~label.sk-toggleable__label {background-color: #d4ebff;}#sk-container-id-10 input.sk-hidden--visually {border: 0;clip: rect(1px 1px 1px 1px);clip: rect(1px, 1px, 1px, 1px);height: 1px;margin: -1px;overflow: hidden;padding: 0;position: absolute;width: 1px;}#sk-container-id-10 div.sk-estimator {font-family: monospace;background-color: #f0f8ff;border: 1px dotted black;border-radius: 0.25em;box-sizing: border-box;margin-bottom: 0.5em;}#sk-container-id-10 div.sk-estimator:hover {background-color: #d4ebff;}#sk-container-id-10 div.sk-parallel-item::after {content: \"\";width: 100%;border-bottom: 1px solid gray;flex-grow: 1;}#sk-container-id-10 div.sk-label:hover label.sk-toggleable__label {background-color: #d4ebff;}#sk-container-id-10 div.sk-serial::before {content: \"\";position: absolute;border-left: 1px solid gray;box-sizing: border-box;top: 0;bottom: 0;left: 50%;z-index: 0;}#sk-container-id-10 div.sk-serial {display: flex;flex-direction: column;align-items: center;background-color: white;padding-right: 0.2em;padding-left: 0.2em;position: relative;}#sk-container-id-10 div.sk-item {position: relative;z-index: 1;}#sk-container-id-10 div.sk-parallel {display: flex;align-items: stretch;justify-content: center;background-color: white;position: relative;}#sk-container-id-10 div.sk-item::before, #sk-container-id-10 div.sk-parallel-item::before {content: \"\";position: absolute;border-left: 1px solid gray;box-sizing: border-box;top: 0;bottom: 0;left: 50%;z-index: -1;}#sk-container-id-10 div.sk-parallel-item {display: flex;flex-direction: column;z-index: 1;position: relative;background-color: white;}#sk-container-id-10 div.sk-parallel-item:first-child::after {align-self: flex-end;width: 50%;}#sk-container-id-10 div.sk-parallel-item:last-child::after {align-self: flex-start;width: 50%;}#sk-container-id-10 div.sk-parallel-item:only-child::after {width: 0;}#sk-container-id-10 div.sk-dashed-wrapped {border: 1px dashed gray;margin: 0 0.4em 0.5em 0.4em;box-sizing: border-box;padding-bottom: 0.4em;background-color: white;}#sk-container-id-10 div.sk-label label {font-family: monospace;font-weight: bold;display: inline-block;line-height: 1.2em;}#sk-container-id-10 div.sk-label-container {text-align: center;}#sk-container-id-10 div.sk-container {/* jupyter's `normalize.less` sets `[hidden] { display: none; }` but bootstrap.min.css set `[hidden] { display: none !important; }` so we also need the `!important` here to be able to override the default hidden behavior on the sphinx rendered scikit-learn.org. See: https://github.com/scikit-learn/scikit-learn/issues/21755 */display: inline-block !important;position: relative;}#sk-container-id-10 div.sk-text-repr-fallback {display: none;}</style><div id=\"sk-container-id-10\" class=\"sk-top-container\"><div class=\"sk-text-repr-fallback\"><pre>LinearRegression()</pre><b>In a Jupyter environment, please rerun this cell to show the HTML representation or trust the notebook. <br />On GitHub, the HTML representation is unable to render, please try loading this page with nbviewer.org.</b></div><div class=\"sk-container\" hidden><div class=\"sk-item\"><div class=\"sk-estimator sk-toggleable\"><input class=\"sk-toggleable__control sk-hidden--visually\" id=\"sk-estimator-id-10\" type=\"checkbox\" checked><label for=\"sk-estimator-id-10\" class=\"sk-toggleable__label sk-toggleable__label-arrow\">LinearRegression</label><div class=\"sk-toggleable__content\"><pre>LinearRegression()</pre></div></div></div></div></div>"
     },
     "execution_count": 292,
     "metadata": {},
     "output_type": "execute_result"
    }
   ],
   "source": [
    "# Train the model\n",
    "model = LinearRegression()\n",
    "model.fit(xTrain, yTrain)"
   ],
   "metadata": {
    "collapsed": false,
    "ExecuteTime": {
     "end_time": "2024-01-02T07:26:23.170321100Z",
     "start_time": "2024-01-02T07:26:22.904498900Z"
    }
   }
  },
  {
   "cell_type": "code",
   "execution_count": 293,
   "outputs": [],
   "source": [
    "# Prediction on the Test data\n",
    "yPred = model.predict(xTest)\n"
   ],
   "metadata": {
    "collapsed": false,
    "ExecuteTime": {
     "end_time": "2024-01-02T07:26:23.170321100Z",
     "start_time": "2024-01-02T07:26:22.951361Z"
    }
   }
  },
  {
   "cell_type": "code",
   "execution_count": 294,
   "outputs": [
    {
     "name": "stdout",
     "output_type": "stream",
     "text": [
      "Mean Absolute Error: 155767.44838611037\n",
      "Mean Squared Error: 56381358977.83626\n",
      "Root Mean Squared Error: 237447.5920657783\n"
     ]
    }
   ],
   "source": [
    "# Finding the mean squared error\n",
    "mae = mean_absolute_error(yTest, yPred)\n",
    "print(f'Mean Absolute Error: {mae}')\n",
    "\n",
    "# Calculate Mean Squared Error (MSE)\n",
    "mse = mean_squared_error(yTest, yPred)\n",
    "print(f'Mean Squared Error: {mse}')\n",
    "\n",
    "# Calculate Root Mean Squared Error (RMSE)\n",
    "rmse = np.sqrt(mse)\n",
    "print(f'Root Mean Squared Error: {rmse}')"
   ],
   "metadata": {
    "collapsed": false,
    "ExecuteTime": {
     "end_time": "2024-01-02T07:26:23.170321100Z",
     "start_time": "2024-01-02T07:26:22.966982500Z"
    }
   }
  },
  {
   "cell_type": "code",
   "execution_count": 295,
   "outputs": [
    {
     "data": {
      "text/plain": "0.5779431668247565"
     },
     "execution_count": 295,
     "metadata": {},
     "output_type": "execute_result"
    }
   ],
   "source": [
    "sc=model.score(xTest,yTest)\n",
    "sc"
   ],
   "metadata": {
    "collapsed": false,
    "ExecuteTime": {
     "end_time": "2024-01-02T07:26:23.170321100Z",
     "start_time": "2024-01-02T07:26:22.982604200Z"
    }
   }
  },
  {
   "cell_type": "code",
   "execution_count": 296,
   "outputs": [],
   "source": [
    "# num_features = x.shape[1]\n",
    "#\n",
    "# # Determine the number of rows and columns for subplots\n",
    "# num_rows = int(np.ceil(num_features / 3))\n",
    "# num_cols = min(num_features, 3)\n",
    "#\n",
    "# fig, axes = plt.subplots(num_rows, num_cols, figsize=(15, 5*num_rows))\n",
    "# axes = axes.flatten()\n",
    "#\n",
    "# # Loop through each column and plot the scatter plot in the corresponding subplot\n",
    "# for feature_index, ax in enumerate(axes):\n",
    "#     if feature_index < num_features:\n",
    "#         chosen_feature = xTest[:, feature_index]\n",
    "#\n",
    "#         ax.scatter(chosen_feature, yTest, color='black')\n",
    "#         ax.plot(chosen_feature, yPred, color='blue', linewidth=3)\n",
    "#         ax.set_xlabel(f'Feature {feature_index}')\n",
    "#         ax.set_ylabel('y')\n",
    "#         ax.set_title(f'Scatter Plot for Feature {feature_index} against y')\n",
    "#\n",
    "# # Adjust layout for better spacing\n",
    "# plt.tight_layout()\n",
    "# plt.show()\n"
   ],
   "metadata": {
    "collapsed": false,
    "ExecuteTime": {
     "end_time": "2024-01-02T07:26:23.196039400Z",
     "start_time": "2024-01-02T07:26:22.982604200Z"
    }
   }
  },
  {
   "cell_type": "code",
   "execution_count": 297,
   "outputs": [],
   "source": [
    "# # Choose a specific feature from xTest (e.g., the first feature)\n",
    "# chosen_feature = xTest[:, chosen_feature_index]\n",
    "#\n",
    "# # Plot the regression line\n",
    "# plt.scatter(chosen_feature, yTest, color='black')\n",
    "# plt.plot(chosen_feature, yPred, color='blue', linewidth=3)\n",
    "# plt.xlabel('Chosen Feature')\n",
    "# plt.ylabel('y')\n",
    "# plt.title('Linear Regression')\n",
    "# plt.show()\n"
   ],
   "metadata": {
    "collapsed": false,
    "ExecuteTime": {
     "end_time": "2024-01-02T07:26:23.233693800Z",
     "start_time": "2024-01-02T07:26:22.998225500Z"
    }
   }
  },
  {
   "cell_type": "code",
   "execution_count": 298,
   "outputs": [
    {
     "data": {
      "text/plain": "(4600, 11)"
     },
     "execution_count": 298,
     "metadata": {},
     "output_type": "execute_result"
    }
   ],
   "source": [
    "x.shape"
   ],
   "metadata": {
    "collapsed": false,
    "ExecuteTime": {
     "end_time": "2024-01-02T07:26:23.233693800Z",
     "start_time": "2024-01-02T07:26:23.037450Z"
    }
   }
  },
  {
   "cell_type": "code",
   "execution_count": 299,
   "outputs": [
    {
     "data": {
      "text/plain": "0.5779431668247565"
     },
     "execution_count": 299,
     "metadata": {},
     "output_type": "execute_result"
    }
   ],
   "source": [
    "sc=model.score(xTest,yTest)\n",
    "sc"
   ],
   "metadata": {
    "collapsed": false,
    "ExecuteTime": {
     "end_time": "2024-01-02T07:26:23.233693800Z",
     "start_time": "2024-01-02T07:26:23.037450Z"
    }
   }
  },
  {
   "cell_type": "code",
   "execution_count": 300,
   "outputs": [
    {
     "data": {
      "text/plain": "array([ 0.6592912 , -0.52420235, -0.97533465, -0.19989992, -0.9513876 ,\n       -0.30919434, -0.6671122 , -0.72762259, -0.67246372, -0.09372466,\n        1.21350142])"
     },
     "execution_count": 300,
     "metadata": {},
     "output_type": "execute_result"
    }
   ],
   "source": [
    "xTrain[0]"
   ],
   "metadata": {
    "collapsed": false,
    "ExecuteTime": {
     "end_time": "2024-01-02T07:26:23.233693800Z",
     "start_time": "2024-01-02T07:26:23.071872400Z"
    }
   }
  },
  {
   "cell_type": "code",
   "execution_count": 300,
   "outputs": [],
   "source": [],
   "metadata": {
    "collapsed": false,
    "ExecuteTime": {
     "end_time": "2024-01-02T07:26:23.233693800Z",
     "start_time": "2024-01-02T07:26:23.092003900Z"
    }
   }
  },
  {
   "cell_type": "code",
   "execution_count": 300,
   "outputs": [],
   "source": [],
   "metadata": {
    "collapsed": false,
    "ExecuteTime": {
     "end_time": "2024-01-02T07:26:23.233693800Z",
     "start_time": "2024-01-02T07:26:23.107630Z"
    }
   }
  }
 ],
 "metadata": {
  "kernelspec": {
   "display_name": "Python 3",
   "language": "python",
   "name": "python3"
  },
  "language_info": {
   "codemirror_mode": {
    "name": "ipython",
    "version": 2
   },
   "file_extension": ".py",
   "mimetype": "text/x-python",
   "name": "python",
   "nbconvert_exporter": "python",
   "pygments_lexer": "ipython2",
   "version": "2.7.6"
  }
 },
 "nbformat": 4,
 "nbformat_minor": 0
}
