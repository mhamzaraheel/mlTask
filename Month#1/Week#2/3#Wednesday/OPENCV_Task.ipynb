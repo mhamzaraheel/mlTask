{
 "cells": [
  {
   "cell_type": "code",
   "execution_count": 2,
   "metadata": {
    "collapsed": true,
    "ExecuteTime": {
     "end_time": "2023-12-27T11:36:28.224293900Z",
     "start_time": "2023-12-27T11:36:27.394524Z"
    }
   },
   "outputs": [],
   "source": [
    "import os\n",
    "import  cv2 as cv2\n",
    "import  numpy as np\n",
    "import matplotlib.pyplot as plt"
   ]
  },
  {
   "cell_type": "code",
   "execution_count": 3,
   "outputs": [],
   "source": [
    "image = cv2.imread(r'./source_image/sign.jpg')\n",
    "image = cv2.imread(r'car.webp')\n",
    "image = cv2.cvtColor(image, cv2.COLOR_BGR2RGB)"
   ],
   "metadata": {
    "collapsed": false,
    "ExecuteTime": {
     "end_time": "2023-12-27T11:36:29.200376900Z",
     "start_time": "2023-12-27T11:36:29.153512900Z"
    }
   }
  },
  {
   "cell_type": "code",
   "execution_count": 19,
   "outputs": [],
   "source": [
    "# Get image dimensions\n",
    "height, width = image.shape[:2]\n",
    "\n",
    "for i in range(360):\n",
    "    angle = i+1\n",
    "\n",
    "    # Center,angle,scale factor\n",
    "    rotation_matrix = cv2.getRotationMatrix2D((width / 2, height / 2), angle, 1)\n",
    "\n",
    "    # Apply the rotation to the image\n",
    "    rotated_image = cv2.warpAffine(image, rotation_matrix, (width, height))\n",
    "\n",
    "    # save the rotated images\n",
    "    rotated_image_path = f\"./Rotated_Images/rotated_image{i+1}.jpg\"\n",
    "    cv2.imwrite(rotated_image_path, rotated_image)\n",
    "\n"
   ],
   "metadata": {
    "collapsed": false,
    "ExecuteTime": {
     "end_time": "2023-12-27T09:03:45.633310300Z",
     "start_time": "2023-12-27T09:03:34.956174800Z"
    }
   }
  },
  {
   "cell_type": "code",
   "execution_count": 23,
   "outputs": [],
   "source": [
    "# Function to add the gaussian noise\n",
    "def add_gaussian_noise(image, mean=0, sigma=50):\n",
    "\n",
    "    row, col, ch = image.shape\n",
    "    gauss = np.random.normal(mean, sigma, (row, col, ch))\n",
    "    noisy = image + gauss.reshape(row, col, ch)\n",
    "    return np.clip(noisy, 0, 255).astype(np.uint8)"
   ],
   "metadata": {
    "collapsed": false,
    "ExecuteTime": {
     "end_time": "2023-12-27T09:05:39.912875600Z",
     "start_time": "2023-12-27T09:05:39.881481400Z"
    }
   }
  },
  {
   "cell_type": "code",
   "execution_count": 24,
   "outputs": [
    {
     "data": {
      "text/plain": "True"
     },
     "execution_count": 24,
     "metadata": {},
     "output_type": "execute_result"
    }
   ],
   "source": [
    "# make the image noisy\n",
    "noisy_image =  add_gaussian_noise(image)\n",
    "# save the rotated images\n",
    "rotated_image_path = f\"./Noised_Images/noisy_image.jpg\"\n",
    "cv2.imwrite(rotated_image_path, noisy_image)"
   ],
   "metadata": {
    "collapsed": false,
    "ExecuteTime": {
     "end_time": "2023-12-27T09:05:40.436723600Z",
     "start_time": "2023-12-27T09:05:40.217083Z"
    }
   }
  },
  {
   "cell_type": "code",
   "execution_count": 32,
   "outputs": [],
   "source": [
    "\n",
    "# Read all the images and brighten all\n",
    "for filename in os.listdir(\"Rotated_Images\"):\n",
    "    if filename.endswith(('.jpg', '.jpeg', '.png', '.bmp')):\n",
    "        # Read the image\n",
    "        image_path = os.path.join(\"Rotated_Images\", filename)\n",
    "        image = cv2.imread(image_path)\n",
    "\n",
    "        # brighten the image\n",
    "        brightened_image  = cv2.convertScaleAbs(image, alpha=1.5, beta=50)\n",
    "        # save the images\n",
    "        output_path = os.path.join(\"Bright_Images\", f\"brightened_{filename}\")\n",
    "        cv2.imwrite(output_path, brightened_image)\n",
    "\n"
   ],
   "metadata": {
    "collapsed": false,
    "ExecuteTime": {
     "end_time": "2023-12-27T09:20:55.667654Z",
     "start_time": "2023-12-27T09:20:42.346569Z"
    }
   }
  },
  {
   "cell_type": "code",
   "execution_count": null,
   "outputs": [],
   "source": [],
   "metadata": {
    "collapsed": false
   }
  }
 ],
 "metadata": {
  "kernelspec": {
   "display_name": "Python 3",
   "language": "python",
   "name": "python3"
  },
  "language_info": {
   "codemirror_mode": {
    "name": "ipython",
    "version": 2
   },
   "file_extension": ".py",
   "mimetype": "text/x-python",
   "name": "python",
   "nbconvert_exporter": "python",
   "pygments_lexer": "ipython2",
   "version": "2.7.6"
  }
 },
 "nbformat": 4,
 "nbformat_minor": 0
}
