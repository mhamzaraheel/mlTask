{
 "cells": [
  {
   "cell_type": "code",
   "execution_count": 44,
   "metadata": {
    "collapsed": true,
    "ExecuteTime": {
     "end_time": "2024-01-01T06:30:48.642870Z",
     "start_time": "2024-01-01T06:30:48.626302Z"
    }
   },
   "outputs": [],
   "source": [
    "import os\n",
    "import cv2"
   ]
  },
  {
   "cell_type": "code",
   "execution_count": 71,
   "outputs": [],
   "source": [
    "def yolov8_to_top_left_bottom_right(yolo_coords, image_width, image_height):\n",
    "    center_x, center_y, width, height = yolo_coords\n",
    "\n",
    "    x = int((center_x - width / 2) * image_width)\n",
    "    y = int((center_y - height / 2) * image_height)\n",
    "    w = int(width * image_width)\n",
    "    h = int(height * image_height)\n",
    "\n",
    "    top_left = (x, y)\n",
    "    bottom_right = (x + w, y + h)\n",
    "\n",
    "    return top_left, bottom_right\n"
   ],
   "metadata": {
    "collapsed": false,
    "ExecuteTime": {
     "end_time": "2024-01-01T07:16:20.701769Z",
     "start_time": "2024-01-01T07:16:20.688954700Z"
    }
   }
  },
  {
   "cell_type": "code",
   "execution_count": 72,
   "outputs": [],
   "source": [
    "def read_coordinates(file_path):\n",
    "    coordinates_list = []\n",
    "\n",
    "    with open(file_path, 'r') as file:\n",
    "        for line in file:\n",
    "            values = line.strip().split()\n",
    "            label = int(values[0])\n",
    "            coordinates = list(map(float, values[1:]))\n",
    "            coordinates_list.append(coordinates)\n",
    "\n",
    "\n",
    "    return coordinates_list\n",
    "\n"
   ],
   "metadata": {
    "collapsed": false,
    "ExecuteTime": {
     "end_time": "2024-01-01T07:16:20.909474200Z",
     "start_time": "2024-01-01T07:16:20.893809700Z"
    }
   }
  },
  {
   "cell_type": "code",
   "execution_count": 73,
   "outputs": [],
   "source": [
    "import os\n",
    "import cv2\n",
    "\n",
    "image_path = \"images\"\n",
    "label_path = \"labels\"\n",
    "output_path = \"Labeled_Image\"\n",
    "\n",
    "for image_filename, label_filename in zip(os.listdir(image_path), os.listdir(label_path)):\n",
    "    if image_filename.endswith(('.jpg', '.jpeg', '.png', '.bmp')) and label_filename.endswith('.txt'):\n",
    "\n",
    "        image_full_path = os.path.join(image_path, image_filename)\n",
    "        image = cv2.imread(image_full_path)\n",
    "        height, width, channels = image.shape\n",
    "\n",
    "        label_file_path = os.path.join(label_path, label_filename)\n",
    "        coordinates = read_coordinates(label_file_path)\n",
    "\n",
    "        output_image_path = os.path.join(output_path, f\"Labeled_{image_filename}\")\n",
    "\n",
    "        for i, coords in enumerate(coordinates):\n",
    "            new_coordinates = yolov8_to_top_left_bottom_right(coords, width, height)\n",
    "            x1, y1 = new_coordinates[0]\n",
    "            x2, y2 = new_coordinates[1]\n",
    "\n",
    "            if i==0:\n",
    "                cv2.rectangle(image, (x1, y1), (x2,y2 ), (0, 255, 0), 2)\n",
    "            else:\n",
    "                cv2.rectangle(image, (x1, y1), (x2,y2 ), (255, 0, 0), 2)\n",
    "\n",
    "        cv2.imwrite(output_image_path, image)\n"
   ],
   "metadata": {
    "collapsed": false,
    "ExecuteTime": {
     "end_time": "2024-01-01T07:16:21.255861500Z",
     "start_time": "2024-01-01T07:16:21.114759600Z"
    }
   }
  }
 ],
 "metadata": {
  "kernelspec": {
   "display_name": "Python 3",
   "language": "python",
   "name": "python3"
  },
  "language_info": {
   "codemirror_mode": {
    "name": "ipython",
    "version": 2
   },
   "file_extension": ".py",
   "mimetype": "text/x-python",
   "name": "python",
   "nbconvert_exporter": "python",
   "pygments_lexer": "ipython2",
   "version": "2.7.6"
  }
 },
 "nbformat": 4,
 "nbformat_minor": 0
}
