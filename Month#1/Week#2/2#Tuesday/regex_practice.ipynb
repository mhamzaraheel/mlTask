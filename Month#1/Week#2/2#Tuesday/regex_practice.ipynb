{
 "cells": [
  {
   "cell_type": "code",
   "execution_count": 7,
   "metadata": {
    "collapsed": true,
    "ExecuteTime": {
     "end_time": "2023-12-26T05:31:53.707763800Z",
     "start_time": "2023-12-26T05:31:53.691986200Z"
    }
   },
   "outputs": [
    {
     "name": "stdout",
     "output_type": "stream",
     "text": [
      "YES! We have a match!\n"
     ]
    }
   ],
   "source": [
    "import re\n",
    "\n",
    "#Check if the string starts with \"The\" and ends with \"Spain\":\n",
    "\n",
    "txt = \"The rain in Spain\"\n",
    "x = re.search(\"^The.*Spain$\", txt)\n",
    "\n",
    "if x:\n",
    "  print(\"YES! We have a match!\")\n",
    "else:\n",
    "  print(\"No match\")\n"
   ]
  },
  {
   "cell_type": "code",
   "execution_count": 8,
   "outputs": [
    {
     "name": "stdout",
     "output_type": "stream",
     "text": [
      "The string contains some characters that are not allowed.\n"
     ]
    }
   ],
   "source": [
    "def contains_only_allowed_characters(input_string):\n",
    "    pattern = re.compile(\"^[a-zA-Z0-9]+.*$\")\n",
    "\n",
    "    if pattern.match(input_string):\n",
    "        return True\n",
    "    else:\n",
    "        return False\n",
    "\n",
    "# space is not allowed here\n",
    "input_str = \" AIHHsdsds   \"\n",
    "\n",
    "if contains_only_allowed_characters(input_str):\n",
    "    print(\"The string contains only allowed characters.\")\n",
    "else:\n",
    "    print(\"The string contains some characters that are not allowed.\")\n"
   ],
   "metadata": {
    "collapsed": false,
    "ExecuteTime": {
     "end_time": "2023-12-26T05:42:04.033351400Z",
     "start_time": "2023-12-26T05:42:04.017729700Z"
    }
   }
  },
  {
   "cell_type": "code",
   "execution_count": 10,
   "outputs": [
    {
     "name": "stdout",
     "output_type": "stream",
     "text": [
      "Matching patterns found: ['Hamza', '1234']\n"
     ]
    }
   ],
   "source": [
    "import re\n",
    "\n",
    "def find_matching_patterns(input_string):\n",
    "    # Define the pattern for allowed characters\n",
    "    pattern = re.compile(\"[a-zA-Z0-9]+\")\n",
    "\n",
    "    # Find all occurrences of the pattern in the input string\n",
    "    matches = pattern.findall(input_string)\n",
    "\n",
    "    return matches\n",
    "\n",
    "# Example usage:\n",
    "input_str = \"Hamza 1234\"\n",
    "\n",
    "matching_patterns = find_matching_patterns(input_str)\n",
    "\n",
    "if matching_patterns:\n",
    "    print(\"Matching patterns found:\", matching_patterns)\n",
    "else:\n",
    "    print(\"No matching patterns found.\")\n"
   ],
   "metadata": {
    "collapsed": false,
    "ExecuteTime": {
     "end_time": "2023-12-26T05:43:45.288067100Z",
     "start_time": "2023-12-26T05:43:45.272445600Z"
    }
   }
  },
  {
   "cell_type": "code",
   "execution_count": 12,
   "outputs": [
    {
     "name": "stdout",
     "output_type": "stream",
     "text": [
      "Matching patterns found: ['ab', 'abb', 'ab']\n"
     ]
    }
   ],
   "source": [
    "import re\n",
    "\n",
    "def find_matching_patterns(input_string):\n",
    "    # Define the pattern: 'a' followed by zero or more 'b's\n",
    "    pattern = re.compile(\"ab*\")\n",
    "\n",
    "    # Find all occurrences of the pattern in the input string\n",
    "    matches = pattern.findall(input_string)\n",
    "\n",
    "    return matches\n",
    "\n",
    "# Example usage:\n",
    "input_str = \"ab abb abc\"\n",
    "\n",
    "matching_patterns = find_matching_patterns(input_str)\n",
    "\n",
    "if matching_patterns:\n",
    "    print(\"Matching patterns found:\", matching_patterns)\n",
    "else:\n",
    "    print(\"No matching patterns found.\")\n"
   ],
   "metadata": {
    "collapsed": false,
    "ExecuteTime": {
     "end_time": "2023-12-26T05:50:51.930318500Z",
     "start_time": "2023-12-26T05:50:51.930318500Z"
    }
   }
  },
  {
   "cell_type": "code",
   "execution_count": 17,
   "outputs": [
    {
     "name": "stdout",
     "output_type": "stream",
     "text": [
      "The string \"a\" matches the pattern.\n",
      "The string \"ab\" matches the pattern.\n",
      "The string \"abb\" does not match the pattern.\n",
      "The string \"ac\" does not match the pattern.\n"
     ]
    }
   ],
   "source": [
    "import re\n",
    "\n",
    "def match_pattern(s):\n",
    "    pattern = re.compile(r'ab?')\n",
    "    match = pattern.fullmatch(s)\n",
    "    # match = pattern.matchmatch(s)\n",
    "\n",
    "    if match:\n",
    "        print(f'The string \"{s}\" matches the pattern.')\n",
    "    else:\n",
    "        print(f'The string \"{s}\" does not match the pattern.')\n",
    "\n",
    "\n",
    "match_pattern(\"a\")\n",
    "match_pattern(\"ab\")\n",
    "match_pattern(\"abb\")\n",
    "match_pattern(\"ac\")\n"
   ],
   "metadata": {
    "collapsed": false,
    "ExecuteTime": {
     "end_time": "2023-12-26T06:00:49.926397700Z",
     "start_time": "2023-12-26T06:00:49.926397700Z"
    }
   }
  },
  {
   "cell_type": "code",
   "execution_count": 18,
   "outputs": [
    {
     "name": "stdout",
     "output_type": "stream",
     "text": [
      "The string \"abb\" matches the pattern.\n",
      "The string \"abbb\" matches the pattern.\n",
      "The string \"abbbb\" does not match the pattern.\n",
      "The string \"ab\" does not match the pattern.\n",
      "The string \"ac\" does not match the pattern.\n"
     ]
    }
   ],
   "source": [
    "import re\n",
    "\n",
    "def match_pattern(s):\n",
    "    pattern = re.compile(r'ab{2,3}')\n",
    "    match = pattern.fullmatch(s)\n",
    "\n",
    "    if match:\n",
    "        print(f'The string \"{s}\" matches the pattern.')\n",
    "    else:\n",
    "        print(f'The string \"{s}\" does not match the pattern.')\n",
    "\n",
    "# Examples\n",
    "match_pattern(\"abb\")     # Matches, 'b' is present twice\n",
    "match_pattern(\"abbb\")    # Matches, 'b' is present three times\n",
    "match_pattern(\"abbbb\")   # Does not match, more than three 'b'\n",
    "match_pattern(\"ab\")      # Does not match, less than two 'b'\n",
    "match_pattern(\"ac\")      # Does not match, 'b' is not present\n"
   ],
   "metadata": {
    "collapsed": false,
    "ExecuteTime": {
     "end_time": "2023-12-26T06:17:23.467919Z",
     "start_time": "2023-12-26T06:17:23.436675Z"
    }
   }
  },
  {
   "cell_type": "code",
   "execution_count": 19,
   "outputs": [
    {
     "name": "stdout",
     "output_type": "stream",
     "text": [
      "The string matches the pattern.\n"
     ]
    }
   ],
   "source": [
    "import re\n",
    "\n",
    "def match_pattern(input_string):\n",
    "    pattern = re.compile(r'[A-Z][a-z]+')\n",
    "\n",
    "    if pattern.match(input_string):\n",
    "        return True\n",
    "    else:\n",
    "        return False\n",
    "\n",
    "input_str = \"Haaa\"\n",
    "\n",
    "if match_pattern(input_str):\n",
    "    print(\"The string matches the pattern.\")\n",
    "else:\n",
    "    print(\"The string does not match the pattern.\")\n"
   ],
   "metadata": {
    "collapsed": false,
    "ExecuteTime": {
     "end_time": "2023-12-26T06:36:00.967128900Z",
     "start_time": "2023-12-26T06:36:00.951507900Z"
    }
   }
  },
  {
   "cell_type": "code",
   "execution_count": null,
   "outputs": [],
   "source": [],
   "metadata": {
    "collapsed": false
   }
  }
 ],
 "metadata": {
  "kernelspec": {
   "display_name": "Python 3",
   "language": "python",
   "name": "python3"
  },
  "language_info": {
   "codemirror_mode": {
    "name": "ipython",
    "version": 2
   },
   "file_extension": ".py",
   "mimetype": "text/x-python",
   "name": "python",
   "nbconvert_exporter": "python",
   "pygments_lexer": "ipython2",
   "version": "2.7.6"
  }
 },
 "nbformat": 4,
 "nbformat_minor": 0
}
