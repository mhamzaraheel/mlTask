{
 "cells": [
  {
   "cell_type": "code",
   "execution_count": 1,
   "outputs": [],
   "source": [
    "import os\n",
    "import cv2\n",
    "import numpy as np"
   ],
   "metadata": {
    "collapsed": false,
    "ExecuteTime": {
     "end_time": "2023-12-29T07:19:48.485184500Z",
     "start_time": "2023-12-29T07:19:48.307379500Z"
    }
   }
  },
  {
   "cell_type": "code",
   "execution_count": 2,
   "outputs": [],
   "source": [
    "def process_image(image1_path, image2_path):\n",
    "    # Load the first image\n",
    "    image = cv2.imread(image1_path)\n",
    "\n",
    "    # Resize the image to 113x43\n",
    "    image = cv2.resize(image, (113, 43))\n",
    "    hsv = cv2.cvtColor(image, cv2.COLOR_BGR2HSV)\n",
    "\n",
    "\n",
    "    lower_black_gray = np.array([0, 0, 0])\n",
    "    upper_black_gray = np.array([180, 255, 100])\n",
    "    black_gray_mask = cv2.inRange(hsv, lower_black_gray, upper_black_gray)\n",
    "\n",
    "    # Load the second image\n",
    "    image_2 = cv2.imread(image2_path)\n",
    "\n",
    "    # Extract the roi from second image\n",
    "    left_upper = (367, 235)\n",
    "    right_bottom = (480, 278)\n",
    "    roi = image_2[left_upper[1]:right_bottom[1], left_upper[0]:right_bottom[0]]\n",
    "\n",
    "\n",
    "    roi[black_gray_mask != 0] = [0, 0, 0]\n",
    "\n",
    "    return image_2\n"
   ],
   "metadata": {
    "collapsed": false,
    "ExecuteTime": {
     "end_time": "2023-12-29T07:19:48.485184500Z",
     "start_time": "2023-12-29T07:19:48.472980900Z"
    }
   }
  },
  {
   "cell_type": "code",
   "execution_count": 3,
   "outputs": [],
   "source": [
    "for filename in os.listdir(\"Signatures\"):\n",
    "    if filename.endswith(('.jpg', '.jpeg', '.png', '.bmp')):\n",
    "        # Read the image\n",
    "        image1_path = os.path.join(\"Signatures\", filename)\n",
    "        image2_path = \"idcard.jpg\"\n",
    "        image  = process_image(image1_path,image2_path)\n",
    "        output_path = os.path.join(\"Processed_ID_Cards\", f\"ID_Card_{filename}\")\n",
    "        cv2.imwrite(output_path, image)"
   ],
   "metadata": {
    "collapsed": false,
    "ExecuteTime": {
     "end_time": "2023-12-29T07:19:51.502052400Z",
     "start_time": "2023-12-29T07:19:48.485184500Z"
    }
   }
  }
 ],
 "metadata": {
  "kernelspec": {
   "display_name": "Python 3",
   "language": "python",
   "name": "python3"
  },
  "language_info": {
   "codemirror_mode": {
    "name": "ipython",
    "version": 2
   },
   "file_extension": ".py",
   "mimetype": "text/x-python",
   "name": "python",
   "nbconvert_exporter": "python",
   "pygments_lexer": "ipython2",
   "version": "2.7.6"
  }
 },
 "nbformat": 4,
 "nbformat_minor": 0
}
