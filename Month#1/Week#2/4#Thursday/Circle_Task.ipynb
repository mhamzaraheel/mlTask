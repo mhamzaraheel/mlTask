{
 "cells": [
  {
   "cell_type": "code",
   "execution_count": 1,
   "outputs": [],
   "source": [
    "import cv2\n",
    "import numpy as np"
   ],
   "metadata": {
    "collapsed": false,
    "ExecuteTime": {
     "end_time": "2023-12-29T07:18:57.387008500Z",
     "start_time": "2023-12-29T07:18:57.183932700Z"
    }
   }
  },
  {
   "cell_type": "code",
   "execution_count": 2,
   "outputs": [
    {
     "data": {
      "text/plain": "True"
     },
     "execution_count": 2,
     "metadata": {},
     "output_type": "execute_result"
    }
   ],
   "source": [
    "def process(img):\n",
    "    img_gray = cv2.cvtColor(img, cv2.COLOR_BGR2GRAY)\n",
    "    img_canny = cv2.Canny(img_gray, 12, 54)\n",
    "    return img_canny\n",
    "\n",
    "img = cv2.imread(\"abc.png\")\n",
    "edges = process(img)\n",
    "\n",
    "contours, _ = cv2.findContours(edges, cv2.RETR_EXTERNAL, cv2.CHAIN_APPROX_NONE)\n",
    "image = np.ones_like(img) * 255\n",
    "cv2.drawContours(image, contours, -1, (0, 0, 0), 3)\n",
    "cv2.imwrite(\"abc_output1.png\", image)\n",
    "\n"
   ],
   "metadata": {
    "collapsed": false,
    "ExecuteTime": {
     "end_time": "2023-12-29T07:18:57.433883200Z",
     "start_time": "2023-12-29T07:18:57.387008500Z"
    }
   }
  },
  {
   "cell_type": "code",
   "execution_count": 3,
   "outputs": [
    {
     "data": {
      "text/plain": "True"
     },
     "execution_count": 3,
     "metadata": {},
     "output_type": "execute_result"
    }
   ],
   "source": [
    "image = cv2.imread(\"abc.png\")\n",
    "\n",
    "hsv = cv2.cvtColor(image, cv2.COLOR_BGR2HSV)\n",
    "\n",
    "lower_red1 = np.array([0, 100, 100])\n",
    "upper_red1 = np.array([10, 255, 255])\n",
    "lower_red2 = np.array([160, 100, 100])\n",
    "upper_red2 = np.array([180, 255, 255])\n",
    "\n",
    "mask1 = cv2.inRange(hsv, lower_red1, upper_red1)\n",
    "mask2 = cv2.inRange(hsv, lower_red2, upper_red2)\n",
    "\n",
    "final_mask = cv2.bitwise_or(mask1, mask2)\n",
    "\n",
    "image[final_mask != 0] = [0, 0, 0]\n",
    "\n",
    "\n",
    "cv2.imwrite(\"abc_output2.png\", image)\n"
   ],
   "metadata": {
    "collapsed": false,
    "ExecuteTime": {
     "end_time": "2023-12-29T07:18:57.480925600Z",
     "start_time": "2023-12-29T07:18:57.433883200Z"
    }
   }
  },
  {
   "cell_type": "code",
   "execution_count": 3,
   "outputs": [],
   "source": [],
   "metadata": {
    "collapsed": false,
    "ExecuteTime": {
     "end_time": "2023-12-29T07:18:57.480925600Z",
     "start_time": "2023-12-29T07:18:57.449674Z"
    }
   }
  },
  {
   "cell_type": "code",
   "execution_count": 3,
   "outputs": [],
   "source": [],
   "metadata": {
    "collapsed": false,
    "ExecuteTime": {
     "end_time": "2023-12-29T07:18:57.480925600Z",
     "start_time": "2023-12-29T07:18:57.465297900Z"
    }
   }
  }
 ],
 "metadata": {
  "kernelspec": {
   "display_name": "Python 3",
   "language": "python",
   "name": "python3"
  },
  "language_info": {
   "codemirror_mode": {
    "name": "ipython",
    "version": 2
   },
   "file_extension": ".py",
   "mimetype": "text/x-python",
   "name": "python",
   "nbconvert_exporter": "python",
   "pygments_lexer": "ipython2",
   "version": "2.7.6"
  }
 },
 "nbformat": 4,
 "nbformat_minor": 0
}
