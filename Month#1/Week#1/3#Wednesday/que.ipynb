{
 "cells": [
  {
   "cell_type": "code",
   "execution_count": 70,
   "outputs": [
    {
     "name": "stdout",
     "output_type": "stream",
     "text": [
      "Queue is full. Cannot enqueue element 6\n",
      "After Enqueue the Array: [ 8. 11.  3.]\n",
      "Deque Value: 8.0\n",
      "Deque Value: 11.0\n",
      "Deque Value: 3.0\n",
      "Queue is empty\n",
      "Deque Value: None\n"
     ]
    }
   ],
   "source": [
    "import numpy as np\n",
    "\n",
    "def create_queue():\n",
    "    return np.array([])\n",
    "\n",
    "def enqueue(queue, element, max_size=3):\n",
    "    if len(queue) < max_size:\n",
    "        return np.append(queue, element)\n",
    "    else:\n",
    "        print(\"Queue is full. Cannot enqueue element\", element)\n",
    "        return queue\n",
    "\n",
    "def dequeue(queue):\n",
    "    if len(queue) == 0:\n",
    "        print(\"Queue is empty\")\n",
    "        return None,queue\n",
    "\n",
    "    dequeue_val = queue[0]\n",
    "    remaining_queue = queue[1:]\n",
    "    return dequeue_val, remaining_queue\n",
    "\n",
    "\n",
    "queue = create_queue()\n",
    "queue = enqueue(queue,8)\n",
    "queue = enqueue(queue,11)\n",
    "queue = enqueue(queue,3)\n",
    "queue = enqueue(queue,6)\n",
    "print(\"After Enqueue the Array:\" , queue)\n",
    "dequeue_val, queue = dequeue(queue)\n",
    "print(\"Deque Value:\",dequeue_val)\n",
    "dequeue_val, queue = dequeue(queue)\n",
    "print(\"Deque Value:\",dequeue_val)\n",
    "dequeue_val, queue = dequeue(queue)\n",
    "print(\"Deque Value:\",dequeue_val)\n",
    "dequeue_val, queue = dequeue(queue)\n",
    "print(\"Deque Value:\",dequeue_val)\n"
   ],
   "metadata": {
    "collapsed": false,
    "ExecuteTime": {
     "end_time": "2023-12-20T13:29:04.830378800Z",
     "start_time": "2023-12-20T13:29:04.814756900Z"
    }
   }
  },
  {
   "cell_type": "code",
   "execution_count": null,
   "outputs": [],
   "source": [],
   "metadata": {
    "collapsed": false
   }
  }
 ],
 "metadata": {
  "kernelspec": {
   "display_name": "Python 3",
   "language": "python",
   "name": "python3"
  },
  "language_info": {
   "codemirror_mode": {
    "name": "ipython",
    "version": 2
   },
   "file_extension": ".py",
   "mimetype": "text/x-python",
   "name": "python",
   "nbconvert_exporter": "python",
   "pygments_lexer": "ipython2",
   "version": "2.7.6"
  }
 },
 "nbformat": 4,
 "nbformat_minor": 0
}
