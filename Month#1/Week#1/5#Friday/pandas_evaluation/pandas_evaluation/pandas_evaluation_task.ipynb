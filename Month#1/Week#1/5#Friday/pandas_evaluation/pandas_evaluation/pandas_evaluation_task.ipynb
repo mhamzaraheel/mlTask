{
 "cells": [
  {
   "cell_type": "markdown",
   "metadata": {},
   "source": [
    "# Perform the following analysis on the provided file \"demo.csv\".\n",
    "\n",
    "\n",
    "## 1. Which month saw the highest joining of the employees\n",
    "\n",
    "   function name: max_joinings_month()\n",
    "   \n",
    "   inputs: DataFrame\n",
    "   \n",
    "   outputs: str\n",
    "   \n",
    "   \n",
    "## 2. What is the mean salary is the state KS\n",
    "   \n",
    "   function name: mean_ks_salary()\n",
    "   \n",
    "   inputs: DataFrame\n",
    "   \n",
    "   outputs: float\n",
    "   \n",
    "   \n",
    "## 3. Which Region has highest mean salary\n",
    "   \n",
    "   function name: max_mean_salary_region()\n",
    "   \n",
    "   inputs: DataFrame\n",
    "   \n",
    "   outputs: str\n",
    "   \n",
    "   \n",
    "## 4. Which region has lowest mean salary\n",
    "   \n",
    "   function name: min_mean_salary_region()\n",
    "   \n",
    "   inputs: DataFrame\n",
    "   \n",
    "   outputs: str\n",
    "   \n",
    "   \n",
    "## 5. Which City has highest mean weight\n",
    "   \n",
    "   function name: max_mean_weight_city()\n",
    "   \n",
    "   inputs: DataFrame\n",
    "   \n",
    "   outputs: str\n",
    "   \n",
    "   \n",
    "## 6. What is the difference between mean salary of Doctors and Professors\n",
    "   \n",
    "   function name: dr_prof_mean_salary_diff()\n",
    "   \n",
    "   inputs: DataFrame\n",
    "   \n",
    "   outputs: float\n",
    "   \n",
    "   \n",
    "## 7. How many female use yahoo\n",
    "   \n",
    "   function name: females_with_yahoo()\n",
    "   \n",
    "   inputs: DataFrame\n",
    "   \n",
    "   outputs: int\n",
    "   \n",
    "   \n",
    "## 8. How many Doctors use gmail\n",
    "   \n",
    "   function name: doctors_with_gmail()\n",
    "   \n",
    "   inputs: DataFrame\n",
    "   \n",
    "   outputs: int\n",
    "   \n",
    "   \n",
    "## 9. What is the password of the youngest male\n",
    "   \n",
    "   function name: youngest_male_password()\n",
    "   \n",
    "   inputs: DataFrame\n",
    "   \n",
    "   outputs: str\n"
   ]
  },
  {
   "cell_type": "code",
   "execution_count": 1,
   "metadata": {
    "ExecuteTime": {
     "end_time": "2023-12-26T04:00:51.392550Z",
     "start_time": "2023-12-26T04:00:50.465430300Z"
    }
   },
   "outputs": [
    {
     "data": {
      "text/plain": "     Emp ID Name Prefix First Name Middle Initial  Last Name Gender  \\\n0    850297         Ms.     Shawna              W       Buck      F   \n1    304721         Mr.  Nathaniel              Z      Burke      M   \n2    412317        Drs.  Elisabeth              W     Foster      F   \n3    621375        Mrs.     Briana              C  Lancaster      F   \n4    787549        Hon.    Estella              L     Potter      F   \n..      ...         ...        ...            ...        ...    ...   \n995  568435         Ms.     Bonnie              K      Baker      F   \n996  597409         Mr.       Luke              S     Turner      M   \n997  359608        Hon.        Eva              S     Holman      F   \n998  803426        Mrs.    Maritza              H  Christian      F   \n999  669618        Drs.    Phyllis              H     Dudley      F   \n\n                              E Mail      Father's Name        Mother's Name  \\\n0              shawna.buck@gmail.com       Rosario Buck          Keisha Buck   \n1        nathaniel.burke@walmart.com      Derrick Burke         Phoebe Burke   \n2         elisabeth.foster@gmail.com       Irwin Foster         Janie Foster   \n3         briana.lancaster@yahoo.com  Jeffrey Lancaster     Shelby Lancaster   \n4           estella.potter@gmail.com      Booker Potter       Katelyn Potter   \n..                               ...                ...                  ...   \n995              bonnie.baker@bp.com      Edwardo Baker        Pauline Baker   \n996          luke.turner@charter.net      Javier Turner        Nicole Turner   \n997           eva.holman@hotmail.com         Coy Holman         Haley Holman   \n998  maritza.christian@microsoft.com     Dion Christian  Stephanie Christian   \n999       phyllis.dudley@yahoo.co.in      Jarrod Dudley       Latisha Dudley   \n\n    Mother's Maiden Name  ...          SSN    Phone No.   Place Name  \\\n0              Hendricks  ...  222-11-7603  702-771-7149   Las Vegas   \n1                   Pugh  ...  550-99-9897  231-765-6923       Irons   \n2                Delaney  ...  215-91-0004  270-749-4774   Lexington   \n3                  Weiss  ...  534-71-1053  219-623-8216     Munster   \n4                   Pate  ...  644-29-6396  907-677-8486   Fairbanks   \n..                   ...  ...          ...           ...         ...   \n995             Robinson  ...  064-02-6162  262-696-9171   Mukwonago   \n996                Sykes  ...  056-02-8240  231-629-0498    Freeport   \n997                Boyle  ...  343-11-1935  209-912-6705     Turlock   \n998               Mooney  ...  336-11-5030  203-224-9056    Stamford   \n999               Wilcox  ...  101-02-6501  405-970-2341        Meno   \n\n                   County       City State    Zip     Region    User Name  \\\n0                   Clark  Las Vegas    NV  89128       West       swbuck   \n1                    Lake      Irons    MI  49644    Midwest      nzburke   \n2                 Fayette  Lexington    KY  40501      South     ewfoster   \n3                    Lake    Munster    IN  46321    Midwest  bclancaster   \n4    Fairbanks North Star  Fairbanks    AK  99709       West     elpotter   \n..                    ...        ...   ...    ...        ...          ...   \n995              Waukesha  Mukwonago    WI  53149    Midwest      bkbaker   \n996                 Barry   Freeport    MI  49325    Midwest     lsturner   \n997            Stanislaus    Turlock    CA  95381       West     esholman   \n998             Fairfield   Stamford    CT   6910  Northeast  mhchristian   \n999                 Major       Meno    OK  73760      South     phdudley   \n\n            Password  \n0    ja8?k3BTF^]o@<&  \n1     tPA@4Wh9Ja$+Ln  \n2    5D.B4IGNkWJfG<~  \n3          I%?JDM;pW  \n4        j4jkEXfC&Rh  \n..               ...  \n995   a?Co:/r;nu_wTQ  \n996       7n5@64VC7|  \n997    DG<<<e}*WgD<U  \n998         Krs@#TnM  \n999     h6wt@400%&Uu  \n\n[1000 rows x 37 columns]",
      "text/html": "<div>\n<style scoped>\n    .dataframe tbody tr th:only-of-type {\n        vertical-align: middle;\n    }\n\n    .dataframe tbody tr th {\n        vertical-align: top;\n    }\n\n    .dataframe thead th {\n        text-align: right;\n    }\n</style>\n<table border=\"1\" class=\"dataframe\">\n  <thead>\n    <tr style=\"text-align: right;\">\n      <th></th>\n      <th>Emp ID</th>\n      <th>Name Prefix</th>\n      <th>First Name</th>\n      <th>Middle Initial</th>\n      <th>Last Name</th>\n      <th>Gender</th>\n      <th>E Mail</th>\n      <th>Father's Name</th>\n      <th>Mother's Name</th>\n      <th>Mother's Maiden Name</th>\n      <th>...</th>\n      <th>SSN</th>\n      <th>Phone No.</th>\n      <th>Place Name</th>\n      <th>County</th>\n      <th>City</th>\n      <th>State</th>\n      <th>Zip</th>\n      <th>Region</th>\n      <th>User Name</th>\n      <th>Password</th>\n    </tr>\n  </thead>\n  <tbody>\n    <tr>\n      <th>0</th>\n      <td>850297</td>\n      <td>Ms.</td>\n      <td>Shawna</td>\n      <td>W</td>\n      <td>Buck</td>\n      <td>F</td>\n      <td>shawna.buck@gmail.com</td>\n      <td>Rosario Buck</td>\n      <td>Keisha Buck</td>\n      <td>Hendricks</td>\n      <td>...</td>\n      <td>222-11-7603</td>\n      <td>702-771-7149</td>\n      <td>Las Vegas</td>\n      <td>Clark</td>\n      <td>Las Vegas</td>\n      <td>NV</td>\n      <td>89128</td>\n      <td>West</td>\n      <td>swbuck</td>\n      <td>ja8?k3BTF^]o@&lt;&amp;</td>\n    </tr>\n    <tr>\n      <th>1</th>\n      <td>304721</td>\n      <td>Mr.</td>\n      <td>Nathaniel</td>\n      <td>Z</td>\n      <td>Burke</td>\n      <td>M</td>\n      <td>nathaniel.burke@walmart.com</td>\n      <td>Derrick Burke</td>\n      <td>Phoebe Burke</td>\n      <td>Pugh</td>\n      <td>...</td>\n      <td>550-99-9897</td>\n      <td>231-765-6923</td>\n      <td>Irons</td>\n      <td>Lake</td>\n      <td>Irons</td>\n      <td>MI</td>\n      <td>49644</td>\n      <td>Midwest</td>\n      <td>nzburke</td>\n      <td>tPA@4Wh9Ja$+Ln</td>\n    </tr>\n    <tr>\n      <th>2</th>\n      <td>412317</td>\n      <td>Drs.</td>\n      <td>Elisabeth</td>\n      <td>W</td>\n      <td>Foster</td>\n      <td>F</td>\n      <td>elisabeth.foster@gmail.com</td>\n      <td>Irwin Foster</td>\n      <td>Janie Foster</td>\n      <td>Delaney</td>\n      <td>...</td>\n      <td>215-91-0004</td>\n      <td>270-749-4774</td>\n      <td>Lexington</td>\n      <td>Fayette</td>\n      <td>Lexington</td>\n      <td>KY</td>\n      <td>40501</td>\n      <td>South</td>\n      <td>ewfoster</td>\n      <td>5D.B4IGNkWJfG&lt;~</td>\n    </tr>\n    <tr>\n      <th>3</th>\n      <td>621375</td>\n      <td>Mrs.</td>\n      <td>Briana</td>\n      <td>C</td>\n      <td>Lancaster</td>\n      <td>F</td>\n      <td>briana.lancaster@yahoo.com</td>\n      <td>Jeffrey Lancaster</td>\n      <td>Shelby Lancaster</td>\n      <td>Weiss</td>\n      <td>...</td>\n      <td>534-71-1053</td>\n      <td>219-623-8216</td>\n      <td>Munster</td>\n      <td>Lake</td>\n      <td>Munster</td>\n      <td>IN</td>\n      <td>46321</td>\n      <td>Midwest</td>\n      <td>bclancaster</td>\n      <td>I%?JDM;pW</td>\n    </tr>\n    <tr>\n      <th>4</th>\n      <td>787549</td>\n      <td>Hon.</td>\n      <td>Estella</td>\n      <td>L</td>\n      <td>Potter</td>\n      <td>F</td>\n      <td>estella.potter@gmail.com</td>\n      <td>Booker Potter</td>\n      <td>Katelyn Potter</td>\n      <td>Pate</td>\n      <td>...</td>\n      <td>644-29-6396</td>\n      <td>907-677-8486</td>\n      <td>Fairbanks</td>\n      <td>Fairbanks North Star</td>\n      <td>Fairbanks</td>\n      <td>AK</td>\n      <td>99709</td>\n      <td>West</td>\n      <td>elpotter</td>\n      <td>j4jkEXfC&amp;Rh</td>\n    </tr>\n    <tr>\n      <th>...</th>\n      <td>...</td>\n      <td>...</td>\n      <td>...</td>\n      <td>...</td>\n      <td>...</td>\n      <td>...</td>\n      <td>...</td>\n      <td>...</td>\n      <td>...</td>\n      <td>...</td>\n      <td>...</td>\n      <td>...</td>\n      <td>...</td>\n      <td>...</td>\n      <td>...</td>\n      <td>...</td>\n      <td>...</td>\n      <td>...</td>\n      <td>...</td>\n      <td>...</td>\n      <td>...</td>\n    </tr>\n    <tr>\n      <th>995</th>\n      <td>568435</td>\n      <td>Ms.</td>\n      <td>Bonnie</td>\n      <td>K</td>\n      <td>Baker</td>\n      <td>F</td>\n      <td>bonnie.baker@bp.com</td>\n      <td>Edwardo Baker</td>\n      <td>Pauline Baker</td>\n      <td>Robinson</td>\n      <td>...</td>\n      <td>064-02-6162</td>\n      <td>262-696-9171</td>\n      <td>Mukwonago</td>\n      <td>Waukesha</td>\n      <td>Mukwonago</td>\n      <td>WI</td>\n      <td>53149</td>\n      <td>Midwest</td>\n      <td>bkbaker</td>\n      <td>a?Co:/r;nu_wTQ</td>\n    </tr>\n    <tr>\n      <th>996</th>\n      <td>597409</td>\n      <td>Mr.</td>\n      <td>Luke</td>\n      <td>S</td>\n      <td>Turner</td>\n      <td>M</td>\n      <td>luke.turner@charter.net</td>\n      <td>Javier Turner</td>\n      <td>Nicole Turner</td>\n      <td>Sykes</td>\n      <td>...</td>\n      <td>056-02-8240</td>\n      <td>231-629-0498</td>\n      <td>Freeport</td>\n      <td>Barry</td>\n      <td>Freeport</td>\n      <td>MI</td>\n      <td>49325</td>\n      <td>Midwest</td>\n      <td>lsturner</td>\n      <td>7n5@64VC7|</td>\n    </tr>\n    <tr>\n      <th>997</th>\n      <td>359608</td>\n      <td>Hon.</td>\n      <td>Eva</td>\n      <td>S</td>\n      <td>Holman</td>\n      <td>F</td>\n      <td>eva.holman@hotmail.com</td>\n      <td>Coy Holman</td>\n      <td>Haley Holman</td>\n      <td>Boyle</td>\n      <td>...</td>\n      <td>343-11-1935</td>\n      <td>209-912-6705</td>\n      <td>Turlock</td>\n      <td>Stanislaus</td>\n      <td>Turlock</td>\n      <td>CA</td>\n      <td>95381</td>\n      <td>West</td>\n      <td>esholman</td>\n      <td>DG&lt;&lt;&lt;e}*WgD&lt;U</td>\n    </tr>\n    <tr>\n      <th>998</th>\n      <td>803426</td>\n      <td>Mrs.</td>\n      <td>Maritza</td>\n      <td>H</td>\n      <td>Christian</td>\n      <td>F</td>\n      <td>maritza.christian@microsoft.com</td>\n      <td>Dion Christian</td>\n      <td>Stephanie Christian</td>\n      <td>Mooney</td>\n      <td>...</td>\n      <td>336-11-5030</td>\n      <td>203-224-9056</td>\n      <td>Stamford</td>\n      <td>Fairfield</td>\n      <td>Stamford</td>\n      <td>CT</td>\n      <td>6910</td>\n      <td>Northeast</td>\n      <td>mhchristian</td>\n      <td>Krs@#TnM</td>\n    </tr>\n    <tr>\n      <th>999</th>\n      <td>669618</td>\n      <td>Drs.</td>\n      <td>Phyllis</td>\n      <td>H</td>\n      <td>Dudley</td>\n      <td>F</td>\n      <td>phyllis.dudley@yahoo.co.in</td>\n      <td>Jarrod Dudley</td>\n      <td>Latisha Dudley</td>\n      <td>Wilcox</td>\n      <td>...</td>\n      <td>101-02-6501</td>\n      <td>405-970-2341</td>\n      <td>Meno</td>\n      <td>Major</td>\n      <td>Meno</td>\n      <td>OK</td>\n      <td>73760</td>\n      <td>South</td>\n      <td>phdudley</td>\n      <td>h6wt@400%&amp;Uu</td>\n    </tr>\n  </tbody>\n</table>\n<p>1000 rows × 37 columns</p>\n</div>"
     },
     "metadata": {},
     "output_type": "display_data"
    }
   ],
   "source": [
    "import pandas as pd\n",
    "\n",
    "# demo.csv\n",
    "file_path = \"demo.csv\"\n",
    "df = pd.read_csv(file_path)\n",
    "display(df)\n",
    "\n",
    "# test.csv\n",
    "file_path = \"test1.csv\"\n",
    "test_df = pd.read_csv(file_path)\n",
    "# display(test_df)\n"
   ]
  },
  {
   "cell_type": "markdown",
   "metadata": {},
   "source": [
    "## 1. Which month saw the highest joining of the employees\n",
    "\n",
    "   function name: max_joinings_month()\n",
    "   \n",
    "   inputs: DataFrame\n",
    "   \n",
    "   outputs: str"
   ]
  },
  {
   "cell_type": "code",
   "execution_count": 89,
   "metadata": {},
   "outputs": [
    {
     "name": "stdout",
     "output_type": "stream",
     "text": [
      "on demo.csv January\n",
      "on test.csv January\n"
     ]
    }
   ],
   "source": [
    "def max_joinings_month(df):\n",
    "\n",
    "    df[\"Date of Joining\"] = pd.to_datetime(df[\"Date of Joining\"])\n",
    "\n",
    "    df[\"Date of Joining\"] = df[\"Date of Joining\"].dt.month\n",
    "    month = df[\"Date of Joining\"].value_counts()\n",
    "    # print(month)\n",
    "    max_month = month.idxmax()\n",
    "    # print(max_month)\n",
    "\n",
    "    return pd.to_datetime(str(max_month), format='%m').strftime('%B')\n",
    "    \n",
    "\n",
    "print(\"on demo.csv\",max_joinings_month(df))\n",
    "print(\"on test.csv\",max_joinings_month(test_df))\n"
   ]
  },
  {
   "cell_type": "markdown",
   "metadata": {},
   "source": [
    "## 2. What is the mean salary is the state KS\n",
    "   \n",
    "   function name: mean_ks_salary()\n",
    "   \n",
    "   inputs: DataFrame\n",
    "   \n",
    "   outputs: float"
   ]
  },
  {
   "cell_type": "code",
   "execution_count": 60,
   "metadata": {},
   "outputs": [
    {
     "name": "stdout",
     "output_type": "stream",
     "text": [
      "on test.csv 121682.33333333333\n"
     ]
    }
   ],
   "source": [
    "def mean_ks_salary(df):\n",
    "    x = df[df['State'] == 'KS']\n",
    "\n",
    "\n",
    "    mean_sal = x['Salary'].mean() \n",
    "    \n",
    "    return mean_sal\n",
    "\n",
    "\n",
    "# print(\"on demo.csv\",mean_ks_salary(df))\n",
    "print(\"on test.csv\",mean_ks_salary(test_df))\n"
   ]
  },
  {
   "cell_type": "code",
   "execution_count": null,
   "metadata": {},
   "outputs": [],
   "source": []
  },
  {
   "cell_type": "markdown",
   "metadata": {},
   "source": [
    "## 3. Which Region has highest mean salary\n",
    "   \n",
    "   function name: max_mean_salary_region()\n",
    "   \n",
    "   inputs: DataFrame\n",
    "   \n",
    "   outputs: str"
   ]
  },
  {
   "cell_type": "code",
   "execution_count": 61,
   "metadata": {},
   "outputs": [
    {
     "name": "stdout",
     "output_type": "stream",
     "text": [
      "on test.csv West\n"
     ]
    }
   ],
   "source": [
    "def max_mean_salary_region(df):\n",
    "    x = df.groupby('Region')['Salary'].mean()\n",
    "    \n",
    "    max_reg = x.idxmax()\n",
    "    return max_reg\n",
    "\n",
    "# print(\"on demo.csv\",max_mean_salary_region(df))\n",
    "print(\"on test.csv\",max_mean_salary_region(test_df))\n"
   ]
  },
  {
   "cell_type": "code",
   "execution_count": 4,
   "metadata": {},
   "outputs": [
    {
     "name": "stdout",
     "output_type": "stream",
     "text": [
      "on demo.csv Midwest\n",
      "on test.csv Output Hidden\n"
     ]
    }
   ],
   "source": [
    "def max_mean_salary_region(df):\n",
    "    # your code here\n",
    "\n",
    "print(\"on demo.csv\",max_mean_salary_region(df))\n",
    "# print(\"on test.csv\",max_mean_salary_region(test_df))\n"
   ]
  },
  {
   "cell_type": "markdown",
   "metadata": {},
   "source": [
    "## 4. Which region has lowest mean salary\n",
    "   \n",
    "   function name: min_mean_salary_region()\n",
    "   \n",
    "   inputs: DataFrame\n",
    "   \n",
    "   outputs: str"
   ]
  },
  {
   "cell_type": "code",
   "execution_count": 62,
   "metadata": {},
   "outputs": [
    {
     "name": "stdout",
     "output_type": "stream",
     "text": [
      "on test.csv Midwest\n"
     ]
    }
   ],
   "source": [
    "def min_mean_salary_region(df):\n",
    "\n",
    "    x = df.groupby(\"Region\")[\"Salary\"].mean()\n",
    "\n",
    "    min_reg = x.idxmin()\n",
    "    return min_reg\n",
    "\n",
    "# print(\"on demo.csv\",min_mean_salary_region(df))\n",
    "print(\"on test.csv\",min_mean_salary_region(test_df))\n"
   ]
  },
  {
   "cell_type": "code",
   "execution_count": 5,
   "metadata": {},
   "outputs": [
    {
     "name": "stdout",
     "output_type": "stream",
     "text": [
      "on demo.csv West\n",
      "on test.csv Output Hidden\n"
     ]
    }
   ],
   "source": [
    "def min_mean_salary_region(df):\n",
    "    # your code here\n",
    "\n",
    "print(\"on demo.csv\",min_mean_salary_region(df))\n",
    "# print(\"on test.csv\",min_mean_salary_region(test_df))\n"
   ]
  },
  {
   "cell_type": "markdown",
   "metadata": {},
   "source": [
    "## 5. Which City has highest mean weight\n",
    "   \n",
    "   function name: max_mean_weight_city()\n",
    "   \n",
    "   inputs: DataFrame\n",
    "   \n",
    "   outputs: str"
   ]
  },
  {
   "cell_type": "code",
   "execution_count": 63,
   "metadata": {},
   "outputs": [
    {
     "name": "stdout",
     "output_type": "stream",
     "text": [
      "on test.csv Conroe\n"
     ]
    }
   ],
   "source": [
    "def max_mean_weight_city(df):\n",
    "    # Calculate mean weight for each city\n",
    "    x = df.groupby('City')[\"Weight in Kgs.\"].mean()\n",
    "\n",
    "    y = x.idxmax()\n",
    "    return y\n",
    "# print(\"on demo.csv\",max_mean_weight_city(df))\n",
    "print(\"on test.csv\",max_mean_weight_city(test_df))\n"
   ]
  },
  {
   "cell_type": "code",
   "execution_count": 6,
   "metadata": {},
   "outputs": [
    {
     "name": "stdout",
     "output_type": "stream",
     "text": [
      "on demo.csv Conroe\n",
      "on test.csv Output Hidden\n"
     ]
    }
   ],
   "source": [
    "def max_mean_weight_city(df):\n",
    "    # your code here\n",
    "\n",
    "print(\"on demo.csv\",max_mean_weight_city(df))\n",
    "# print(\"on test.csv\",max_mean_weight_city(test_df))\n"
   ]
  },
  {
   "cell_type": "markdown",
   "metadata": {},
   "source": [
    "## 6. What is the difference between mean salary of Doctors and Professors\n",
    "   \n",
    "   function name: dr_prof_mean_salary_diff()\n",
    "   \n",
    "   inputs: DataFrame\n",
    "   \n",
    "   outputs: float"
   ]
  },
  {
   "cell_type": "code",
   "execution_count": 65,
   "metadata": {},
   "outputs": [
    {
     "name": "stdout",
     "output_type": "stream",
     "text": [
      "on demo.csv -2635.981785063763\n",
      "on test.csv 7343.649553571435\n"
     ]
    }
   ],
   "source": [
    "def dr_prof_mean_salary_diff(df):\n",
    "    dr = df[df['Name Prefix'].isin(['Drs.', 'Dr.']) ]\n",
    "    prof = df[df['Name Prefix'] == 'Prof.']\n",
    "\n",
    "   \n",
    "    x = dr['Salary'].mean()\n",
    "    y = prof['Salary'].mean()\n",
    "\n",
    "    return x-y\n",
    "\n",
    "print(\"on demo.csv\",dr_prof_mean_salary_diff(df))\n",
    "print(\"on test.csv\",dr_prof_mean_salary_diff(test_df))"
   ]
  },
  {
   "cell_type": "code",
   "execution_count": 7,
   "metadata": {},
   "outputs": [
    {
     "name": "stdout",
     "output_type": "stream",
     "text": [
      "on demo.csv 2635.981785063763\n",
      "on test.csv Output Hidden\n"
     ]
    }
   ],
   "source": [
    "def dr_prof_mean_salary_diff(df):\n",
    "    # your code here\n",
    "\n",
    "print(\"on demo.csv\",dr_prof_mean_salary_diff(df))\n",
    "# print(\"on test.csv\",dr_prof_mean_salary_diff(test_df))\n"
   ]
  },
  {
   "cell_type": "markdown",
   "metadata": {},
   "source": [
    "## 7. How many female use yahoo\n",
    "   \n",
    "   function name: females_with_yahoo()\n",
    "   \n",
    "   inputs: DataFrame\n",
    "   \n",
    "   outputs: int"
   ]
  },
  {
   "cell_type": "code",
   "execution_count": 66,
   "metadata": {},
   "outputs": [
    {
     "name": "stdout",
     "output_type": "stream",
     "text": [
      "on demo.csv 69\n",
      "on test.csv 161\n"
     ]
    }
   ],
   "source": [
    "def females_with_yahoo(df):\n",
    "    f = df[(df['Gender'] == 'F') & (df['E Mail'].str.contains('@yahoo'))]\n",
    "\n",
    "    return len(f)\n",
    "print(\"on demo.csv\",females_with_yahoo(df))\n",
    "print(\"on test.csv\",females_with_yahoo(test_df))\n"
   ]
  },
  {
   "cell_type": "code",
   "execution_count": 8,
   "metadata": {},
   "outputs": [
    {
     "name": "stdout",
     "output_type": "stream",
     "text": [
      "on demo.csv 69\n",
      "on test.csv Output Hidden\n"
     ]
    }
   ],
   "source": [
    "def females_with_yahoo(df):\n",
    "    # your code here\n",
    "\n",
    "print(\"on demo.csv\",females_with_yahoo(df))\n",
    "# print(\"on test.csv\",females_with_yahoo(test_df))\n"
   ]
  },
  {
   "cell_type": "markdown",
   "metadata": {},
   "source": [
    "## 8. How many Doctors use gmail\n",
    "   \n",
    "   function name: doctors_with_gmail()\n",
    "   \n",
    "   inputs: DataFrame\n",
    "   \n",
    "   outputs: int"
   ]
  },
  {
   "cell_type": "code",
   "execution_count": 67,
   "metadata": {},
   "outputs": [
    {
     "name": "stdout",
     "output_type": "stream",
     "text": [
      "on demo.csv 42\n",
      "on test.csv 15\n"
     ]
    }
   ],
   "source": [
    "def doctors_with_gmail(df):\n",
    "    d = df[(df['Name Prefix'].isin(['Drs.', 'Dr.'])) & (df['E Mail'].str.contains('gmail'))]\n",
    "\n",
    "    return len(d)\n",
    "print(\"on demo.csv\",doctors_with_gmail(df))\n",
    "print(\"on test.csv\",doctors_with_gmail(test_df))\n"
   ]
  },
  {
   "cell_type": "markdown",
   "metadata": {},
   "source": [
    "## 9. What is the password of the youngest male\n",
    "   \n",
    "   function name: youngest_male_password()\n",
    "   \n",
    "   inputs: DataFrame\n",
    "   \n",
    "   outputs: str"
   ]
  },
  {
   "cell_type": "code",
   "execution_count": 18,
   "metadata": {
    "ExecuteTime": {
     "end_time": "2023-12-26T04:19:16.402719600Z",
     "start_time": "2023-12-26T04:19:16.371476300Z"
    }
   },
   "outputs": [
    {
     "name": "stdout",
     "output_type": "stream",
     "text": [
      "0.0\n",
      "on demo.csv None\n",
      "0.0\n",
      "on test.csv None\n"
     ]
    }
   ],
   "source": [
    "def youngest_male_password(df):\n",
    "    males = df[df['Gender'] == 'M']\n",
    "\n",
    "    y_male = males.loc[males['Date of Birth'].idxmin()]\n",
    "    # print(y_male)\n",
    "\n",
    "    p = y_male['Password']\n",
    "    return p\n",
    "\n",
    "\n",
    "print(\"on demo.csv\", youngest_male_password(df))\n",
    "print(\"on test.csv\", youngest_male_password(test_df))\n"
   ]
  },
  {
   "cell_type": "code",
   "execution_count": 10,
   "metadata": {},
   "outputs": [
    {
     "name": "stdout",
     "output_type": "stream",
     "text": [
      "on demo.csv xPr\\aGPTQ#v\n",
      "on test.csv Output Hidden\n"
     ]
    }
   ],
   "source": [
    "def youngest_male_password(df):\n",
    "    # your code here\n",
    "\n",
    "print(\"on demo.csv\",youngest_male_password(df))\n",
    "# print(\"on test.csv\",youngest_male_password(test_df))\n"
   ]
  }
 ],
 "metadata": {
  "kernelspec": {
   "display_name": "bootcamp",
   "language": "python",
   "name": "python3"
  },
  "language_info": {
   "codemirror_mode": {
    "name": "ipython",
    "version": 3
   },
   "file_extension": ".py",
   "mimetype": "text/x-python",
   "name": "python",
   "nbconvert_exporter": "python",
   "pygments_lexer": "ipython3",
   "version": "3.9.0"
  }
 },
 "nbformat": 4,
 "nbformat_minor": 2
}
