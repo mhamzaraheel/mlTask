{
 "cells": [
  {
   "cell_type": "code",
   "execution_count": 1,
   "outputs": [],
   "source": [
    "import re"
   ],
   "metadata": {
    "collapsed": false,
    "ExecuteTime": {
     "end_time": "2023-12-22T11:35:31.535674Z",
     "start_time": "2023-12-22T11:35:31.519845300Z"
    }
   }
  },
  {
   "cell_type": "markdown",
   "source": [
    "### Questions 1\n",
    "\n",
    "Write a Python program to check that a string contains only a certain set of characters (in this case a-z, A-Z and 0-9)."
   ],
   "metadata": {
    "collapsed": false
   }
  },
  {
   "cell_type": "code",
   "execution_count": 81,
   "id": "fb788c99",
   "metadata": {
    "ExecuteTime": {
     "end_time": "2023-12-22T12:36:26.038271900Z",
     "start_time": "2023-12-22T12:36:26.022649600Z"
    }
   },
   "outputs": [
    {
     "name": "stdout",
     "output_type": "stream",
     "text": [
      "None\n",
      "The string 'abcXYZ123 abcXYZ123' is not valid.\n"
     ]
    }
   ],
   "source": [
    "def is_valid_string(input_string):\n",
    "    pattern = re.compile(\"^[a-zA-Z0-9]+$\")\n",
    "    match = pattern.match(input_string)\n",
    "    print(match)\n",
    "    return bool(match)\n",
    "\n",
    "input_str = \"abcXYZ123 abcXYZ123\"\n",
    "if is_valid_string(input_str):\n",
    "    print(f\"The string '{input_str}' is valid.\")\n",
    "else:\n",
    "    print(f\"The string '{input_str}' is not valid.\")\n"
   ]
  },
  {
   "cell_type": "markdown",
   "id": "36b773c3",
   "metadata": {},
   "source": [
    "### Question 2\n",
    "\n",
    "Write a Python program that matches a string that has an a followed by zero or more b's."
   ]
  },
  {
   "cell_type": "code",
   "execution_count": 42,
   "id": "a552493a",
   "metadata": {
    "ExecuteTime": {
     "end_time": "2023-12-22T11:54:31.679335700Z",
     "start_time": "2023-12-22T11:54:31.663714900Z"
    }
   },
   "outputs": [
    {
     "name": "stdout",
     "output_type": "stream",
     "text": [
      "The string 'ab' matches the pattern.\n",
      "The string 'abb' matches the pattern.\n",
      "The string 'ac' does not match the pattern.\n",
      "The string 'a' matches the pattern.\n"
     ]
    }
   ],
   "source": [
    "import re\n",
    "\n",
    "def match_pattern(input_string):\n",
    "    pattern = re.compile(r'ab*')\n",
    "    match = pattern.fullmatch(input_string)\n",
    "\n",
    "    if match:\n",
    "        print(f\"The string '{input_string}' matches the pattern.\")\n",
    "    else:\n",
    "        print(f\"The string '{input_string}' does not match the pattern.\")\n",
    "\n",
    "input_str1 = \"ab\"\n",
    "input_str2 = \"abb\"\n",
    "input_str3 = \"ac\"\n",
    "input_str4 = \"a\"\n",
    "\n",
    "match_pattern(input_str1)\n",
    "match_pattern(input_str2)\n",
    "match_pattern(input_str3)\n",
    "match_pattern(input_str4)\n"
   ]
  },
  {
   "cell_type": "markdown",
   "id": "673d61a9",
   "metadata": {},
   "source": [
    "### Question 3\n",
    "\n",
    "Write a Python program that matches a string that has an a followed by one or more b's."
   ]
  },
  {
   "cell_type": "code",
   "execution_count": 43,
   "id": "7e0fb77a",
   "metadata": {
    "ExecuteTime": {
     "end_time": "2023-12-22T11:54:35.477606400Z",
     "start_time": "2023-12-22T11:54:35.461986100Z"
    }
   },
   "outputs": [
    {
     "name": "stdout",
     "output_type": "stream",
     "text": [
      "The string 'ab' matches the pattern.\n",
      "The string 'abb' matches the pattern.\n",
      "The string 'ac' does not match the pattern.\n",
      "The string 'a' does not match the pattern.\n"
     ]
    }
   ],
   "source": [
    "import re\n",
    "\n",
    "def match_pattern(input_string):\n",
    "    pattern = re.compile(r'ab+')\n",
    "    match = pattern.fullmatch(input_string)\n",
    "\n",
    "    if match:\n",
    "        print(f\"The string '{input_string}' matches the pattern.\")\n",
    "    else:\n",
    "        print(f\"The string '{input_string}' does not match the pattern.\")\n",
    "\n",
    "input_str1 = \"ab\"\n",
    "input_str2 = \"abb\"\n",
    "input_str3 = \"ac\"\n",
    "input_str4 = \"a\"\n",
    "\n",
    "match_pattern(input_str1)\n",
    "match_pattern(input_str2)\n",
    "match_pattern(input_str3)\n",
    "match_pattern(input_str4)\n"
   ]
  },
  {
   "cell_type": "markdown",
   "id": "8494f5a8",
   "metadata": {},
   "source": [
    "### Question 4\n",
    "Write a Python program that matches a string that has an a followed by zero or one 'b'."
   ]
  },
  {
   "cell_type": "code",
   "execution_count": 62,
   "id": "df4a9688",
   "metadata": {
    "ExecuteTime": {
     "end_time": "2023-12-22T12:04:33.015299900Z",
     "start_time": "2023-12-22T12:04:32.968232800Z"
    }
   },
   "outputs": [
    {
     "name": "stdout",
     "output_type": "stream",
     "text": [
      "The string 'ab' matches the pattern.\n",
      "The string 'abb' matches the pattern.\n",
      "The string 'ac' matches the pattern.\n",
      "The string 'a' matches the pattern.\n"
     ]
    }
   ],
   "source": [
    "def match_pattern(input_string):\n",
    "    pattern = re.compile(r'ab?')\n",
    "    match = pattern.match(input_string)\n",
    "\n",
    "    if match:\n",
    "        print(f\"The string '{input_string}' matches the pattern.\")\n",
    "    else:\n",
    "        print(f\"The string '{input_string}' does not match the pattern.\")\n",
    "\n",
    "# Example usage:\n",
    "input_str1 = \"ab\"\n",
    "input_str2 = \"abb\"\n",
    "input_str3 = \"ac\"\n",
    "input_str4 = \"a\"\n",
    "\n",
    "match_pattern(input_str1)\n",
    "match_pattern(input_str2)\n",
    "match_pattern(input_str3)\n",
    "match_pattern(input_str4)\n"
   ]
  },
  {
   "cell_type": "markdown",
   "id": "cb6b8dc8",
   "metadata": {},
   "source": [
    "### Question 5\n",
    "Write a Python program to find sequences of lowercase letters joined by an underscore."
   ]
  },
  {
   "cell_type": "code",
   "execution_count": 65,
   "id": "fcf95464",
   "metadata": {
    "ExecuteTime": {
     "end_time": "2023-12-22T12:07:57.494452600Z",
     "start_time": "2023-12-22T12:07:57.447588200Z"
    }
   },
   "outputs": [
    {
     "name": "stdout",
     "output_type": "stream",
     "text": [
      "Found sequences: <re.Match object; span=(0, 11), match='hello_world'>\n",
      "Found sequences: <re.Match object; span=(0, 18), match='python_programming'>\n",
      "No matching sequences found.\n",
      "Found sequences: <re.Match object; span=(0, 14), match='no_underscores'>\n",
      "No matching sequences found.\n"
     ]
    }
   ],
   "source": [
    "import re\n",
    "\n",
    "def find_sequences(input_string):\n",
    "    pattern = re.compile(r'[a-z]+_[a-z]+')\n",
    "    matches = pattern.match(input_string)\n",
    "\n",
    "    if matches:\n",
    "        print(f\"Found sequences: {matches}\")\n",
    "    else:\n",
    "        print(\"No matching sequences found.\")\n",
    "\n",
    "\n",
    "input_str1 = \"hello_world\"\n",
    "input_str2 = \"python_programming\"\n",
    "input_str3 = \"Mixed_Case\"\n",
    "input_str4 = \"no_underscores\"\n",
    "input_str5 = \"Italian_Recipies\"\n",
    "\n",
    "find_sequences(input_str1)\n",
    "find_sequences(input_str2)\n",
    "find_sequences(input_str3)\n",
    "find_sequences(input_str4)\n",
    "find_sequences(input_str5)\n"
   ]
  },
  {
   "cell_type": "markdown",
   "id": "3f07cde8",
   "metadata": {},
   "source": [
    "### Question 6\n",
    "Write a Python program that matches a word at the beginning of a string."
   ]
  },
  {
   "cell_type": "code",
   "execution_count": null,
   "id": "f7b852af",
   "metadata": {},
   "outputs": [],
   "source": []
  },
  {
   "cell_type": "markdown",
   "id": "170c8d78",
   "metadata": {},
   "source": [
    "### Question 7\n",
    "Write a Python program that matches a word containing 'z'."
   ]
  },
  {
   "cell_type": "code",
   "execution_count": null,
   "id": "c5c796b8",
   "metadata": {},
   "outputs": [],
   "source": []
  },
  {
   "cell_type": "markdown",
   "id": "c2d89556",
   "metadata": {},
   "source": [
    "### Question 8\n",
    "Write a Python program to match a string that contains only upper and lowercase letters, numbers, and underscores."
   ]
  },
  {
   "cell_type": "code",
   "execution_count": null,
   "id": "a1958601",
   "metadata": {},
   "outputs": [],
   "source": []
  },
  {
   "cell_type": "markdown",
   "id": "c476a75a",
   "metadata": {},
   "source": [
    "### Question 9\n",
    "Write a Python program to search for literal strings within a string.<br>\n",
    "Sample text : 'The quick brown fox jumps over the lazy dog.'<br>\n",
    "Searched words : 'fox', 'dog', 'horse'<br>"
   ]
  },
  {
   "cell_type": "code",
   "execution_count": null,
   "id": "62fdfa6c",
   "metadata": {},
   "outputs": [],
   "source": []
  },
  {
   "cell_type": "markdown",
   "id": "5da7e932",
   "metadata": {},
   "source": [
    "### Question 10\n",
    "Write a Python program to search for a literal string in a string and also find the location within the original string where the pattern occurs.<br>\n",
    "\n",
    "Sample text : 'The quick brown fox jumps over the lazy dog.'<br>\n",
    "Searched words : 'fox'<br>\n",
    "\n"
   ]
  },
  {
   "cell_type": "code",
   "execution_count": null,
   "id": "a540ad56",
   "metadata": {},
   "outputs": [],
   "source": []
  },
  {
   "cell_type": "markdown",
   "id": "3c788609",
   "metadata": {},
   "source": [
    "### Question 11\n",
    "Write a Python program that checks whether a word starts and ends with a vowel in a given string. Return true if a word matches the condition; otherwise, return false.<br>\n",
    "Sample Data:<br>\n",
    "(\"Red Orange White\") -> True<br>\n",
    "(\"Red White Black\") -> False<br>\n",
    "(\"abcd dkise eosksu\") -> True<br>"
   ]
  },
  {
   "cell_type": "code",
   "execution_count": null,
   "id": "6a5c8575",
   "metadata": {},
   "outputs": [],
   "source": []
  },
  {
   "cell_type": "markdown",
   "id": "9bc8c2bb",
   "metadata": {},
   "source": [
    "### Question 12\n",
    "Write a Python program that takes a string with some words. For two consecutive words in the said string, check whether the first word ends with a vowel and the next word begins with a vowel. If the program meets the condition, return true, otherwise false. Only one space is allowed between the words.<br>\n",
    "Sample Data:<br>\n",
    "(\"These exercises can be used for practice.\") -> True<br>\n",
    "(\"Following exercises should be removed for practice.\") -> False<br>\n",
    "(\"I use these stories in my classroom.\") -> True<br>"
   ]
  },
  {
   "cell_type": "code",
   "execution_count": null,
   "id": "3b5f1d7b",
   "metadata": {},
   "outputs": [],
   "source": []
  }
 ],
 "metadata": {
  "kernelspec": {
   "display_name": "Python 3 (ipykernel)",
   "language": "python",
   "name": "python3"
  },
  "language_info": {
   "codemirror_mode": {
    "name": "ipython",
    "version": 3
   },
   "file_extension": ".py",
   "mimetype": "text/x-python",
   "name": "python",
   "nbconvert_exporter": "python",
   "pygments_lexer": "ipython3",
   "version": "3.10.9"
  }
 },
 "nbformat": 4,
 "nbformat_minor": 5
}
