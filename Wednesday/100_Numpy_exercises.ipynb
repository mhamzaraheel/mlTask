{
 "cells": [
  {
   "cell_type": "markdown",
   "id": "6293cc50",
   "metadata": {},
   "source": [
    "# 100 numpy exercises\n",
    "\n",
    "This is a collection of exercises that have been collected in the numpy mailing list, on stack overflow\n",
    "and in the numpy documentation. The goal of this collection is to offer a quick reference for both old\n",
    "and new users but also to provide a set of exercises for those who teach.\n",
    "\n",
    "\n",
    "If you find an error or think you've a better way to solve some of them, feel\n",
    "free to open an issue at <https://github.com/rougier/numpy-100>."
   ]
  },
  {
   "cell_type": "markdown",
   "id": "a167c052",
   "metadata": {},
   "source": [
    "File automatically generated. See the documentation to update questions/answers/hints programmatically."
   ]
  },
  {
   "cell_type": "markdown",
   "id": "57fc0ee5",
   "metadata": {},
   "source": [
    "Run the `initialize.py` module, then for each question you can query the\n",
    "answer or an hint with `hint(n)` or `answer(n)` for `n` question number."
   ]
  },
  {
   "cell_type": "code",
   "execution_count": null,
   "id": "3d46fba2",
   "metadata": {},
   "outputs": [],
   "source": [
    "%run initialise.py"
   ]
  },
  {
   "cell_type": "markdown",
   "id": "3c1222ff",
   "metadata": {},
   "source": [
    "#### 1. Import the numpy package under the name `np` (★☆☆)"
   ]
  },
  {
   "cell_type": "code",
   "execution_count": null,
   "id": "f52e6a0b",
   "metadata": {
    "ExecuteTime": {
     "start_time": "2023-12-20T12:19:32.870442100Z"
    }
   },
   "outputs": [],
   "source": [
    "import numpy as np"
   ]
  },
  {
   "cell_type": "markdown",
   "id": "9d9f4753",
   "metadata": {},
   "source": [
    "#### 2. Print the numpy version and the configuration (★☆☆)"
   ]
  },
  {
   "cell_type": "code",
   "execution_count": null,
   "id": "b7fa5fa1",
   "metadata": {
    "ExecuteTime": {
     "end_time": "2023-12-20T12:19:41.934012500Z",
     "start_time": "2023-12-20T12:19:32.870442100Z"
    }
   },
   "outputs": [
    {
     "name": "stdout",
     "output_type": "stream",
     "text": [
      "1.26.2\n",
      "Build Dependencies:\n",
      "  blas:\n",
      "    detection method: pkgconfig\n",
      "    found: true\n",
      "    include directory: /c/opt/64/include\n",
      "    lib directory: /c/opt/64/lib\n",
      "    name: openblas64\n",
      "    openblas configuration: USE_64BITINT=1 DYNAMIC_ARCH=1 DYNAMIC_OLDER= NO_CBLAS=\n",
      "      NO_LAPACK= NO_LAPACKE= NO_AFFINITY=1 USE_OPENMP= SKYLAKEX MAX_THREADS=2\n",
      "    pc file directory: C:/opt/64/lib/pkgconfig\n",
      "    version: 0.3.23.dev\n",
      "  lapack:\n",
      "    detection method: internal\n",
      "    found: true\n",
      "    include directory: unknown\n",
      "    lib directory: unknown\n",
      "    name: dep1404921030640\n",
      "    openblas configuration: unknown\n",
      "    pc file directory: unknown\n",
      "    version: 1.26.2\n",
      "Compilers:\n",
      "  c:\n",
      "    commands: cl\n",
      "    linker: link\n",
      "    name: msvc\n",
      "    version: 19.29.30152\n",
      "  c++:\n",
      "    commands: cl\n",
      "    linker: link\n",
      "    name: msvc\n",
      "    version: 19.29.30152\n",
      "  cython:\n",
      "    commands: cython\n",
      "    linker: cython\n",
      "    name: cython\n",
      "    version: 3.0.5\n",
      "Machine Information:\n",
      "  build:\n",
      "    cpu: x86_64\n",
      "    endian: little\n",
      "    family: x86_64\n",
      "    system: windows\n",
      "  host:\n",
      "    cpu: x86_64\n",
      "    endian: little\n",
      "    family: x86_64\n",
      "    system: windows\n",
      "Python Information:\n",
      "  path: C:\\Users\\runneradmin\\AppData\\Local\\Temp\\cibw-run-8u5oqtnh\\cp39-win_amd64\\build\\venv\\Scripts\\python.exe\n",
      "  version: '3.9'\n",
      "SIMD Extensions:\n",
      "  baseline:\n",
      "  - SSE\n",
      "  - SSE2\n",
      "  - SSE3\n",
      "  found:\n",
      "  - SSSE3\n",
      "  - SSE41\n",
      "  - POPCNT\n",
      "  - SSE42\n",
      "  - AVX\n",
      "  - F16C\n",
      "  - FMA3\n",
      "  - AVX2\n",
      "  not found:\n",
      "  - AVX512F\n",
      "  - AVX512CD\n",
      "  - AVX512_SKX\n",
      "  - AVX512_CLX\n",
      "  - AVX512_CNL\n",
      "  - AVX512_ICL\n",
      "\n",
      "None\n"
     ]
    }
   ],
   "source": [
    "print(np.__version__)\n",
    "print(np.show_config())"
   ]
  },
  {
   "cell_type": "markdown",
   "id": "3e4c23c6",
   "metadata": {},
   "source": [
    "#### 3. Create a null vector of size 10 (★☆☆)"
   ]
  },
  {
   "cell_type": "code",
   "execution_count": null,
   "id": "083c5c46",
   "metadata": {
    "ExecuteTime": {
     "end_time": "2023-12-20T12:19:41.949668100Z",
     "start_time": "2023-12-20T12:19:32.886062100Z"
    }
   },
   "outputs": [
    {
     "data": {
      "text/plain": "array([0., 0., 0., 0., 0., 0., 0., 0., 0., 0.])"
     },
     "execution_count": 346,
     "metadata": {},
     "output_type": "execute_result"
    }
   ],
   "source": [
    "null = np.zeros(10)\n",
    "null"
   ]
  },
  {
   "cell_type": "markdown",
   "id": "c38bbe82",
   "metadata": {},
   "source": [
    "#### 4. How to find the memory size of any array (★☆☆)"
   ]
  },
  {
   "cell_type": "code",
   "execution_count": 393,
   "id": "02b04021",
   "metadata": {
    "ExecuteTime": {
     "end_time": "2023-12-20T12:19:42.863541200Z",
     "start_time": "2023-12-20T12:19:32.932926200Z"
    }
   },
   "outputs": [
    {
     "name": "stdout",
     "output_type": "stream",
     "text": [
      "4\n",
      "4\n",
      "16\n",
      "4\n",
      "4\n",
      "16\n"
     ]
    }
   ],
   "source": [
    "x = np.array([1,2,3,4])\n",
    "print(x.size)\n",
    "print(x.itemsize)\n",
    "print(x.size * x.itemsize)"
   ]
  },
  {
   "cell_type": "markdown",
   "id": "67f893d4",
   "metadata": {},
   "source": [
    "#### 5. How to get the documentation of the numpy add function from the command line? (★☆☆)"
   ]
  },
  {
   "cell_type": "code",
   "execution_count": 394,
   "id": "40e6b70d",
   "metadata": {
    "ExecuteTime": {
     "end_time": "2023-12-20T12:19:42.894782300Z",
     "start_time": "2023-12-20T12:19:33.011033400Z"
    }
   },
   "outputs": [
    {
     "name": "stdout",
     "output_type": "stream",
     "text": [
      "Help on ufunc:\n",
      "\n",
      "add = <ufunc 'add'>\n",
      "    add(x1, x2, /, out=None, *, where=True, casting='same_kind', order='K', dtype=None, subok=True[, signature, extobj])\n",
      "    \n",
      "    Add arguments element-wise.\n",
      "    \n",
      "    Parameters\n",
      "    ----------\n",
      "    x1, x2 : array_like\n",
      "        The arrays to be added.\n",
      "        If ``x1.shape != x2.shape``, they must be broadcastable to a common\n",
      "        shape (which becomes the shape of the output).\n",
      "    out : ndarray, None, or tuple of ndarray and None, optional\n",
      "        A location into which the result is stored. If provided, it must have\n",
      "        a shape that the inputs broadcast to. If not provided or None,\n",
      "        a freshly-allocated array is returned. A tuple (possible only as a\n",
      "        keyword argument) must have length equal to the number of outputs.\n",
      "    where : array_like, optional\n",
      "        This condition is broadcast over the input. At locations where the\n",
      "        condition is True, the `out` array will be set to the ufunc result.\n",
      "        Elsewhere, the `out` array will retain its original value.\n",
      "        Note that if an uninitialized `out` array is created via the default\n",
      "        ``out=None``, locations within it where the condition is False will\n",
      "        remain uninitialized.\n",
      "    **kwargs\n",
      "        For other keyword-only arguments, see the\n",
      "        :ref:`ufunc docs <ufuncs.kwargs>`.\n",
      "    \n",
      "    Returns\n",
      "    -------\n",
      "    add : ndarray or scalar\n",
      "        The sum of `x1` and `x2`, element-wise.\n",
      "        This is a scalar if both `x1` and `x2` are scalars.\n",
      "    \n",
      "    Notes\n",
      "    -----\n",
      "    Equivalent to `x1` + `x2` in terms of array broadcasting.\n",
      "    \n",
      "    Examples\n",
      "    --------\n",
      "    >>> np.add(1.0, 4.0)\n",
      "    5.0\n",
      "    >>> x1 = np.arange(9.0).reshape((3, 3))\n",
      "    >>> x2 = np.arange(3.0)\n",
      "    >>> np.add(x1, x2)\n",
      "    array([[  0.,   2.,   4.],\n",
      "           [  3.,   5.,   7.],\n",
      "           [  6.,   8.,  10.]])\n",
      "    \n",
      "    The ``+`` operator can be used as a shorthand for ``np.add`` on ndarrays.\n",
      "    \n",
      "    >>> x1 = np.arange(9.0).reshape((3, 3))\n",
      "    >>> x2 = np.arange(3.0)\n",
      "    >>> x1 + x2\n",
      "    array([[ 0.,  2.,  4.],\n",
      "           [ 3.,  5.,  7.],\n",
      "           [ 6.,  8., 10.]])\n",
      "\n",
      "Help on ufunc:\n",
      "\n",
      "add = <ufunc 'add'>\n",
      "    add(x1, x2, /, out=None, *, where=True, casting='same_kind', order='K', dtype=None, subok=True[, signature, extobj])\n",
      "    \n",
      "    Add arguments element-wise.\n",
      "    \n",
      "    Parameters\n",
      "    ----------\n",
      "    x1, x2 : array_like\n",
      "        The arrays to be added.\n",
      "        If ``x1.shape != x2.shape``, they must be broadcastable to a common\n",
      "        shape (which becomes the shape of the output).\n",
      "    out : ndarray, None, or tuple of ndarray and None, optional\n",
      "        A location into which the result is stored. If provided, it must have\n",
      "        a shape that the inputs broadcast to. If not provided or None,\n",
      "        a freshly-allocated array is returned. A tuple (possible only as a\n",
      "        keyword argument) must have length equal to the number of outputs.\n",
      "    where : array_like, optional\n",
      "        This condition is broadcast over the input. At locations where the\n",
      "        condition is True, the `out` array will be set to the ufunc result.\n",
      "        Elsewhere, the `out` array will retain its original value.\n",
      "        Note that if an uninitialized `out` array is created via the default\n",
      "        ``out=None``, locations within it where the condition is False will\n",
      "        remain uninitialized.\n",
      "    **kwargs\n",
      "        For other keyword-only arguments, see the\n",
      "        :ref:`ufunc docs <ufuncs.kwargs>`.\n",
      "    \n",
      "    Returns\n",
      "    -------\n",
      "    add : ndarray or scalar\n",
      "        The sum of `x1` and `x2`, element-wise.\n",
      "        This is a scalar if both `x1` and `x2` are scalars.\n",
      "    \n",
      "    Notes\n",
      "    -----\n",
      "    Equivalent to `x1` + `x2` in terms of array broadcasting.\n",
      "    \n",
      "    Examples\n",
      "    --------\n",
      "    >>> np.add(1.0, 4.0)\n",
      "    5.0\n",
      "    >>> x1 = np.arange(9.0).reshape((3, 3))\n",
      "    >>> x2 = np.arange(3.0)\n",
      "    >>> np.add(x1, x2)\n",
      "    array([[  0.,   2.,   4.],\n",
      "           [  3.,   5.,   7.],\n",
      "           [  6.,   8.,  10.]])\n",
      "    \n",
      "    The ``+`` operator can be used as a shorthand for ``np.add`` on ndarrays.\n",
      "    \n",
      "    >>> x1 = np.arange(9.0).reshape((3, 3))\n",
      "    >>> x2 = np.arange(3.0)\n",
      "    >>> x1 + x2\n",
      "    array([[ 0.,  2.,  4.],\n",
      "           [ 3.,  5.,  7.],\n",
      "           [ 6.,  8., 10.]])\n",
      "\n"
     ]
    }
   ],
   "source": [
    "# python -c \"import numpy as np; help(np.add)\"\n",
    "help(np.add)"
   ]
  },
  {
   "cell_type": "markdown",
   "id": "e0c739c6",
   "metadata": {},
   "source": [
    "#### 6. Create a null vector of size 10 but the fifth value which is 1 (★☆☆)"
   ]
  },
  {
   "cell_type": "code",
   "execution_count": 395,
   "id": "bcceacf7",
   "metadata": {
    "ExecuteTime": {
     "end_time": "2023-12-20T12:19:42.894782300Z",
     "start_time": "2023-12-20T12:19:33.073518200Z"
    }
   },
   "outputs": [
    {
     "data": {
      "text/plain": "array([0., 0., 0., 0., 1., 0., 0., 0., 0., 0.])"
     },
     "execution_count": 349,
     "metadata": {},
     "output_type": "execute_result"
    },
    {
     "data": {
      "text/plain": "array([0., 0., 0., 0., 1., 0., 0., 0., 0., 0.])"
     },
     "execution_count": 395,
     "metadata": {},
     "output_type": "execute_result"
    }
   ],
   "source": [
    "null = np.zeros(10)\n",
    "null[4] = 1\n",
    "null"
   ]
  },
  {
   "cell_type": "markdown",
   "id": "fbebedab",
   "metadata": {},
   "source": [
    "#### 7. Create a vector with values ranging from 10 to 49 (★☆☆)"
   ]
  },
  {
   "cell_type": "code",
   "execution_count": 396,
   "id": "3d117d54",
   "metadata": {
    "ExecuteTime": {
     "end_time": "2023-12-20T12:19:42.894782300Z",
     "start_time": "2023-12-20T12:19:33.136003300Z"
    }
   },
   "outputs": [
    {
     "data": {
      "text/plain": "array([10, 11, 12, 13, 14, 15, 16, 17, 18, 19, 20, 21, 22, 23, 24, 25, 26,\n       27, 28, 29, 30, 31, 32, 33, 34, 35, 36, 37, 38, 39, 40, 41, 42, 43,\n       44, 45, 46, 47, 48, 49])"
     },
     "execution_count": 350,
     "metadata": {},
     "output_type": "execute_result"
    },
    {
     "data": {
      "text/plain": "array([10, 11, 12, 13, 14, 15, 16, 17, 18, 19, 20, 21, 22, 23, 24, 25, 26,\n       27, 28, 29, 30, 31, 32, 33, 34, 35, 36, 37, 38, 39, 40, 41, 42, 43,\n       44, 45, 46, 47, 48, 49])"
     },
     "execution_count": 396,
     "metadata": {},
     "output_type": "execute_result"
    }
   ],
   "source": [
    "ten_to_fortyNine = np.arange(start=10,stop = 50)\n",
    "ten_to_fortyNine"
   ]
  },
  {
   "cell_type": "markdown",
   "id": "ad0bff02",
   "metadata": {},
   "source": [
    "#### 8. Reverse a vector (first element becomes last) (★☆☆)"
   ]
  },
  {
   "cell_type": "code",
   "execution_count": 396,
   "id": "22d23470",
   "metadata": {
    "ExecuteTime": {
     "end_time": "2023-12-20T12:19:42.910403300Z",
     "start_time": "2023-12-20T12:19:33.198487900Z"
    }
   },
   "outputs": [],
   "source": []
  },
  {
   "cell_type": "markdown",
   "id": "9f59d7e1",
   "metadata": {},
   "source": [
    "#### 9. Create a 3x3 matrix with values ranging from 0 to 8 (★☆☆)"
   ]
  },
  {
   "cell_type": "code",
   "execution_count": 397,
   "id": "7449e82d",
   "metadata": {
    "ExecuteTime": {
     "end_time": "2023-12-20T12:19:42.926020900Z",
     "start_time": "2023-12-20T12:19:33.260974300Z"
    }
   },
   "outputs": [
    {
     "data": {
      "text/plain": "array([[0, 1, 2],\n       [3, 4, 5],\n       [6, 7, 8]])"
     },
     "execution_count": 351,
     "metadata": {},
     "output_type": "execute_result"
    },
    {
     "data": {
      "text/plain": "array([[0, 1, 2],\n       [3, 4, 5],\n       [6, 7, 8]])"
     },
     "execution_count": 397,
     "metadata": {},
     "output_type": "execute_result"
    }
   ],
   "source": [
    "three_three_matrix = np.arange(start=0,stop=9).reshape(3,3)\n",
    "three_three_matrix"
   ]
  },
  {
   "cell_type": "markdown",
   "id": "f374c4cf",
   "metadata": {},
   "source": [
    "#### 10. Find indices of non-zero elements from [1,2,0,0,4,0] (★☆☆)"
   ]
  },
  {
   "cell_type": "code",
   "execution_count": 398,
   "id": "1a84bed8",
   "metadata": {
    "ExecuteTime": {
     "end_time": "2023-12-20T12:19:42.926020900Z",
     "start_time": "2023-12-20T12:19:33.323459600Z"
    }
   },
   "outputs": [
    {
     "data": {
      "text/plain": "(array([0, 1, 4], dtype=int64),)"
     },
     "execution_count": 352,
     "metadata": {},
     "output_type": "execute_result"
    },
    {
     "data": {
      "text/plain": "(array([0, 1, 4], dtype=int64),)"
     },
     "execution_count": 398,
     "metadata": {},
     "output_type": "execute_result"
    }
   ],
   "source": [
    "x = np.array([1,2,0,0,4,0])\n",
    "non_zero = np.nonzero(x)\n",
    "non_zero"
   ]
  },
  {
   "cell_type": "markdown",
   "id": "9c4707f5",
   "metadata": {},
   "source": [
    "#### 11. Create a 3x3 identity matrix (★☆☆)"
   ]
  },
  {
   "cell_type": "code",
   "execution_count": 399,
   "id": "29dc1fd3",
   "metadata": {
    "ExecuteTime": {
     "end_time": "2023-12-20T12:19:42.941676700Z",
     "start_time": "2023-12-20T12:19:33.385945900Z"
    }
   },
   "outputs": [
    {
     "data": {
      "text/plain": "array([[1., 0., 0.],\n       [0., 1., 0.],\n       [0., 0., 1.]])"
     },
     "execution_count": 353,
     "metadata": {},
     "output_type": "execute_result"
    },
    {
     "data": {
      "text/plain": "array([[1., 0., 0.],\n       [0., 1., 0.],\n       [0., 0., 1.]])"
     },
     "execution_count": 399,
     "metadata": {},
     "output_type": "execute_result"
    }
   ],
   "source": [
    "np.eye(3)"
   ]
  },
  {
   "cell_type": "code",
   "execution_count": 399,
   "outputs": [],
   "source": [],
   "metadata": {
    "collapsed": false,
    "ExecuteTime": {
     "end_time": "2023-12-20T12:19:42.941676700Z",
     "start_time": "2023-12-20T12:19:33.401567200Z"
    }
   }
  },
  {
   "cell_type": "markdown",
   "id": "3bac294a",
   "metadata": {},
   "source": [
    "#### 12. Create a 3x3x3 array with random values (★☆☆)"
   ]
  },
  {
   "cell_type": "code",
   "execution_count": 400,
   "id": "eadfae67",
   "metadata": {
    "ExecuteTime": {
     "end_time": "2023-12-20T12:19:42.941676700Z",
     "start_time": "2023-12-20T12:19:33.448428800Z"
    }
   },
   "outputs": [
    {
     "data": {
      "text/plain": "array([[[0.28275818, 0.23551677, 0.95093039],\n        [0.89159571, 0.68213206, 0.81551507],\n        [0.3623496 , 0.40185084, 0.98170346]],\n\n       [[0.61086685, 0.28477678, 0.86664597],\n        [0.12856507, 0.7539128 , 0.92644303],\n        [0.94591587, 0.81545723, 0.31587044]],\n\n       [[0.31364862, 0.53252144, 0.39018872],\n        [0.50398255, 0.90440067, 0.36239471],\n        [0.58662896, 0.96994254, 0.28663181]]])"
     },
     "execution_count": 354,
     "metadata": {},
     "output_type": "execute_result"
    },
    {
     "data": {
      "text/plain": "array([[[0.59529806, 0.73127134, 0.09614741],\n        [0.43791078, 0.99294113, 0.77090315],\n        [0.57638662, 0.75266512, 0.81581831]],\n\n       [[0.81849135, 0.11256854, 0.17897196],\n        [0.09255734, 0.50151706, 0.57957287],\n        [0.06309034, 0.2314376 , 0.71152371]],\n\n       [[0.80128157, 0.18024683, 0.26564672],\n        [0.9310531 , 0.67396523, 0.63158724],\n        [0.92099117, 0.35568789, 0.25266604]]])"
     },
     "execution_count": 400,
     "metadata": {},
     "output_type": "execute_result"
    }
   ],
   "source": [
    "np.random.rand(3,3,3)"
   ]
  },
  {
   "cell_type": "markdown",
   "id": "466c2989",
   "metadata": {},
   "source": [
    "#### 13. Create a 10x10 array with random values and find the minimum and maximum values (★☆☆)"
   ]
  },
  {
   "cell_type": "code",
   "execution_count": 401,
   "outputs": [
    {
     "name": "stdout",
     "output_type": "stream",
     "text": [
      "maximum_val = 0.9989676300703874\n",
      "minimum_val = 0.004691841262238983\n",
      "maximum_val = 0.9996033323068076\n",
      "minimum_val = 0.03246907599577031\n"
     ]
    }
   ],
   "source": [
    "ten_ten = np.random.rand(10,10)\n",
    "print(f\"maximum_val = {np.max(ten_ten)}\")\n",
    "print(f\"minimum_val = {np.min(ten_ten)}\")"
   ],
   "metadata": {
    "collapsed": false,
    "ExecuteTime": {
     "end_time": "2023-12-20T12:19:42.988511Z",
     "start_time": "2023-12-20T12:19:33.510914900Z"
    }
   }
  },
  {
   "cell_type": "code",
   "execution_count": 402,
   "outputs": [
    {
     "name": "stdout",
     "output_type": "stream",
     "text": [
      "Maximum value in the array: 7\n",
      "Maximum value in the array: 7\n"
     ]
    }
   ],
   "source": [
    "import numpy as np\n",
    "\n",
    "arr = np.array([1, 5, 3, 7, 2])\n",
    "max_value = np.max(arr)\n",
    "\n",
    "print(\"Maximum value in the array:\", max_value)\n"
   ],
   "metadata": {
    "collapsed": false,
    "ExecuteTime": {
     "end_time": "2023-12-20T12:19:42.988511Z",
     "start_time": "2023-12-20T12:19:33.526571400Z"
    }
   }
  },
  {
   "cell_type": "code",
   "execution_count": 403,
   "outputs": [
    {
     "name": "stdout",
     "output_type": "stream",
     "text": [
      "Maximum value in the matrix: 9\n",
      "Maximum value in the matrix: 9\n"
     ]
    }
   ],
   "source": [
    "import numpy as np\n",
    "\n",
    "matrix = np.array([[1, 2, 3], [4, 6, 5], [7, 8, 9]])\n",
    "max_value = np.max(matrix)\n",
    "\n",
    "print(\"Maximum value in the matrix:\", max_value)\n"
   ],
   "metadata": {
    "collapsed": false,
    "ExecuteTime": {
     "end_time": "2023-12-20T12:19:42.988511Z",
     "start_time": "2023-12-20T12:19:33.542191600Z"
    }
   }
  },
  {
   "cell_type": "code",
   "execution_count": 404,
   "outputs": [
    {
     "name": "stdout",
     "output_type": "stream",
     "text": [
      "Maximum values along columns: [7 8 9]\n",
      "Maximum values along rows: [3 6 9]\n",
      "Maximum values along columns: [7 8 9]\n",
      "Maximum values along rows: [3 6 9]\n"
     ]
    }
   ],
   "source": [
    "import numpy as np\n",
    "\n",
    "matrix = np.array([[1, 2, 3], [4, 5, 6], [7, 8, 9]])\n",
    "\n",
    "max_values_along_columns = np.max(matrix, axis=0)\n",
    "max_values_along_rows = np.max(matrix, axis=1)\n",
    "\n",
    "print(\"Maximum values along columns:\", max_values_along_columns)\n",
    "print(\"Maximum values along rows:\", max_values_along_rows)\n"
   ],
   "metadata": {
    "collapsed": false,
    "ExecuteTime": {
     "end_time": "2023-12-20T12:19:42.988511Z",
     "start_time": "2023-12-20T12:19:33.557812500Z"
    }
   }
  },
  {
   "cell_type": "code",
   "execution_count": 405,
   "outputs": [
    {
     "name": "stdout",
     "output_type": "stream",
     "text": [
      "Maximum values along the first axis (axis 0):\n",
      "[[1 2 3]\n",
      " [4 5 6]\n",
      " [7 8 9]]\n",
      "\n",
      "Maximum values along columns (axis 1):\n",
      "[[7 8 9]]\n",
      "\n",
      "Maximum values along rows (axis 2):\n",
      "[[3 6 9]]\n",
      "Maximum values along the first axis (axis 0):\n",
      "[[1 2 3]\n",
      " [4 5 6]\n",
      " [7 8 9]]\n",
      "\n",
      "Maximum values along columns (axis 1):\n",
      "[[7 8 9]]\n",
      "\n",
      "Maximum values along rows (axis 2):\n",
      "[[3 6 9]]\n"
     ]
    }
   ],
   "source": [
    "import numpy as np\n",
    "\n",
    "matrix_3d = np.array([[[1, 2, 3], [4, 5, 6], [7, 8, 9]]])\n",
    "\n",
    "max_values_along_first_axis = np.max(matrix_3d, axis=0)\n",
    "\n",
    "max_values_along_rows = np.max(matrix_3d, axis=1)\n",
    "\n",
    "max_values_along_columns = np.max(matrix_3d, axis=2)\n",
    "\n",
    "print(\"Maximum values along the first axis (axis 0):\")\n",
    "print(max_values_along_first_axis)\n",
    "\n",
    "print(\"\\nMaximum values along columns (axis 1):\")\n",
    "print(max_values_along_rows)\n",
    "\n",
    "print(\"\\nMaximum values along rows (axis 2):\")\n",
    "print(max_values_along_columns)\n"
   ],
   "metadata": {
    "collapsed": false,
    "ExecuteTime": {
     "end_time": "2023-12-20T12:19:43.004131500Z",
     "start_time": "2023-12-20T12:19:33.573401300Z"
    }
   }
  },
  {
   "cell_type": "markdown",
   "id": "53a8edb2",
   "metadata": {},
   "source": [
    "#### 14. Create a random vector of size 30 and find the mean value (★☆☆)"
   ]
  },
  {
   "cell_type": "code",
   "execution_count": 406,
   "id": "6691530b",
   "metadata": {
    "ExecuteTime": {
     "end_time": "2023-12-20T12:19:43.004131500Z",
     "start_time": "2023-12-20T12:19:33.589055800Z"
    }
   },
   "outputs": [
    {
     "data": {
      "text/plain": "0.4902520024922614"
     },
     "execution_count": 360,
     "metadata": {},
     "output_type": "execute_result"
    },
    {
     "data": {
      "text/plain": "0.5264808646271377"
     },
     "execution_count": 406,
     "metadata": {},
     "output_type": "execute_result"
    }
   ],
   "source": [
    "vector_30 = np.random.rand(30)\n",
    "mean_vector_30 = np.mean(vector_30)\n",
    "mean_vector_30"
   ]
  },
  {
   "cell_type": "markdown",
   "id": "cbaad31c",
   "metadata": {},
   "source": [
    "#### 15. Create a 2d array with 1 on the border and 0 inside (★☆☆)"
   ]
  },
  {
   "cell_type": "code",
   "execution_count": 407,
   "id": "ad8308e3",
   "metadata": {
    "ExecuteTime": {
     "end_time": "2023-12-20T12:19:43.004131500Z",
     "start_time": "2023-12-20T12:19:33.651507900Z"
    }
   },
   "outputs": [
    {
     "name": "stdout",
     "output_type": "stream",
     "text": [
      "[[1. 1. 1. 1. 1.]\n",
      " [1. 0. 0. 0. 1.]\n",
      " [1. 0. 0. 0. 1.]\n",
      " [1. 0. 0. 0. 1.]\n",
      " [1. 1. 1. 1. 1.]]\n",
      "[[1. 1. 1. 1. 1.]\n",
      " [1. 0. 0. 0. 1.]\n",
      " [1. 0. 0. 0. 1.]\n",
      " [1. 0. 0. 0. 1.]\n",
      " [1. 1. 1. 1. 1.]]\n"
     ]
    }
   ],
   "source": [
    "import numpy as np\n",
    "\n",
    "matrix = np.ones((5,5))\n",
    "matrix[1:-1, 1:-1] = 0\n",
    "\n",
    "print(matrix)"
   ]
  },
  {
   "cell_type": "markdown",
   "id": "c5ecc267",
   "metadata": {},
   "source": [
    "#### 16. How to add a border (filled with 0's) around an existing array? (★☆☆)"
   ]
  },
  {
   "cell_type": "code",
   "execution_count": 408,
   "id": "9d5c78c4",
   "metadata": {
    "ExecuteTime": {
     "end_time": "2023-12-20T12:19:43.019749300Z",
     "start_time": "2023-12-20T12:19:33.713992400Z"
    }
   },
   "outputs": [
    {
     "name": "stdout",
     "output_type": "stream",
     "text": [
      "(5, 5)\n",
      "[5 5]\n",
      "(7, 7)\n",
      "[[0. 0. 0. 0. 0. 0. 0.]\n",
      " [0. 1. 1. 1. 1. 1. 0.]\n",
      " [0. 1. 1. 1. 1. 1. 0.]\n",
      " [0. 1. 1. 1. 1. 1. 0.]\n",
      " [0. 1. 1. 1. 1. 1. 0.]\n",
      " [0. 1. 1. 1. 1. 1. 0.]\n",
      " [0. 0. 0. 0. 0. 0. 0.]]\n",
      "(5, 5)\n",
      "[5 5]\n",
      "(7, 7)\n",
      "[[0. 0. 0. 0. 0. 0. 0.]\n",
      " [0. 1. 1. 1. 1. 1. 0.]\n",
      " [0. 1. 1. 1. 1. 1. 0.]\n",
      " [0. 1. 1. 1. 1. 1. 0.]\n",
      " [0. 1. 1. 1. 1. 1. 0.]\n",
      " [0. 1. 1. 1. 1. 1. 0.]\n",
      " [0. 0. 0. 0. 0. 0. 0.]]\n"
     ]
    }
   ],
   "source": [
    "ones = np.ones((5,5))\n",
    "print(matrix.shape)\n",
    "new_shape = np.array(matrix.shape)\n",
    "print(new_shape)\n",
    "new_shape = tuple(new_shape+2)\n",
    "print(new_shape)\n",
    "\n",
    "zeros = np.zeros(new_shape)\n",
    "zeros[1:-1, 1:-1] = ones\n",
    "\n",
    "print(zeros)"
   ]
  },
  {
   "cell_type": "markdown",
   "id": "ef909b72",
   "metadata": {},
   "source": [
    "#### 17. What is the result of the following expression? (★☆☆)\n",
    "```python\n",
    "0 * np.nan\n",
    "np.nan == np.nan\n",
    "np.inf > np.nan\n",
    "np.nan - np.nan\n",
    "np.nan in set([np.nan])\n",
    "0.3 == 3 * 0.1\n",
    "```"
   ]
  },
  {
   "cell_type": "code",
   "execution_count": 409,
   "outputs": [
    {
     "name": "stdout",
     "output_type": "stream",
     "text": [
      "nan\n",
      "False\n",
      "False\n",
      "False\n",
      "nan\n",
      "True\n",
      "nan\n",
      "False\n",
      "False\n",
      "False\n",
      "nan\n",
      "True\n"
     ]
    }
   ],
   "source": [
    "print(0*np.nan)\n",
    "print(np.nan == np.nan)\n",
    "print(np.inf > np.nan)\n",
    "print(np.inf<np.nan)\n",
    "print(np.nan-np.nan)\n",
    "print(np.nan in set([np.nan]))"
   ],
   "metadata": {
    "collapsed": false,
    "ExecuteTime": {
     "end_time": "2023-12-20T12:19:43.019749300Z",
     "start_time": "2023-12-20T12:19:33.777097Z"
    }
   }
  },
  {
   "cell_type": "markdown",
   "id": "502738ac",
   "metadata": {},
   "source": [
    "#### 18. Create a 5x5 matrix with values 1,2,3,4 just below the diagonal (★☆☆)"
   ]
  },
  {
   "cell_type": "code",
   "execution_count": 410,
   "outputs": [
    {
     "name": "stdout",
     "output_type": "stream",
     "text": [
      "[[0 0 0 0 0]\n",
      " [1 0 0 0 0]\n",
      " [0 2 0 0 0]\n",
      " [0 0 3 0 0]\n",
      " [0 0 0 4 0]]\n",
      "[[0 0 0 0 0]\n",
      " [1 0 0 0 0]\n",
      " [0 2 0 0 0]\n",
      " [0 0 3 0 0]\n",
      " [0 0 0 4 0]]\n"
     ]
    }
   ],
   "source": [
    "import numpy as np\n",
    "\n",
    "matrix = np.diag(np.arange(1, 5), k=-1)\n",
    "print(matrix)"
   ],
   "metadata": {
    "collapsed": false,
    "ExecuteTime": {
     "end_time": "2023-12-20T12:19:43.035370700Z",
     "start_time": "2023-12-20T12:19:33.823962300Z"
    }
   }
  },
  {
   "cell_type": "markdown",
   "id": "a65da660",
   "metadata": {},
   "source": [
    "#### 19. Create a 8x8 matrix and fill it with a checkerboard pattern (★☆☆)"
   ]
  },
  {
   "cell_type": "code",
   "execution_count": 411,
   "id": "ed150400",
   "metadata": {
    "ExecuteTime": {
     "end_time": "2023-12-20T12:19:43.051025500Z",
     "start_time": "2023-12-20T12:19:33.902068300Z"
    }
   },
   "outputs": [
    {
     "name": "stdout",
     "output_type": "stream",
     "text": [
      "[[0 1 0 1 0 1 0 1]\n",
      " [1 0 1 0 1 0 1 0]\n",
      " [0 1 0 1 0 1 0 1]\n",
      " [1 0 1 0 1 0 1 0]\n",
      " [0 1 0 1 0 1 0 1]\n",
      " [1 0 1 0 1 0 1 0]\n",
      " [0 1 0 1 0 1 0 1]\n",
      " [1 0 1 0 1 0 1 0]]\n",
      "[[0 1 0 1 0 1 0 1]\n",
      " [1 0 1 0 1 0 1 0]\n",
      " [0 1 0 1 0 1 0 1]\n",
      " [1 0 1 0 1 0 1 0]\n",
      " [0 1 0 1 0 1 0 1]\n",
      " [1 0 1 0 1 0 1 0]\n",
      " [0 1 0 1 0 1 0 1]\n",
      " [1 0 1 0 1 0 1 0]]\n"
     ]
    }
   ],
   "source": [
    "import numpy as np\n",
    "\n",
    "# Create an 8x8 matrix with a checkerboard pattern\n",
    "checkerboard_matrix = np.zeros((8, 8), dtype=int)\n",
    "\n",
    "\n",
    "\n",
    "checkerboard_matrix[::2,1::2] = 1\n",
    "checkerboard_matrix[1::2, ::2] = 1\n",
    "\n",
    "print(checkerboard_matrix)\n"
   ]
  },
  {
   "cell_type": "markdown",
   "id": "9f7f9c49",
   "metadata": {},
   "source": [
    "#### 20. Consider a (6,7,8) shape array, what is the index (x,y,z) of the 100th element? (★☆☆)"
   ]
  },
  {
   "cell_type": "code",
   "execution_count": 412,
   "id": "3782b5a9",
   "metadata": {
    "ExecuteTime": {
     "end_time": "2023-12-20T12:19:43.066612800Z",
     "start_time": "2023-12-20T12:19:33.980174200Z"
    }
   },
   "outputs": [
    {
     "name": "stdout",
     "output_type": "stream",
     "text": [
      "(336,)\n",
      "0.17243797402355532\n"
     ]
    },
    {
     "data": {
      "text/plain": "array([[1, 5, 3]], dtype=int64)"
     },
     "execution_count": 366,
     "metadata": {},
     "output_type": "execute_result"
    },
    {
     "name": "stdout",
     "output_type": "stream",
     "text": [
      "(336,)\n",
      "0.017392244319899164\n"
     ]
    },
    {
     "data": {
      "text/plain": "array([[1, 5, 3]], dtype=int64)"
     },
     "execution_count": 412,
     "metadata": {},
     "output_type": "execute_result"
    }
   ],
   "source": [
    "x = np.random.rand(6,7,8)\n",
    "y = x.flatten()\n",
    "print(y.shape)\n",
    "val_at_100 = y[99]\n",
    "print(val_at_100)\n",
    "index_of_val = np.argwhere(x  == val_at_100)\n",
    "index_of_val"
   ]
  },
  {
   "cell_type": "markdown",
   "id": "66bfda35",
   "metadata": {},
   "source": [
    "#### 21. Create a checkerboard 8x8 matrix using the tile function (★☆☆)"
   ]
  },
  {
   "cell_type": "code",
   "execution_count": 413,
   "id": "4c07477c",
   "metadata": {
    "ExecuteTime": {
     "end_time": "2023-12-20T12:19:43.066612800Z",
     "start_time": "2023-12-20T12:19:34.027037800Z"
    }
   },
   "outputs": [
    {
     "name": "stdout",
     "output_type": "stream",
     "text": [
      "[[1 0 1 0 1 0 1 0]\n",
      " [0 1 0 1 0 1 0 1]\n",
      " [1 0 1 0 1 0 1 0]\n",
      " [0 1 0 1 0 1 0 1]\n",
      " [1 0 1 0 1 0 1 0]\n",
      " [0 1 0 1 0 1 0 1]\n",
      " [1 0 1 0 1 0 1 0]\n",
      " [0 1 0 1 0 1 0 1]]\n",
      "[[1 0 1 0 1 0 1 0]\n",
      " [0 1 0 1 0 1 0 1]\n",
      " [1 0 1 0 1 0 1 0]\n",
      " [0 1 0 1 0 1 0 1]\n",
      " [1 0 1 0 1 0 1 0]\n",
      " [0 1 0 1 0 1 0 1]\n",
      " [1 0 1 0 1 0 1 0]\n",
      " [0 1 0 1 0 1 0 1]]\n"
     ]
    }
   ],
   "source": [
    "x  =np.array([[1,0],[0,1]])\n",
    "x = np.tile(x, (4,4))\n",
    "print(x)"
   ]
  },
  {
   "cell_type": "markdown",
   "id": "d5bcfc08",
   "metadata": {},
   "source": [
    "#### 22. Normalize a 5x5 random matrix (★☆☆)"
   ]
  },
  {
   "cell_type": "code",
   "execution_count": 414,
   "id": "cea6c993",
   "metadata": {
    "ExecuteTime": {
     "end_time": "2023-12-20T12:19:43.066612800Z",
     "start_time": "2023-12-20T12:19:34.089522900Z"
    }
   },
   "outputs": [
    {
     "name": "stdout",
     "output_type": "stream",
     "text": [
      "[[0.51397611 0.         0.74118329 0.24748713 0.5376987 ]\n",
      " [0.17983061 0.73010594 0.60037626 0.97471966 0.92459566]\n",
      " [0.75889894 0.55707472 0.01091194 1.         0.51532599]\n",
      " [0.10195163 0.10086338 0.6164782  0.09049743 0.09617996]\n",
      " [0.3607372  0.37945714 0.85377227 0.55571605 0.77559148]]\n",
      "[[0.52680712 0.9859809  0.83383905 0.         0.14426742]\n",
      " [0.82714085 0.50489148 0.14078234 0.65260772 0.95105283]\n",
      " [1.         0.92688546 0.09367482 0.83398672 0.38941594]\n",
      " [0.13952851 0.85224226 0.36918142 0.01421122 0.87269781]\n",
      " [0.72897532 0.40096507 0.21612133 0.08219347 0.79058219]]\n"
     ]
    }
   ],
   "source": [
    "x = np.random.rand(5,5)\n",
    "\n",
    "max_val = np.max(x)\n",
    "min_val = np.min(x)\n",
    "\n",
    "print((x-min_val)/(max_val-min_val))"
   ]
  },
  {
   "cell_type": "markdown",
   "id": "f9a0911e",
   "metadata": {},
   "source": [
    "#### 23. Create a custom dtype that describes a color as four unsigned bytes (RGBA) (★☆☆)"
   ]
  },
  {
   "cell_type": "code",
   "execution_count": 415,
   "outputs": [],
   "source": [
    "rgba_dtype = np.dtype([('R',np.uint8), ('G',np.uint8) ,('B',np.uint8), ('A',np.uint8)])"
   ],
   "metadata": {
    "collapsed": false,
    "ExecuteTime": {
     "end_time": "2023-12-20T12:19:43.082235Z",
     "start_time": "2023-12-20T12:19:34.183251600Z"
    }
   }
  },
  {
   "cell_type": "markdown",
   "id": "654805b1",
   "metadata": {},
   "source": [
    "#### 24. Multiply a 5x3 matrix by a 3x2 matrix (real matrix product) (★☆☆)"
   ]
  },
  {
   "cell_type": "code",
   "execution_count": 416,
   "id": "6a42619f",
   "metadata": {
    "ExecuteTime": {
     "end_time": "2023-12-20T12:19:43.097858400Z",
     "start_time": "2023-12-20T12:19:34.230114500Z"
    }
   },
   "outputs": [
    {
     "data": {
      "text/plain": "(array([[0.79075754, 0.3949275 ],\n        [0.53870269, 0.23078843],\n        [0.73025035, 0.28060391],\n        [0.87266817, 0.35633657],\n        [0.68288718, 0.24990054]]),\n array([[0.79075754, 0.3949275 ],\n        [0.53870269, 0.23078843],\n        [0.73025035, 0.28060391],\n        [0.87266817, 0.35633657],\n        [0.68288718, 0.24990054]]))"
     },
     "execution_count": 370,
     "metadata": {},
     "output_type": "execute_result"
    },
    {
     "data": {
      "text/plain": "(array([[0.7502092 , 0.62893502],\n        [1.03864152, 0.95629131],\n        [0.45303139, 0.58143494],\n        [0.73240332, 0.61895292],\n        [0.24157251, 0.29151129]]),\n array([[0.7502092 , 0.62893502],\n        [1.03864152, 0.95629131],\n        [0.45303139, 0.58143494],\n        [0.73240332, 0.61895292],\n        [0.24157251, 0.29151129]]))"
     },
     "execution_count": 416,
     "metadata": {},
     "output_type": "execute_result"
    }
   ],
   "source": [
    "x = np.random.rand(5,3)\n",
    "y = np.random.rand(3,2)\n",
    "\n",
    "np.matmul(x,y), np.dot(x,y)"
   ]
  },
  {
   "cell_type": "markdown",
   "id": "994c25df",
   "metadata": {},
   "source": [
    "#### 25. Given a 1D array, negate all elements which are between 3 and 8, in place. (★☆☆)"
   ]
  },
  {
   "cell_type": "code",
   "execution_count": 417,
   "id": "e4b39c03",
   "metadata": {
    "ExecuteTime": {
     "end_time": "2023-12-20T12:19:43.113476900Z",
     "start_time": "2023-12-20T12:19:34.292599700Z"
    }
   },
   "outputs": [
    {
     "name": "stdout",
     "output_type": "stream",
     "text": [
      "[ 1  2  3 -4 -5 -6 -7  8  9]\n",
      "[ 1  2  3 -4 -5 -6 -7  8  9]\n"
     ]
    }
   ],
   "source": [
    "x = np.arange(1,10)\n",
    "for i,val in enumerate(x):\n",
    "    if 3 < val < 8:\n",
    "        x[i] = val*-1\n",
    "\n",
    "print(x)"
   ]
  },
  {
   "cell_type": "markdown",
   "id": "b7d15d1a",
   "metadata": {},
   "source": [
    "#### 26. What is the output of the following script? (★☆☆)\n",
    "```python\n",
    "# Author: Jake VanderPlas\n",
    "\n",
    "print(sum(range(5),-1))\n",
    "from numpy import *\n",
    "print(sum(range(5),-1))\n",
    "```"
   ]
  },
  {
   "cell_type": "code",
   "execution_count": 418,
   "outputs": [
    {
     "name": "stdout",
     "output_type": "stream",
     "text": [
      "range(0, 5)\n",
      "range(0, 5) -1\n",
      "9\n",
      "range(0, 5)\n",
      "range(0, 5) -1\n",
      "9\n"
     ]
    }
   ],
   "source": [
    "print(range(5))\n",
    "print(range(5) ,-1)\n",
    "print(sum(range(5),-1))"
   ],
   "metadata": {
    "collapsed": false,
    "ExecuteTime": {
     "end_time": "2023-12-20T12:19:43.113476900Z",
     "start_time": "2023-12-20T12:19:34.355086800Z"
    }
   }
  },
  {
   "cell_type": "code",
   "execution_count": 419,
   "outputs": [
    {
     "name": "stdout",
     "output_type": "stream",
     "text": [
      "[-1  0  1  2  3]\n",
      "[-1  0  1  2  3]\n"
     ]
    }
   ],
   "source": [
    "print(np.add(range(5),-1))"
   ],
   "metadata": {
    "collapsed": false,
    "ExecuteTime": {
     "end_time": "2023-12-20T12:19:43.113476900Z",
     "start_time": "2023-12-20T12:19:34.370708400Z"
    }
   }
  },
  {
   "cell_type": "markdown",
   "source": [
    "#### 27. Consider an integer vector Z, which of these expressions are legal? (★☆☆)\n",
    "```python\n",
    "Z**Z\n",
    "2 << Z >> 2\n",
    "Z <- Z\n",
    "1j*Z\n",
    "Z/1/1\n",
    "Z<Z>Z\n",
    "```"
   ],
   "metadata": {
    "collapsed": false
   }
  },
  {
   "cell_type": "code",
   "execution_count": 420,
   "outputs": [],
   "source": [
    "# all except Last one is legal"
   ],
   "metadata": {
    "collapsed": false,
    "ExecuteTime": {
     "end_time": "2023-12-20T12:19:43.129098500Z",
     "start_time": "2023-12-20T12:19:34.417573400Z"
    }
   }
  },
  {
   "cell_type": "code",
   "execution_count": 421,
   "id": "564658fc",
   "metadata": {
    "ExecuteTime": {
     "end_time": "2023-12-20T12:19:43.129098500Z",
     "start_time": "2023-12-20T12:19:34.433226600Z"
    }
   },
   "outputs": [
    {
     "name": "stdout",
     "output_type": "stream",
     "text": [
      "4\n",
      "16\n",
      "4\n",
      "False\n",
      "2j\n",
      "2.0\n",
      "False\n",
      "4\n",
      "16\n",
      "4\n",
      "False\n",
      "2j\n",
      "2.0\n",
      "False\n"
     ]
    }
   ],
   "source": [
    "Z = 2\n",
    "print(Z**Z)\n",
    "print(4<<Z)\n",
    "print(4 << Z >> 2)\n",
    "print(Z <- Z)\n",
    "print(1j*Z)\n",
    "print(Z/1/1)\n",
    "print(Z<Z>Z)"
   ]
  },
  {
   "cell_type": "markdown",
   "id": "c34e94bf",
   "metadata": {},
   "source": [
    "#### 28. What are the result of the following expressions? (★☆☆)\n",
    "```python\n",
    "np.array(0) / np.array(0)\n",
    "np.array(0) // np.array(0)\n",
    "np.array([np.nan]).astype(int).astype(float)\n",
    "```"
   ]
  },
  {
   "cell_type": "code",
   "execution_count": 422,
   "id": "56663562",
   "metadata": {
    "ExecuteTime": {
     "end_time": "2023-12-20T12:19:43.144720100Z",
     "start_time": "2023-12-20T12:19:34.480099Z"
    }
   },
   "outputs": [
    {
     "name": "stdout",
     "output_type": "stream",
     "text": [
      "nan\n",
      "0\n",
      "[-2.14748365e+09]\n"
     ]
    },
    {
     "name": "stderr",
     "output_type": "stream",
     "text": [
      "C:\\Users\\Muhammad Hamza\\AppData\\Local\\Temp\\ipykernel_13808\\1422587819.py:1: RuntimeWarning: invalid value encountered in divide\n",
      "  print(np.array(0) / np.array(0))\n",
      "C:\\Users\\Muhammad Hamza\\AppData\\Local\\Temp\\ipykernel_13808\\1422587819.py:2: RuntimeWarning: divide by zero encountered in floor_divide\n",
      "  print(np.array(0) // np.array(0))\n",
      "C:\\Users\\Muhammad Hamza\\AppData\\Local\\Temp\\ipykernel_13808\\1422587819.py:3: RuntimeWarning: invalid value encountered in cast\n",
      "  print(np.array([np.nan]).astype(int).astype(float))\n"
     ]
    },
    {
     "name": "stdout",
     "output_type": "stream",
     "text": [
      "nan\n",
      "0\n",
      "[-2.14748365e+09]\n"
     ]
    },
    {
     "name": "stderr",
     "output_type": "stream",
     "text": [
      "C:\\Users\\Muhammad Hamza\\AppData\\Local\\Temp\\ipykernel_13808\\1422587819.py:1: RuntimeWarning: invalid value encountered in divide\n",
      "  print(np.array(0) / np.array(0))\n",
      "C:\\Users\\Muhammad Hamza\\AppData\\Local\\Temp\\ipykernel_13808\\1422587819.py:2: RuntimeWarning: divide by zero encountered in floor_divide\n",
      "  print(np.array(0) // np.array(0))\n",
      "C:\\Users\\Muhammad Hamza\\AppData\\Local\\Temp\\ipykernel_13808\\1422587819.py:3: RuntimeWarning: invalid value encountered in cast\n",
      "  print(np.array([np.nan]).astype(int).astype(float))\n"
     ]
    }
   ],
   "source": [
    "print(np.array(0) / np.array(0))\n",
    "print(np.array(0) // np.array(0))\n",
    "print(np.array([np.nan]).astype(int).astype(float))"
   ]
  },
  {
   "cell_type": "markdown",
   "id": "546f5e7b",
   "metadata": {},
   "source": [
    "#### 29. How to round away from zero a float array ? (★☆☆)"
   ]
  },
  {
   "cell_type": "code",
   "execution_count": 423,
   "id": "f725a6d2",
   "metadata": {
    "ExecuteTime": {
     "end_time": "2023-12-20T12:19:43.160340800Z",
     "start_time": "2023-12-20T12:19:34.542574600Z"
    }
   },
   "outputs": [
    {
     "name": "stdout",
     "output_type": "stream",
     "text": [
      "[-3.14   2.718 -1.5    3.33  -0.7  ]\n",
      "[-4.  3. -2.  4. -1.]\n",
      "[-3.14   2.718 -1.5    3.33  -0.7  ]\n",
      "[-4.  3. -2.  4. -1.]\n"
     ]
    }
   ],
   "source": [
    "x = np.array([-3.14, 2.718, -1.5, 3.33, -0.7])\n",
    "final = np.where(x >= 0, np.ceil(x), np.floor(x))\n",
    "\n",
    "print(x)\n",
    "print(final)\n"
   ]
  },
  {
   "cell_type": "markdown",
   "id": "eadca856",
   "metadata": {},
   "source": [
    "#### 30. How to find common values between two arrays? (★☆☆)"
   ]
  },
  {
   "cell_type": "code",
   "execution_count": 424,
   "id": "e0270b5b",
   "metadata": {
    "ExecuteTime": {
     "end_time": "2023-12-20T12:19:43.160340800Z",
     "start_time": "2023-12-20T12:19:34.605075300Z"
    }
   },
   "outputs": [
    {
     "data": {
      "text/plain": "(array([3, 4, 5, 6]),\n array([2, 3, 4, 5], dtype=int64),\n array([0, 1, 2, 3], dtype=int64))"
     },
     "execution_count": 378,
     "metadata": {},
     "output_type": "execute_result"
    },
    {
     "data": {
      "text/plain": "(array([3, 4, 5, 6]),\n array([2, 3, 4, 5], dtype=int64),\n array([0, 1, 2, 3], dtype=int64))"
     },
     "execution_count": 424,
     "metadata": {},
     "output_type": "execute_result"
    }
   ],
   "source": [
    "x = np.array([[1, 2, 3], [4, 5, 6]])\n",
    "y = np.array([[3, 4, 5], [6, 7, 8]])\n",
    "val,index1,index2 = np.intersect1d(x,y,return_indices=True)\n",
    "val,index1,index2"
   ]
  },
  {
   "cell_type": "markdown",
   "id": "ca16ca22",
   "metadata": {},
   "source": [
    "#### 31. How to ignore all numpy warnings (not recommended)? (★☆☆)"
   ]
  },
  {
   "cell_type": "code",
   "execution_count": 424,
   "id": "7d7208ef",
   "metadata": {
    "ExecuteTime": {
     "end_time": "2023-12-20T12:19:43.160340800Z",
     "start_time": "2023-12-20T12:19:34.667512100Z"
    }
   },
   "outputs": [],
   "source": []
  },
  {
   "cell_type": "markdown",
   "id": "c7871d0d",
   "metadata": {},
   "source": [
    "#### 32. Is the following expressions true? (★☆☆)\n",
    "```python\n",
    "np.sqrt(-1) == np.emath.sqrt(-1)\n",
    "```"
   ]
  },
  {
   "cell_type": "code",
   "execution_count": 424,
   "id": "acc3701a",
   "metadata": {
    "ExecuteTime": {
     "end_time": "2023-12-20T12:19:43.191593800Z",
     "start_time": "2023-12-20T12:19:34.730639700Z"
    }
   },
   "outputs": [],
   "source": []
  },
  {
   "cell_type": "markdown",
   "id": "e0433e30",
   "metadata": {},
   "source": [
    "#### 33. How to get the dates of yesterday, today and tomorrow? (★☆☆)"
   ]
  },
  {
   "cell_type": "code",
   "execution_count": 439,
   "id": "9c4d2152",
   "metadata": {
    "ExecuteTime": {
     "end_time": "2023-12-20T12:21:10.732896300Z",
     "start_time": "2023-12-20T12:21:10.654784Z"
    }
   },
   "outputs": [
    {
     "name": "stdout",
     "output_type": "stream",
     "text": [
      "Yesterday: 2023-12-19\n",
      "Today: 2023-12-20\n",
      "Tomorrow: 2023-12-21\n"
     ]
    }
   ],
   "source": [
    "today = np.datetime64('today', 'D')\n",
    "yesterday = today - np.timedelta64(1, 'D')\n",
    "tomorrow = today + np.timedelta64(1, 'D')\n",
    "\n",
    "print(\"Yesterday:\", yesterday)\n",
    "print(\"Today:\", today)\n",
    "print(\"Tomorrow:\", tomorrow)\n"
   ]
  },
  {
   "cell_type": "code",
   "execution_count": null,
   "outputs": [],
   "source": [],
   "metadata": {
    "collapsed": false,
    "ExecuteTime": {
     "start_time": "2023-12-20T12:19:34.824371600Z"
    }
   }
  },
  {
   "cell_type": "code",
   "execution_count": null,
   "outputs": [],
   "source": [],
   "metadata": {
    "collapsed": false,
    "ExecuteTime": {
     "start_time": "2023-12-20T12:19:34.824371600Z"
    }
   }
  },
  {
   "cell_type": "markdown",
   "id": "9f52a2ef",
   "metadata": {},
   "source": [
    "#### 34. How to get all the dates corresponding to the month of July 2016? (★★☆)"
   ]
  },
  {
   "cell_type": "code",
   "execution_count": 426,
   "id": "d6c34dec",
   "metadata": {
    "ExecuteTime": {
     "end_time": "2023-12-20T12:19:43.222827700Z",
     "start_time": "2023-12-20T12:19:34.855631200Z"
    }
   },
   "outputs": [
    {
     "name": "stdout",
     "output_type": "stream",
     "text": [
      "March, 2017\n",
      "['2017-03-01' '2017-03-02' '2017-03-03' '2017-03-04' '2017-03-05'\n",
      " '2017-03-06' '2017-03-07' '2017-03-08' '2017-03-09' '2017-03-10'\n",
      " '2017-03-11' '2017-03-12' '2017-03-13' '2017-03-14' '2017-03-15'\n",
      " '2017-03-16' '2017-03-17' '2017-03-18' '2017-03-19' '2017-03-20'\n",
      " '2017-03-21' '2017-03-22' '2017-03-23' '2017-03-24' '2017-03-25'\n",
      " '2017-03-26' '2017-03-27' '2017-03-28' '2017-03-29' '2017-03-30'\n",
      " '2017-03-31']\n",
      "March, 2017\n",
      "['2017-03-01' '2017-03-02' '2017-03-03' '2017-03-04' '2017-03-05'\n",
      " '2017-03-06' '2017-03-07' '2017-03-08' '2017-03-09' '2017-03-10'\n",
      " '2017-03-11' '2017-03-12' '2017-03-13' '2017-03-14' '2017-03-15'\n",
      " '2017-03-16' '2017-03-17' '2017-03-18' '2017-03-19' '2017-03-20'\n",
      " '2017-03-21' '2017-03-22' '2017-03-23' '2017-03-24' '2017-03-25'\n",
      " '2017-03-26' '2017-03-27' '2017-03-28' '2017-03-29' '2017-03-30'\n",
      " '2017-03-31']\n"
     ]
    }
   ],
   "source": [
    "import numpy as np\n",
    "\n",
    "\n",
    "print(\"March, 2017\")\n",
    "print(np.arange('2017-03', '2017-04', dtype='datetime64[D]'))\n"
   ]
  },
  {
   "cell_type": "markdown",
   "id": "4a64e059",
   "metadata": {},
   "source": [
    "#### 35. How to compute ((A+B)*(-A/2)) in place (without copy)? (★★☆)"
   ]
  },
  {
   "cell_type": "code",
   "execution_count": 427,
   "id": "49267f60",
   "metadata": {
    "ExecuteTime": {
     "end_time": "2023-12-20T12:19:43.222827700Z",
     "start_time": "2023-12-20T12:19:34.918100700Z"
    }
   },
   "outputs": [
    {
     "data": {
      "text/plain": "array([ -2.5,  -7. , -13.5])"
     },
     "execution_count": 381,
     "metadata": {},
     "output_type": "execute_result"
    },
    {
     "data": {
      "text/plain": "array([ -2.5,  -7. , -13.5])"
     },
     "execution_count": 427,
     "metadata": {},
     "output_type": "execute_result"
    }
   ],
   "source": [
    "A = np.array([1, 2, 3])\n",
    "B = np.array([4, 5, 6])\n",
    "\n",
    "result = ((A+B)*(-A/2))\n",
    "result"
   ]
  },
  {
   "cell_type": "markdown",
   "id": "8a98c2a8",
   "metadata": {},
   "source": [
    "#### 36. Extract the integer part of a random array of positive numbers using 4 different methods (★★☆)"
   ]
  },
  {
   "cell_type": "code",
   "execution_count": 428,
   "id": "368130b3",
   "metadata": {
    "ExecuteTime": {
     "end_time": "2023-12-20T12:19:43.222827700Z",
     "start_time": "2023-12-20T12:19:34.980586200Z"
    }
   },
   "outputs": [
    {
     "name": "stdout",
     "output_type": "stream",
     "text": [
      "[1.6719796  1.44858365 3.59275013 4.62122479 4.94864128 1.09289908\n",
      " 4.75232164 1.03832744 1.7414528  2.19156994]\n",
      "[1. 1. 3. 4. 4. 1. 4. 1. 1. 2.]\n",
      "[2. 2. 4. 5. 5. 2. 5. 2. 2. 3.]\n",
      "[2. 1. 4. 5. 5. 1. 5. 1. 2. 2.]\n",
      "[1. 1. 3. 4. 4. 1. 4. 1. 1. 2.]\n",
      "[1 1 3 4 4 1 4 1 1 2]\n",
      "[2.10278065 4.56631098 4.34422361 3.69774441 1.50193019 4.88333488\n",
      " 4.52325279 2.3769036  2.42573078 2.57426343]\n",
      "[2. 4. 4. 3. 1. 4. 4. 2. 2. 2.]\n",
      "[3. 5. 5. 4. 2. 5. 5. 3. 3. 3.]\n",
      "[2. 5. 4. 4. 2. 5. 5. 2. 2. 3.]\n",
      "[2. 4. 4. 3. 1. 4. 4. 2. 2. 2.]\n",
      "[2 4 4 3 1 4 4 2 2 2]\n"
     ]
    }
   ],
   "source": [
    "x = np.random.uniform(1, 5, size=10)\n",
    "print(x)\n",
    "print(np.floor(x))\n",
    "print(np.ceil(x))\n",
    "print(np.round(x))\n",
    "print(np.trunc(x))\n",
    "print(x.astype(int))"
   ]
  },
  {
   "cell_type": "markdown",
   "id": "5a2e3d85",
   "metadata": {},
   "source": [
    "#### 37. Create a 5x5 matrix with row values ranging from 0 to 4 (★★☆)"
   ]
  },
  {
   "cell_type": "code",
   "execution_count": 429,
   "id": "1d974e8f",
   "metadata": {
    "ExecuteTime": {
     "end_time": "2023-12-20T12:19:43.238482500Z",
     "start_time": "2023-12-20T12:19:35.043070800Z"
    }
   },
   "outputs": [
    {
     "data": {
      "text/plain": "array([[4, 2, 4, 3, 2],\n       [3, 4, 4, 3, 2],\n       [1, 3, 1, 1, 4],\n       [3, 3, 0, 0, 0],\n       [0, 4, 3, 3, 1]])"
     },
     "execution_count": 383,
     "metadata": {},
     "output_type": "execute_result"
    },
    {
     "data": {
      "text/plain": "array([[2, 4, 1, 2, 4],\n       [0, 1, 2, 1, 0],\n       [2, 1, 1, 3, 0],\n       [3, 0, 1, 1, 1],\n       [1, 3, 3, 1, 2]])"
     },
     "execution_count": 429,
     "metadata": {},
     "output_type": "execute_result"
    }
   ],
   "source": [
    "np.random.randint(0,5,25).reshape(5,5)"
   ]
  },
  {
   "cell_type": "markdown",
   "id": "9720e2d5",
   "metadata": {},
   "source": [
    "#### 38. Consider a generator function that generates 10 integers and use it to build an array (★☆☆)"
   ]
  },
  {
   "cell_type": "code",
   "execution_count": 430,
   "id": "e5dd8fc9",
   "metadata": {
    "ExecuteTime": {
     "end_time": "2023-12-20T12:19:43.254071700Z",
     "start_time": "2023-12-20T12:19:35.089940900Z"
    }
   },
   "outputs": [
    {
     "name": "stdout",
     "output_type": "stream",
     "text": [
      "Generated Array: [0 1 2 3 4 5 6 7 8 9]\n",
      "Generated Array: [0 1 2 3 4 5 6 7 8 9]\n"
     ]
    }
   ],
   "source": [
    "import numpy as np\n",
    "\n",
    "def generate_integers():\n",
    "    for i in range(10):\n",
    "        yield i\n",
    "\n",
    "result = np.fromiter(generate_integers(), dtype=int)\n",
    "\n",
    "print(\"Generated Array:\", result)\n"
   ]
  },
  {
   "cell_type": "markdown",
   "id": "c6f2c912",
   "metadata": {},
   "source": [
    "#### 39. Create a vector of size 10 with values ranging from 0 to 1, both excluded (★★☆)"
   ]
  },
  {
   "cell_type": "code",
   "execution_count": 431,
   "id": "6aaa27d3",
   "metadata": {
    "ExecuteTime": {
     "end_time": "2023-12-20T12:19:43.254071700Z",
     "start_time": "2023-12-20T12:19:35.152419Z"
    }
   },
   "outputs": [
    {
     "data": {
      "text/plain": "(array([0.05263158, 0.10526316, 0.15789474, 0.21052632, 0.26315789,\n        0.31578947, 0.36842105, 0.42105263, 0.47368421, 0.52631579,\n        0.57894737, 0.63157895, 0.68421053, 0.73684211, 0.78947368,\n        0.84210526, 0.89473684, 0.94736842]),\n array([0.1, 0.2, 0.3, 0.4, 0.5, 0.6, 0.7, 0.8]))"
     },
     "execution_count": 385,
     "metadata": {},
     "output_type": "execute_result"
    },
    {
     "data": {
      "text/plain": "(array([0.05263158, 0.10526316, 0.15789474, 0.21052632, 0.26315789,\n        0.31578947, 0.36842105, 0.42105263, 0.47368421, 0.52631579,\n        0.57894737, 0.63157895, 0.68421053, 0.73684211, 0.78947368,\n        0.84210526, 0.89473684, 0.94736842]),\n array([0.1, 0.2, 0.3, 0.4, 0.5, 0.6, 0.7, 0.8]))"
     },
     "execution_count": 431,
     "metadata": {},
     "output_type": "execute_result"
    }
   ],
   "source": [
    "np.linspace(0, 1, 20)[1:-1],np.arange(0,1,0.1)[1:-1]\n"
   ]
  },
  {
   "cell_type": "markdown",
   "id": "a36d6ee4",
   "metadata": {},
   "source": [
    "#### 40. Create a random vector of size 10 and sort it (★★☆)"
   ]
  },
  {
   "cell_type": "code",
   "execution_count": 431,
   "id": "e589d216",
   "metadata": {
    "ExecuteTime": {
     "end_time": "2023-12-20T12:19:43.269693400Z",
     "start_time": "2023-12-20T12:19:35.214905Z"
    }
   },
   "outputs": [],
   "source": []
  },
  {
   "cell_type": "markdown",
   "id": "0fb4ad68",
   "metadata": {},
   "source": [
    "#### 41. How to sum a small array faster than np.sum? (★★☆)"
   ]
  },
  {
   "cell_type": "code",
   "execution_count": 431,
   "id": "a1ba05a0",
   "metadata": {
    "ExecuteTime": {
     "end_time": "2023-12-20T12:19:43.269693400Z",
     "start_time": "2023-12-20T12:19:35.277389900Z"
    }
   },
   "outputs": [],
   "source": []
  },
  {
   "cell_type": "markdown",
   "id": "024ac365",
   "metadata": {},
   "source": [
    "#### 42. Consider two random array A and B, check if they are equal (★★☆)"
   ]
  },
  {
   "cell_type": "code",
   "execution_count": 431,
   "id": "7db3846d",
   "metadata": {
    "ExecuteTime": {
     "end_time": "2023-12-20T12:19:43.269693400Z",
     "start_time": "2023-12-20T12:19:35.339876Z"
    }
   },
   "outputs": [],
   "source": []
  },
  {
   "cell_type": "markdown",
   "id": "c68d2401",
   "metadata": {},
   "source": [
    "#### 43. Make an array immutable (read-only) (★★☆)"
   ]
  },
  {
   "cell_type": "code",
   "execution_count": 431,
   "id": "7828539d",
   "metadata": {
    "ExecuteTime": {
     "end_time": "2023-12-20T12:19:43.285311600Z",
     "start_time": "2023-12-20T12:19:35.402360100Z"
    }
   },
   "outputs": [],
   "source": []
  },
  {
   "cell_type": "markdown",
   "id": "55df6280",
   "metadata": {},
   "source": [
    "#### 44. Consider a random 10x2 matrix representing cartesian coordinates, convert them to polar coordinates (★★☆)"
   ]
  },
  {
   "cell_type": "code",
   "execution_count": 431,
   "id": "f1c86ea0",
   "metadata": {
    "ExecuteTime": {
     "end_time": "2023-12-20T12:19:43.300932800Z",
     "start_time": "2023-12-20T12:19:35.464847700Z"
    }
   },
   "outputs": [],
   "source": []
  },
  {
   "cell_type": "markdown",
   "id": "2f60f1ec",
   "metadata": {},
   "source": [
    "#### 45. Create random vector of size 10 and replace the maximum value by 0 (★★☆)"
   ]
  },
  {
   "cell_type": "code",
   "execution_count": 431,
   "id": "d9f48f1c",
   "metadata": {
    "ExecuteTime": {
     "end_time": "2023-12-20T12:19:43.316554Z",
     "start_time": "2023-12-20T12:19:35.511709300Z"
    }
   },
   "outputs": [],
   "source": []
  },
  {
   "cell_type": "markdown",
   "id": "084e8ad4",
   "metadata": {},
   "source": [
    "#### 46. Create a structured array with `x` and `y` coordinates covering the [0,1]x[0,1] area (★★☆)"
   ]
  },
  {
   "cell_type": "code",
   "execution_count": 431,
   "id": "58b47c13",
   "metadata": {
    "ExecuteTime": {
     "end_time": "2023-12-20T12:19:43.316554Z",
     "start_time": "2023-12-20T12:19:35.574196200Z"
    }
   },
   "outputs": [],
   "source": []
  },
  {
   "cell_type": "markdown",
   "id": "d7b9bc42",
   "metadata": {},
   "source": [
    "#### 47. Given two arrays, X and Y, construct the Cauchy matrix C (Cij =1/(xi - yj)) (★★☆)"
   ]
  },
  {
   "cell_type": "code",
   "execution_count": 431,
   "id": "a24824fb",
   "metadata": {
    "ExecuteTime": {
     "end_time": "2023-12-20T12:19:43.316554Z",
     "start_time": "2023-12-20T12:19:35.636680700Z"
    }
   },
   "outputs": [],
   "source": []
  },
  {
   "cell_type": "markdown",
   "id": "65ebc11b",
   "metadata": {},
   "source": [
    "#### 48. Print the minimum and maximum representable value for each numpy scalar type (★★☆)"
   ]
  },
  {
   "cell_type": "code",
   "execution_count": 431,
   "id": "e45d38fb",
   "metadata": {
    "ExecuteTime": {
     "end_time": "2023-12-20T12:19:43.332179200Z",
     "start_time": "2023-12-20T12:19:35.683545900Z"
    }
   },
   "outputs": [],
   "source": []
  },
  {
   "cell_type": "markdown",
   "id": "9b317a98",
   "metadata": {},
   "source": [
    "#### 49. How to print all the values of an array? (★★☆)"
   ]
  },
  {
   "cell_type": "code",
   "execution_count": 431,
   "id": "309cdeb9",
   "metadata": {
    "ExecuteTime": {
     "end_time": "2023-12-20T12:19:43.347796600Z",
     "start_time": "2023-12-20T12:19:35.746647300Z"
    }
   },
   "outputs": [],
   "source": []
  },
  {
   "cell_type": "markdown",
   "id": "b580f9d0",
   "metadata": {},
   "source": [
    "#### 50. How to find the closest value (to a given scalar) in a vector? (★★☆)"
   ]
  },
  {
   "cell_type": "code",
   "execution_count": 431,
   "id": "ebfb6714",
   "metadata": {
    "ExecuteTime": {
     "end_time": "2023-12-20T12:19:43.347796600Z",
     "start_time": "2023-12-20T12:19:35.809133Z"
    }
   },
   "outputs": [],
   "source": []
  },
  {
   "cell_type": "markdown",
   "id": "602e6252",
   "metadata": {},
   "source": [
    "#### 51. Create a structured array representing a position (x,y) and a color (r,g,b) (★★☆)"
   ]
  },
  {
   "cell_type": "code",
   "execution_count": 431,
   "id": "cf002b3a",
   "metadata": {
    "ExecuteTime": {
     "end_time": "2023-12-20T12:19:43.363417900Z",
     "start_time": "2023-12-20T12:19:35.855998400Z"
    }
   },
   "outputs": [],
   "source": []
  },
  {
   "cell_type": "markdown",
   "id": "78bcd92f",
   "metadata": {},
   "source": [
    "#### 52. Consider a random vector with shape (100,2) representing coordinates, find point by point distances (★★☆)"
   ]
  },
  {
   "cell_type": "code",
   "execution_count": 431,
   "id": "fea7f9a6",
   "metadata": {
    "ExecuteTime": {
     "end_time": "2023-12-20T12:19:43.363417900Z",
     "start_time": "2023-12-20T12:19:35.918481100Z"
    }
   },
   "outputs": [],
   "source": []
  },
  {
   "cell_type": "markdown",
   "id": "343c5a85",
   "metadata": {},
   "source": [
    "#### 53. How to convert a float (32 bits) array into an integer (32 bits) in place?"
   ]
  },
  {
   "cell_type": "code",
   "execution_count": 431,
   "id": "fc1b687b",
   "metadata": {
    "ExecuteTime": {
     "end_time": "2023-12-20T12:19:43.363417900Z",
     "start_time": "2023-12-20T12:19:35.980967800Z"
    }
   },
   "outputs": [],
   "source": []
  },
  {
   "cell_type": "markdown",
   "id": "a69e1ace",
   "metadata": {},
   "source": [
    "#### 54. How to read the following file? (★★☆)\n",
    "```\n",
    "1, 2, 3, 4, 5\n",
    "6,  ,  , 7, 8\n",
    " ,  , 9,10,11\n",
    "```"
   ]
  },
  {
   "cell_type": "code",
   "execution_count": 431,
   "id": "1c7957d4",
   "metadata": {
    "ExecuteTime": {
     "end_time": "2023-12-20T12:19:43.379039400Z",
     "start_time": "2023-12-20T12:19:36.043454200Z"
    }
   },
   "outputs": [],
   "source": []
  },
  {
   "cell_type": "markdown",
   "id": "c23bd80d",
   "metadata": {},
   "source": [
    "#### 55. What is the equivalent of enumerate for numpy arrays? (★★☆)"
   ]
  },
  {
   "cell_type": "code",
   "execution_count": 431,
   "id": "d95d9578",
   "metadata": {
    "ExecuteTime": {
     "end_time": "2023-12-20T12:19:43.394664300Z",
     "start_time": "2023-12-20T12:19:36.090315700Z"
    }
   },
   "outputs": [],
   "source": []
  },
  {
   "cell_type": "markdown",
   "id": "2153a5ec",
   "metadata": {},
   "source": [
    "#### 56. Generate a generic 2D Gaussian-like array (★★☆)"
   ]
  },
  {
   "cell_type": "code",
   "execution_count": 431,
   "id": "61122d1e",
   "metadata": {
    "ExecuteTime": {
     "end_time": "2023-12-20T12:19:43.410283100Z",
     "start_time": "2023-12-20T12:19:36.152800800Z"
    }
   },
   "outputs": [],
   "source": []
  },
  {
   "cell_type": "markdown",
   "id": "2e76d589",
   "metadata": {},
   "source": [
    "#### 57. How to randomly place p elements in a 2D array? (★★☆)"
   ]
  },
  {
   "cell_type": "code",
   "execution_count": 431,
   "id": "0c2e4fcc",
   "metadata": {
    "ExecuteTime": {
     "end_time": "2023-12-20T12:19:43.410283100Z",
     "start_time": "2023-12-20T12:19:36.215286300Z"
    }
   },
   "outputs": [],
   "source": []
  },
  {
   "cell_type": "markdown",
   "id": "8b3933eb",
   "metadata": {},
   "source": [
    "#### 58. Subtract the mean of each row of a matrix (★★☆)"
   ]
  },
  {
   "cell_type": "code",
   "execution_count": 431,
   "id": "a306c9ef",
   "metadata": {
    "ExecuteTime": {
     "end_time": "2023-12-20T12:19:43.410283100Z",
     "start_time": "2023-12-20T12:19:36.277771600Z"
    }
   },
   "outputs": [],
   "source": []
  },
  {
   "cell_type": "markdown",
   "id": "ea8807c0",
   "metadata": {},
   "source": [
    "#### 59. How to sort an array by the nth column? (★★☆)"
   ]
  },
  {
   "cell_type": "code",
   "execution_count": 431,
   "id": "cc89a699",
   "metadata": {
    "ExecuteTime": {
     "end_time": "2023-12-20T12:19:43.425904500Z",
     "start_time": "2023-12-20T12:19:36.340258200Z"
    }
   },
   "outputs": [],
   "source": []
  },
  {
   "cell_type": "markdown",
   "id": "00fa00a1",
   "metadata": {},
   "source": [
    "#### 60. How to tell if a given 2D array has null columns? (★★☆)"
   ]
  },
  {
   "cell_type": "code",
   "execution_count": 431,
   "id": "3436e165",
   "metadata": {
    "ExecuteTime": {
     "end_time": "2023-12-20T12:19:43.425904500Z",
     "start_time": "2023-12-20T12:19:36.387120900Z"
    }
   },
   "outputs": [],
   "source": []
  },
  {
   "cell_type": "markdown",
   "id": "5a65c7a2",
   "metadata": {},
   "source": [
    "#### 61. Find the nearest value from a given value in an array (★★☆)"
   ]
  },
  {
   "cell_type": "code",
   "execution_count": 431,
   "id": "73f149d6",
   "metadata": {
    "ExecuteTime": {
     "end_time": "2023-12-20T12:19:43.441525400Z",
     "start_time": "2023-12-20T12:19:36.449606Z"
    }
   },
   "outputs": [],
   "source": []
  },
  {
   "cell_type": "markdown",
   "id": "dd83e8af",
   "metadata": {},
   "source": [
    "#### 62. Considering two arrays with shape (1,3) and (3,1), how to compute their sum using an iterator? (★★☆)"
   ]
  },
  {
   "cell_type": "code",
   "execution_count": 431,
   "id": "29a709a1",
   "metadata": {
    "ExecuteTime": {
     "end_time": "2023-12-20T12:19:43.457147800Z",
     "start_time": "2023-12-20T12:19:36.512092700Z"
    }
   },
   "outputs": [],
   "source": []
  },
  {
   "cell_type": "markdown",
   "id": "6c042efa",
   "metadata": {},
   "source": [
    "#### 63. Create an array class that has a name attribute (★★☆)"
   ]
  },
  {
   "cell_type": "code",
   "execution_count": 431,
   "id": "45b3d2e0",
   "metadata": {
    "ExecuteTime": {
     "end_time": "2023-12-20T12:19:43.457147800Z",
     "start_time": "2023-12-20T12:19:36.558955200Z"
    }
   },
   "outputs": [],
   "source": []
  },
  {
   "cell_type": "markdown",
   "id": "0a075c3d",
   "metadata": {},
   "source": [
    "#### 64. Consider a given vector, how to add 1 to each element indexed by a second vector (be careful with repeated indices)? (★★★)"
   ]
  },
  {
   "cell_type": "code",
   "execution_count": 432,
   "id": "36c50470",
   "metadata": {
    "ExecuteTime": {
     "end_time": "2023-12-20T12:19:43.457147800Z",
     "start_time": "2023-12-20T12:19:36.621442400Z"
    }
   },
   "outputs": [
    {
     "data": {
      "text/plain": "array([0, 2, 2, 4, 5])"
     },
     "execution_count": 386,
     "metadata": {},
     "output_type": "execute_result"
    },
    {
     "data": {
      "text/plain": "array([0, 2, 2, 4, 5])"
     },
     "execution_count": 432,
     "metadata": {},
     "output_type": "execute_result"
    }
   ],
   "source": [
    "x = np.array([0, 1, 2, 3, 4])\n",
    "y = np.array([1, 3, 3, 4, 4,])\n",
    "\n",
    "x[y] += 1\n",
    "\n",
    "x"
   ]
  },
  {
   "cell_type": "markdown",
   "id": "0fb2f0c5",
   "metadata": {},
   "source": [
    "#### 65. How to accumulate elements of a vector (X) to an array (F) based on an index list (I)? (★★★)"
   ]
  },
  {
   "cell_type": "code",
   "execution_count": 433,
   "outputs": [
    {
     "name": "stdout",
     "output_type": "stream",
     "text": [
      "[2, 4, 3, 1, 0]\n",
      "[2, 4, 3, 1, 0]\n"
     ]
    }
   ],
   "source": [
    "# Given data\n",
    "X = [1, 2, 3, 4, 5]\n",
    "F = [0, 0, 0, 0, 0]\n",
    "I = [1, 3, 2, 0]\n",
    "\n",
    "# Accumulate elements from X into F based on indices in I\n",
    "for i, index in enumerate(I):\n",
    "    F[i] += X[index]\n",
    "\n",
    "# Result\n",
    "print(F)\n"
   ],
   "metadata": {
    "collapsed": false,
    "ExecuteTime": {
     "end_time": "2023-12-20T12:19:43.488388600Z",
     "start_time": "2023-12-20T12:19:36.683965200Z"
    }
   }
  },
  {
   "cell_type": "markdown",
   "id": "d89dc506",
   "metadata": {},
   "source": [
    "#### 66. Considering a (w,h,3) image of (dtype=ubyte), compute the number of unique colors (★★☆)"
   ]
  },
  {
   "cell_type": "code",
   "execution_count": 435,
   "id": "8fb43a49",
   "metadata": {
    "ExecuteTime": {
     "end_time": "2023-12-20T12:19:43.488388600Z",
     "start_time": "2023-12-20T12:19:36.746997200Z"
    }
   },
   "outputs": [
    {
     "name": "stdout",
     "output_type": "stream",
     "text": [
      "100\n",
      "100\n"
     ]
    }
   ],
   "source": [
    "\n",
    "w, h = 10,10\n",
    "image = np.random.randint(0, 256, size=(w, h, 3), dtype=np.uint8)\n",
    "pixels = image.reshape((-1, 3))\n",
    "pixels_list = [tuple(pixel) for pixel in pixels]\n",
    "unique_colors = set(pixels_list)\n",
    "\n",
    "print(len(unique_colors))\n",
    "\n"
   ]
  },
  {
   "cell_type": "markdown",
   "id": "535a5d81",
   "metadata": {},
   "source": [
    "#### 67. Considering a four dimensions array, how to get sum over the last two axis at once? (★★★)"
   ]
  },
  {
   "cell_type": "code",
   "execution_count": 441,
   "id": "f954ab9d",
   "metadata": {
    "ExecuteTime": {
     "end_time": "2023-12-20T12:21:50.452133Z",
     "start_time": "2023-12-20T12:21:50.327153900Z"
    }
   },
   "outputs": [
    {
     "name": "stdout",
     "output_type": "stream",
     "text": [
      "[[[[0.04226631 0.70458769]\n",
      "   [0.33566954 0.61637745]]\n",
      "\n",
      "  [[0.60619635 0.61247525]\n",
      "   [0.31095871 0.9144641 ]]]\n",
      "\n",
      "\n",
      " [[[0.27375209 0.43060828]\n",
      "   [0.50420944 0.35986575]]\n",
      "\n",
      "  [[0.17467556 0.94595432]\n",
      "   [0.35496462 0.29974052]]]]\n",
      "[[1.69890099 2.44409441]\n",
      " [1.56843557 1.77533502]]\n"
     ]
    }
   ],
   "source": [
    "x = np.random.rand(2, 2, 2, 2)\n",
    "\n",
    "y = np.sum(x, axis=(-2,-1))\n",
    "\n",
    "print(x)\n",
    "print(y)\n"
   ]
  },
  {
   "cell_type": "markdown",
   "id": "eee66d3c",
   "metadata": {},
   "source": [
    "#### 68. Considering a one-dimensional vector D, how to compute means of subsets of D using a vector S of same size describing subset  indices? (★★★)"
   ]
  },
  {
   "cell_type": "code",
   "execution_count": 437,
   "id": "8929773a",
   "metadata": {
    "ExecuteTime": {
     "end_time": "2023-12-20T12:19:43.504012300Z",
     "start_time": "2023-12-20T12:19:36.883839900Z"
    }
   },
   "outputs": [
    {
     "name": "stdout",
     "output_type": "stream",
     "text": [
      "[ 1  2  3  4  5  6  7  8  9 10]\n",
      "[0 0 1 1 2 2 3 3 3 3]\n",
      "[1.5, 3.5, 5.5, 8.5]\n",
      "[ 1  2  3  4  5  6  7  8  9 10]\n",
      "[0 0 1 1 2 2 3 3 3 3]\n",
      "[1.5, 3.5, 5.5, 8.5]\n"
     ]
    }
   ],
   "source": [
    "D = np.array([1, 2, 3, 4, 5, 6, 7, 8, 9, 10])\n",
    "S = np.array([0, 0, 1, 1, 2, 2, 3, 3, 3, 3])\n",
    "\n",
    "unique_subset = np.unique(S)\n",
    "\n",
    "means = []\n",
    "for subset in unique_subset:\n",
    "    indices = np.where(S == subset)\n",
    "    means.append(np.mean(D[indices]))\n",
    "\n",
    "print(D)\n",
    "print(S)\n",
    "print(means)\n"
   ]
  },
  {
   "cell_type": "markdown",
   "id": "f90d4c40",
   "metadata": {},
   "source": [
    "#### 69. How to get the diagonal of a dot product? (★★★)"
   ]
  },
  {
   "cell_type": "code",
   "execution_count": 448,
   "id": "b47d392d",
   "metadata": {
    "ExecuteTime": {
     "end_time": "2023-12-20T12:30:31.121905600Z",
     "start_time": "2023-12-20T12:30:31.042331400Z"
    }
   },
   "outputs": [
    {
     "name": "stdout",
     "output_type": "stream",
     "text": [
      "[0.69019209 0.49060636 0.81319074]\n"
     ]
    }
   ],
   "source": [
    "# Example matrices\n",
    "A = np.random.rand(3, 3)\n",
    "B = np.random.rand(3, 3)\n",
    "\n",
    "result = np.dot(A, B)\n",
    "print(np.diagonal(result))"
   ]
  },
  {
   "cell_type": "markdown",
   "id": "a8a97e7d",
   "metadata": {},
   "source": [
    "#### 70. Consider the vector [1, 2, 3, 4, 5], how to build a new vector with 3 consecutive zeros interleaved between each value? (★★★)"
   ]
  },
  {
   "cell_type": "code",
   "execution_count": 455,
   "id": "ee6c6c37",
   "metadata": {
    "ExecuteTime": {
     "end_time": "2023-12-20T12:40:23.654125Z",
     "start_time": "2023-12-20T12:40:23.513532500Z"
    }
   },
   "outputs": [
    {
     "ename": "ValueError",
     "evalue": "can only convert an array of size 1 to a Python scalar",
     "output_type": "error",
     "traceback": [
      "\u001B[1;31m---------------------------------------------------------------------------\u001B[0m",
      "\u001B[1;31mValueError\u001B[0m                                Traceback (most recent call last)",
      "Cell \u001B[1;32mIn[455], line 2\u001B[0m\n\u001B[0;32m      1\u001B[0m x \u001B[38;5;241m=\u001B[39m np\u001B[38;5;241m.\u001B[39marray([\u001B[38;5;241m1\u001B[39m, \u001B[38;5;241m2\u001B[39m, \u001B[38;5;241m3\u001B[39m, \u001B[38;5;241m4\u001B[39m, \u001B[38;5;241m5\u001B[39m])\n\u001B[1;32m----> 2\u001B[0m \u001B[38;5;28mprint\u001B[39m(\u001B[43mx\u001B[49m\u001B[38;5;241;43m.\u001B[39;49m\u001B[43mitem\u001B[49m\u001B[43m(\u001B[49m\u001B[43m)\u001B[49m)\n\u001B[0;32m      3\u001B[0m new_shape \u001B[38;5;241m=\u001B[39m \u001B[38;5;28mlen\u001B[39m(x)\u001B[38;5;241m*\u001B[39m\u001B[38;5;241m3\u001B[39m\n\u001B[0;32m      4\u001B[0m \u001B[38;5;28mprint\u001B[39m(new_shape)\n",
      "\u001B[1;31mValueError\u001B[0m: can only convert an array of size 1 to a Python scalar"
     ]
    }
   ],
   "source": [
    "x = np.array([1, 2, 3, 4, 5])\n",
    "new_shape = len(x)*3\n",
    "print(new_shape)\n",
    "\n",
    "zeros = np.zeros()"
   ]
  },
  {
   "cell_type": "markdown",
   "id": "d6a30d60",
   "metadata": {},
   "source": [
    "#### 71. Consider an array of dimension (5,5,3), how to mulitply it by an array with dimensions (5,5)? (★★★)"
   ]
  },
  {
   "cell_type": "code",
   "execution_count": 437,
   "id": "e9703f2e",
   "metadata": {
    "ExecuteTime": {
     "end_time": "2023-12-20T12:19:43.550874500Z",
     "start_time": "2023-12-20T12:19:37.055673900Z"
    }
   },
   "outputs": [],
   "source": []
  },
  {
   "cell_type": "markdown",
   "id": "bac359a9",
   "metadata": {},
   "source": [
    "#### 72. How to swap two rows of an array? (★★★)"
   ]
  },
  {
   "cell_type": "code",
   "execution_count": 437,
   "id": "f1b432b1",
   "metadata": {
    "ExecuteTime": {
     "end_time": "2023-12-20T12:19:43.550874500Z",
     "start_time": "2023-12-20T12:19:37.118203300Z"
    }
   },
   "outputs": [],
   "source": []
  },
  {
   "cell_type": "markdown",
   "id": "620c9f83",
   "metadata": {},
   "source": [
    "#### 73. Consider a set of 10 triplets describing 10 triangles (with shared vertices), find the set of unique line segments composing all the  triangles (★★★)"
   ]
  },
  {
   "cell_type": "code",
   "execution_count": 437,
   "id": "4e595ffc",
   "metadata": {
    "ExecuteTime": {
     "end_time": "2023-12-20T12:19:43.566530400Z",
     "start_time": "2023-12-20T12:19:37.180687900Z"
    }
   },
   "outputs": [],
   "source": []
  },
  {
   "cell_type": "markdown",
   "id": "a76c55a2",
   "metadata": {},
   "source": [
    "#### 74. Given a sorted array C that corresponds to a bincount, how to produce an array A such that np.bincount(A) == C? (★★★)"
   ]
  },
  {
   "cell_type": "code",
   "execution_count": 437,
   "id": "2d2ae65a",
   "metadata": {
    "ExecuteTime": {
     "end_time": "2023-12-20T12:19:43.566530400Z",
     "start_time": "2023-12-20T12:19:37.243131900Z"
    }
   },
   "outputs": [],
   "source": []
  },
  {
   "cell_type": "markdown",
   "id": "d550c8e2",
   "metadata": {},
   "source": [
    "#### 75. How to compute averages using a sliding window over an array? (★★★)"
   ]
  },
  {
   "cell_type": "code",
   "execution_count": 437,
   "id": "841c457c",
   "metadata": {
    "ExecuteTime": {
     "end_time": "2023-12-20T12:19:43.582152Z",
     "start_time": "2023-12-20T12:19:37.305615600Z"
    }
   },
   "outputs": [],
   "source": []
  },
  {
   "cell_type": "markdown",
   "id": "6b170b00",
   "metadata": {},
   "source": [
    "#### 76. Consider a one-dimensional array Z, build a two-dimensional array whose first row is (Z[0],Z[1],Z[2]) and each subsequent row is  shifted by 1 (last row should be (Z[-3],Z[-2],Z[-1]) (★★★)"
   ]
  },
  {
   "cell_type": "code",
   "execution_count": 437,
   "id": "d9a0cf4e",
   "metadata": {
    "ExecuteTime": {
     "end_time": "2023-12-20T12:19:43.597741100Z",
     "start_time": "2023-12-20T12:19:37.383721500Z"
    }
   },
   "outputs": [],
   "source": []
  },
  {
   "cell_type": "markdown",
   "id": "e94a5c1d",
   "metadata": {},
   "source": [
    "#### 77. How to negate a boolean, or to change the sign of a float inplace? (★★★)"
   ]
  },
  {
   "cell_type": "code",
   "execution_count": 437,
   "id": "c0f9504f",
   "metadata": {
    "ExecuteTime": {
     "end_time": "2023-12-20T12:19:43.629186200Z",
     "start_time": "2023-12-20T12:19:37.430587800Z"
    }
   },
   "outputs": [],
   "source": []
  },
  {
   "cell_type": "markdown",
   "id": "4eb8b5c1",
   "metadata": {},
   "source": [
    "#### 78. Consider 2 sets of points P0,P1 describing lines (2d) and a point p, how to compute distance from p to each line i (P0[i],P1[i])? (★★★)"
   ]
  },
  {
   "cell_type": "code",
   "execution_count": 437,
   "id": "487f47ec",
   "metadata": {
    "ExecuteTime": {
     "end_time": "2023-12-20T12:19:43.644605600Z",
     "start_time": "2023-12-20T12:19:37.493071600Z"
    }
   },
   "outputs": [],
   "source": []
  },
  {
   "cell_type": "markdown",
   "id": "3df99948",
   "metadata": {},
   "source": [
    "#### 79. Consider 2 sets of points P0,P1 describing lines (2d) and a set of points P, how to compute distance from each point j (P[j]) to each line i (P0[i],P1[i])? (★★★)"
   ]
  },
  {
   "cell_type": "code",
   "execution_count": 437,
   "id": "dc2df37b",
   "metadata": {
    "ExecuteTime": {
     "end_time": "2023-12-20T12:19:43.644605600Z",
     "start_time": "2023-12-20T12:19:37.555556500Z"
    }
   },
   "outputs": [],
   "source": []
  },
  {
   "cell_type": "markdown",
   "id": "11e972c2",
   "metadata": {},
   "source": [
    "#### 80. Consider an arbitrary array, write a function that extract a subpart with a fixed shape and centered on a given element (pad with a `fill` value when necessary) (★★★)"
   ]
  },
  {
   "cell_type": "code",
   "execution_count": 437,
   "id": "0291247f",
   "metadata": {
    "ExecuteTime": {
     "end_time": "2023-12-20T12:19:43.660226800Z",
     "start_time": "2023-12-20T12:19:37.618041600Z"
    }
   },
   "outputs": [],
   "source": []
  },
  {
   "cell_type": "markdown",
   "id": "93cfeab3",
   "metadata": {},
   "source": [
    "#### 81. Consider an array Z = [1,2,3,4,5,6,7,8,9,10,11,12,13,14], how to generate an array R = [[1,2,3,4], [2,3,4,5], [3,4,5,6], ..., [11,12,13,14]]? (★★★)"
   ]
  },
  {
   "cell_type": "code",
   "execution_count": 437,
   "id": "360de791",
   "metadata": {
    "ExecuteTime": {
     "end_time": "2023-12-20T12:19:43.660226800Z",
     "start_time": "2023-12-20T12:19:37.680526800Z"
    }
   },
   "outputs": [],
   "source": []
  },
  {
   "cell_type": "markdown",
   "id": "4c15ceff",
   "metadata": {},
   "source": [
    "#### 82. Compute a matrix rank (★★★)"
   ]
  },
  {
   "cell_type": "code",
   "execution_count": 437,
   "id": "9a4272d2",
   "metadata": {
    "ExecuteTime": {
     "end_time": "2023-12-20T12:19:43.660226800Z",
     "start_time": "2023-12-20T12:19:37.743606Z"
    }
   },
   "outputs": [],
   "source": []
  },
  {
   "cell_type": "markdown",
   "id": "1171cb84",
   "metadata": {},
   "source": [
    "#### 83. How to find the most frequent value in an array?"
   ]
  },
  {
   "cell_type": "code",
   "execution_count": 437,
   "id": "33e951c8",
   "metadata": {
    "ExecuteTime": {
     "end_time": "2023-12-20T12:19:43.675876500Z",
     "start_time": "2023-12-20T12:19:37.806095400Z"
    }
   },
   "outputs": [],
   "source": []
  },
  {
   "cell_type": "markdown",
   "id": "04f472aa",
   "metadata": {},
   "source": [
    "#### 84. Extract all the contiguous 3x3 blocks from a random 10x10 matrix (★★★)"
   ]
  },
  {
   "cell_type": "code",
   "execution_count": 437,
   "id": "7aade14a",
   "metadata": {
    "ExecuteTime": {
     "end_time": "2023-12-20T12:19:43.697175300Z",
     "start_time": "2023-12-20T12:19:37.852992200Z"
    }
   },
   "outputs": [],
   "source": []
  },
  {
   "cell_type": "markdown",
   "id": "52836346",
   "metadata": {},
   "source": [
    "#### 85. Create a 2D array subclass such that Z[i,j] == Z[j,i] (★★★)"
   ]
  },
  {
   "cell_type": "code",
   "execution_count": 437,
   "id": "4df70318",
   "metadata": {
    "ExecuteTime": {
     "end_time": "2023-12-20T12:19:43.712830600Z",
     "start_time": "2023-12-20T12:19:37.915488700Z"
    }
   },
   "outputs": [],
   "source": []
  },
  {
   "cell_type": "markdown",
   "id": "78c43ee5",
   "metadata": {},
   "source": [
    "#### 86. Consider a set of p matrices with shape (n,n) and a set of p vectors with shape (n,1). How to compute the sum of of the p matrix products at once? (result has shape (n,1)) (★★★)"
   ]
  },
  {
   "cell_type": "code",
   "execution_count": 437,
   "id": "32fd2c3b",
   "metadata": {
    "ExecuteTime": {
     "end_time": "2023-12-20T12:19:43.712830600Z",
     "start_time": "2023-12-20T12:19:37.977972900Z"
    }
   },
   "outputs": [],
   "source": []
  },
  {
   "cell_type": "markdown",
   "id": "158f9945",
   "metadata": {},
   "source": [
    "#### 87. Consider a 16x16 array, how to get the block-sum (block size is 4x4)? (★★★)"
   ]
  },
  {
   "cell_type": "code",
   "execution_count": 437,
   "id": "5a9b808f",
   "metadata": {
    "ExecuteTime": {
     "end_time": "2023-12-20T12:19:43.712830600Z",
     "start_time": "2023-12-20T12:19:38.040417Z"
    }
   },
   "outputs": [],
   "source": []
  },
  {
   "cell_type": "markdown",
   "id": "2e0ad860",
   "metadata": {},
   "source": [
    "#### 88. How to implement the Game of Life using numpy arrays? (★★★)"
   ]
  },
  {
   "cell_type": "code",
   "execution_count": 437,
   "id": "574acff5",
   "metadata": {
    "ExecuteTime": {
     "end_time": "2023-12-20T12:19:43.728417800Z",
     "start_time": "2023-12-20T12:19:38.087280300Z"
    }
   },
   "outputs": [],
   "source": []
  },
  {
   "cell_type": "markdown",
   "id": "69a892fa",
   "metadata": {},
   "source": [
    "#### 89. How to get the n largest values of an array (★★★)"
   ]
  },
  {
   "cell_type": "code",
   "execution_count": 437,
   "id": "21b2bd48",
   "metadata": {
    "ExecuteTime": {
     "end_time": "2023-12-20T12:19:43.744041700Z",
     "start_time": "2023-12-20T12:19:38.149800Z"
    }
   },
   "outputs": [],
   "source": []
  },
  {
   "cell_type": "markdown",
   "id": "b55ccacc",
   "metadata": {},
   "source": [
    "#### 90. Given an arbitrary number of vectors, build the cartesian product (every combinations of every item) (★★★)"
   ]
  },
  {
   "cell_type": "code",
   "execution_count": 437,
   "id": "4b645da4",
   "metadata": {
    "ExecuteTime": {
     "end_time": "2023-12-20T12:19:43.744041700Z",
     "start_time": "2023-12-20T12:19:38.212251800Z"
    }
   },
   "outputs": [],
   "source": []
  },
  {
   "cell_type": "markdown",
   "id": "89187a23",
   "metadata": {},
   "source": [
    "#### 91. How to create a record array from a regular array? (★★★)"
   ]
  },
  {
   "cell_type": "code",
   "execution_count": 437,
   "id": "da94c71a",
   "metadata": {
    "ExecuteTime": {
     "end_time": "2023-12-20T12:19:43.760455800Z",
     "start_time": "2023-12-20T12:19:38.274735100Z"
    }
   },
   "outputs": [],
   "source": []
  },
  {
   "cell_type": "markdown",
   "id": "aa70d4ca",
   "metadata": {},
   "source": [
    "#### 92. Consider a large vector Z, compute Z to the power of 3 using 3 different methods (★★★)"
   ]
  },
  {
   "cell_type": "code",
   "execution_count": 437,
   "id": "7cff1bf5",
   "metadata": {
    "ExecuteTime": {
     "end_time": "2023-12-20T12:19:43.760455800Z",
     "start_time": "2023-12-20T12:19:38.337220500Z"
    }
   },
   "outputs": [],
   "source": []
  },
  {
   "cell_type": "markdown",
   "id": "5f79dd00",
   "metadata": {},
   "source": [
    "#### 93. Consider two arrays A and B of shape (8,3) and (2,2). How to find rows of A that contain elements of each row of B regardless of the order of the elements in B? (★★★)"
   ]
  },
  {
   "cell_type": "code",
   "execution_count": 437,
   "id": "20c105b2",
   "metadata": {
    "ExecuteTime": {
     "end_time": "2023-12-20T12:19:43.776081400Z",
     "start_time": "2023-12-20T12:19:38.399751300Z"
    }
   },
   "outputs": [],
   "source": []
  },
  {
   "cell_type": "markdown",
   "id": "a80570cd",
   "metadata": {},
   "source": [
    "#### 94. Considering a 10x3 matrix, extract rows with unequal values (e.g. [2,2,3]) (★★★)"
   ]
  },
  {
   "cell_type": "code",
   "execution_count": 437,
   "id": "84db8de1",
   "metadata": {
    "ExecuteTime": {
     "end_time": "2023-12-20T12:19:43.776081400Z",
     "start_time": "2023-12-20T12:19:38.462191100Z"
    }
   },
   "outputs": [],
   "source": []
  },
  {
   "cell_type": "markdown",
   "id": "ba154f43",
   "metadata": {},
   "source": [
    "#### 95. Convert a vector of ints into a matrix binary representation (★★★)"
   ]
  },
  {
   "cell_type": "code",
   "execution_count": 437,
   "id": "cfa96e1b",
   "metadata": {
    "ExecuteTime": {
     "end_time": "2023-12-20T12:19:43.791704800Z",
     "start_time": "2023-12-20T12:19:38.509054700Z"
    }
   },
   "outputs": [],
   "source": []
  },
  {
   "cell_type": "markdown",
   "id": "420e2343",
   "metadata": {},
   "source": [
    "#### 96. Given a two dimensional array, how to extract unique rows? (★★★)"
   ]
  },
  {
   "cell_type": "code",
   "execution_count": 437,
   "id": "4680dfd0",
   "metadata": {
    "ExecuteTime": {
     "end_time": "2023-12-20T12:19:43.807323700Z",
     "start_time": "2023-12-20T12:19:38.571542500Z"
    }
   },
   "outputs": [],
   "source": []
  },
  {
   "cell_type": "markdown",
   "id": "89fef2f3",
   "metadata": {},
   "source": [
    "#### 97. Considering 2 vectors A & B, write the einsum equivalent of inner, outer, sum, and mul function (★★★)"
   ]
  },
  {
   "cell_type": "code",
   "execution_count": 437,
   "id": "bb9c14b2",
   "metadata": {
    "ExecuteTime": {
     "end_time": "2023-12-20T12:19:43.807323700Z",
     "start_time": "2023-12-20T12:19:38.634066700Z"
    }
   },
   "outputs": [],
   "source": []
  },
  {
   "cell_type": "markdown",
   "id": "7ad5cc5f",
   "metadata": {},
   "source": [
    "#### 98. Considering a path described by two vectors (X,Y), how to sample it using equidistant samples (★★★)?"
   ]
  },
  {
   "cell_type": "code",
   "execution_count": 437,
   "id": "0899d1d5",
   "metadata": {
    "ExecuteTime": {
     "end_time": "2023-12-20T12:19:43.807323700Z",
     "start_time": "2023-12-20T12:19:38.696511500Z"
    }
   },
   "outputs": [],
   "source": []
  },
  {
   "cell_type": "markdown",
   "id": "2b69272e",
   "metadata": {},
   "source": [
    "#### 99. Given an integer n and a 2D array X, select from X the rows which can be interpreted as draws from a multinomial distribution with n degrees, i.e., the rows which only contain integers and which sum to n. (★★★)"
   ]
  },
  {
   "cell_type": "code",
   "execution_count": 437,
   "id": "55c8b034",
   "metadata": {
    "ExecuteTime": {
     "end_time": "2023-12-20T12:19:43.822983200Z",
     "start_time": "2023-12-20T12:19:38.743971900Z"
    }
   },
   "outputs": [],
   "source": []
  },
  {
   "cell_type": "markdown",
   "id": "59ab5516",
   "metadata": {},
   "source": [
    "#### 100. Compute bootstrapped 95% confidence intervals for the mean of a 1D array X (i.e., resample the elements of an array with replacement N times, compute the mean of each sample, and then compute percentiles over the means). (★★★)"
   ]
  },
  {
   "cell_type": "code",
   "execution_count": 437,
   "id": "450877d8",
   "metadata": {
    "ExecuteTime": {
     "end_time": "2023-12-20T12:19:43.838568500Z",
     "start_time": "2023-12-20T12:19:38.806462700Z"
    }
   },
   "outputs": [],
   "source": []
  }
 ],
 "metadata": {
  "kernelspec": {
   "name": "python3",
   "language": "python",
   "display_name": "Python 3 (ipykernel)"
  }
 },
 "nbformat": 4,
 "nbformat_minor": 5
}
