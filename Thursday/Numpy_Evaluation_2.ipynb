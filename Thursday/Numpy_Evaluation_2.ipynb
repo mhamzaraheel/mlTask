{
 "cells": [
  {
   "cell_type": "markdown",
   "id": "7ec98f23",
   "metadata": {},
   "source": [
    "### Questions 1\n",
    "\n",
    "Create a matrix of 5x5 with random integers, after that swap its first and last rows."
   ]
  },
  {
   "cell_type": "code",
   "execution_count": 171,
   "id": "fbab7daa",
   "metadata": {
    "ExecuteTime": {
     "end_time": "2023-12-21T09:20:40.154345700Z",
     "start_time": "2023-12-21T09:20:39.974035700Z"
    }
   },
   "outputs": [
    {
     "name": "stdout",
     "output_type": "stream",
     "text": [
      "[[0.23224417 0.05758769 0.51126002 0.79757687 0.89690166]\n",
      " [0.165166   0.35545091 0.24385826 0.87435382 0.38491389]\n",
      " [0.05777661 0.09794668 0.59114571 0.13203726 0.92743898]\n",
      " [0.66825182 0.98167455 0.96137556 0.02334118 0.60759922]\n",
      " [0.12937039 0.45464708 0.98288557 0.66744016 0.01777538]]\n",
      "[[0.12937039 0.45464708 0.98288557 0.66744016 0.01777538]\n",
      " [0.165166   0.35545091 0.24385826 0.87435382 0.38491389]\n",
      " [0.05777661 0.09794668 0.59114571 0.13203726 0.92743898]\n",
      " [0.66825182 0.98167455 0.96137556 0.02334118 0.60759922]\n",
      " [0.23224417 0.05758769 0.51126002 0.79757687 0.89690166]]\n"
     ]
    }
   ],
   "source": [
    "import numpy as np\n",
    "\n",
    "x = np.random.rand(5,5)\n",
    "print(x)\n",
    "x[0, :], x[-1,:] = x[-1,:].copy() , x[0,:].copy()\n",
    "print(x)\n"
   ]
  },
  {
   "cell_type": "markdown",
   "id": "804d6649",
   "metadata": {},
   "source": [
    "### Question 2\n",
    "\n",
    "Create a 2D array, remove all rows that contain at least one zero."
   ]
  },
  {
   "cell_type": "code",
   "execution_count": 172,
   "id": "26e7b7e4",
   "metadata": {
    "ExecuteTime": {
     "end_time": "2023-12-21T09:20:40.279178100Z",
     "start_time": "2023-12-21T09:20:39.991469500Z"
    }
   },
   "outputs": [
    {
     "name": "stdout",
     "output_type": "stream",
     "text": [
      "[[3 4 5]\n",
      " [6 7 8]]\n"
     ]
    }
   ],
   "source": [
    "x = np.arange(0,9).reshape(3,3)\n",
    "\n",
    "x_without_zeros = []\n",
    "for row in x:\n",
    "    if all(num != 0 for num in row):\n",
    "        x_without_zeros.append(row)\n",
    "\n",
    "x_without_zeros = np.array(x_without_zeros)\n",
    "print(x_without_zeros)\n"
   ]
  },
  {
   "cell_type": "markdown",
   "id": "2eaedae6",
   "metadata": {},
   "source": [
    "### Question 3\n",
    "\n",
    "Write a NumPy program to find the real and imaginary parts of an array of complex numbers.<br>\n",
    "Original array [ 1.00000000+0.j 0.70710678+0.70710678j]"
   ]
  },
  {
   "cell_type": "code",
   "execution_count": 173,
   "outputs": [
    {
     "name": "stdout",
     "output_type": "stream",
     "text": [
      "['1', '0.70710678']\n",
      "['0', '0.70710678']\n"
     ]
    }
   ],
   "source": [
    "import numpy as np\n",
    "\n",
    "x = np.array([1.00000000 +0.j, 0.70710678 + 0.70710678j])\n",
    "\n",
    "real_parts = []\n",
    "imag_parts = []\n",
    "\n",
    "for num in x:\n",
    "    num_str = str(num)\n",
    "    parts = num_str.split('+')\n",
    "    real_part = parts[0][1:]\n",
    "    imag_part = parts[1][0:-2]\n",
    "    real_parts.append(real_part)\n",
    "    imag_parts.append(imag_part)\n",
    "\n",
    "print(real_parts)\n",
    "print(imag_parts)\n"
   ],
   "metadata": {
    "collapsed": false,
    "ExecuteTime": {
     "end_time": "2023-12-21T09:20:40.281172200Z",
     "start_time": "2023-12-21T09:20:40.005645700Z"
    }
   }
  },
  {
   "cell_type": "markdown",
   "id": "5d22a191",
   "metadata": {},
   "source": [
    "\n",
    "### Question 4\n",
    "\n",
    "Write a NumPy program to remove the duplicate elements of an array.<br>\n",
    "Original array:\n",
    "[10 10 20 20 30 30]\n"
   ]
  },
  {
   "cell_type": "code",
   "execution_count": 174,
   "id": "39a6deaf",
   "metadata": {
    "ExecuteTime": {
     "end_time": "2023-12-21T09:20:40.292144600Z",
     "start_time": "2023-12-21T09:20:40.019234600Z"
    }
   },
   "outputs": [
    {
     "name": "stdout",
     "output_type": "stream",
     "text": [
      "[10, 20, 30]\n"
     ]
    }
   ],
   "source": [
    "x = [10, 10, 20, 20, 30, 30]\n",
    "\n",
    "mylist = []\n",
    "for num in x:\n",
    "    if num not in mylist:\n",
    "        mylist.append(num)\n",
    "\n",
    "print(mylist)\n"
   ]
  },
  {
   "cell_type": "markdown",
   "id": "80f3538a",
   "metadata": {},
   "source": [
    "### Question 5\n",
    "\n",
    "Write a NumPy program to create a 3x3x3 array with random values."
   ]
  },
  {
   "cell_type": "code",
   "execution_count": 175,
   "id": "462e67c5",
   "metadata": {
    "ExecuteTime": {
     "end_time": "2023-12-21T09:20:40.296131800Z",
     "start_time": "2023-12-21T09:20:40.030714400Z"
    }
   },
   "outputs": [
    {
     "data": {
      "text/plain": "array([[[0.63352467, 0.69025899, 0.84182498],\n        [0.60979215, 0.76709289, 0.96071236],\n        [0.21838691, 0.50186649, 0.76089223]],\n\n       [[0.70920968, 0.24520148, 0.20662493],\n        [0.11992187, 0.04419861, 0.53634995],\n        [0.96685901, 0.81910332, 0.97034183]],\n\n       [[0.02903504, 0.24798672, 0.3594154 ],\n        [0.02807154, 0.14786531, 0.48276718],\n        [0.0761319 , 0.30916317, 0.97413748]]])"
     },
     "execution_count": 175,
     "metadata": {},
     "output_type": "execute_result"
    }
   ],
   "source": [
    "np.random.rand(3,3,3)"
   ]
  },
  {
   "cell_type": "markdown",
   "id": "abd66406",
   "metadata": {},
   "source": [
    "### Question 6\n",
    "\n",
    "Write a NumPy program to create a random vector of size 10 and sort it.\n",
    "<b>Note:<\\b> Do not use builtin sorting function"
   ]
  },
  {
   "cell_type": "code",
   "execution_count": 176,
   "id": "9282c068",
   "metadata": {
    "ExecuteTime": {
     "end_time": "2023-12-21T09:20:40.317294400Z",
     "start_time": "2023-12-21T09:20:40.043249500Z"
    }
   },
   "outputs": [
    {
     "name": "stdout",
     "output_type": "stream",
     "text": [
      "[6 4 9 3 2 9 3 4 2 1]\n",
      "[1 2 2 3 3 4 4 6 9 9]\n"
     ]
    }
   ],
   "source": [
    "x = np.random.randint(1,10,10)\n",
    "print(x)\n",
    "\n",
    "n = len(x)\n",
    "for i in range(n-1):\n",
    "    for j in range(n-i-1):\n",
    "        if x[j] > x[j+1]:\n",
    "            x[j], x[j + 1] = x[j + 1], x[j]\n",
    "\n",
    "print(x)"
   ]
  },
  {
   "cell_type": "markdown",
   "id": "e0c1e8bb",
   "metadata": {},
   "source": [
    "### Question 7\n",
    "\n",
    "Write a NumPy program to check two random arrays are equal or not."
   ]
  },
  {
   "cell_type": "code",
   "execution_count": 177,
   "id": "e9c571cc",
   "metadata": {
    "ExecuteTime": {
     "end_time": "2023-12-21T09:20:40.318293600Z",
     "start_time": "2023-12-21T09:20:40.066077700Z"
    }
   },
   "outputs": [
    {
     "name": "stdout",
     "output_type": "stream",
     "text": [
      "[[0.86260487 0.96417287]\n",
      " [0.88686227 0.64343803]]\n",
      "[[0.14035465 0.79189949]\n",
      " [0.12872284 0.675676  ]]\n",
      "Not Equal\n"
     ]
    }
   ],
   "source": [
    "x = np.random.rand(2,2)\n",
    "y = np.random.rand(2,2)\n",
    "print(x)\n",
    "print(y)\n",
    "Flag = True\n",
    "for i in range(len(x)):\n",
    "    for j in range(i):\n",
    "        if x[i][j] != y[i][j]:\n",
    "            Flag = False\n",
    "\n",
    "if Flag:\n",
    "    print(\"Both are equal\")\n",
    "else:\n",
    "    print(\"Not Equal\")\n",
    "\n"
   ]
  },
  {
   "cell_type": "markdown",
   "id": "234405fe",
   "metadata": {},
   "source": [
    "### Question 8 \n",
    "\n",
    "Write a NumPy program to sort a given array of shape 2 along the first axis, last axis and on flattened array.<br>\n",
    "\n",
    "Original array:<br>\n",
    "[[10 40]<br>\n",
    "[30 20]]"
   ]
  },
  {
   "cell_type": "code",
   "execution_count": 178,
   "id": "1b349b99",
   "metadata": {
    "ExecuteTime": {
     "end_time": "2023-12-21T09:20:40.334281900Z",
     "start_time": "2023-12-21T09:20:40.076626100Z"
    }
   },
   "outputs": [
    {
     "name": "stdout",
     "output_type": "stream",
     "text": [
      "[[10 20]\n",
      " [30 40]]\n",
      "[[10 40]\n",
      " [20 30]]\n",
      "[10 20 30 40]\n",
      "[10 20 30 40]\n",
      "[[10 20]\n",
      " [30 40]]\n"
     ]
    }
   ],
   "source": [
    "x = np.array([[10, 40],\n",
    "              [30, 20]])\n",
    "\n",
    "print(np.sort(x, axis=0))\n",
    "print(np.sort(x, axis=1))\n",
    "print(np.sort(x.flatten()))\n",
    "\n",
    "#################### sorting ##################\n",
    "x = x.flatten()\n",
    "\n",
    "n = len(x)\n",
    "for i in range(n-1):\n",
    "    for j in range(n-i-1):\n",
    "        if x[j] > x[j+1]:\n",
    "            x[j], x[j + 1] = x[j + 1], x[j]\n",
    "\n",
    "print(x)\n",
    "\n",
    "print(x.reshape(2,2))"
   ]
  },
  {
   "cell_type": "markdown",
   "id": "2467ff08",
   "metadata": {},
   "source": [
    "### Question 9\n",
    "\n",
    "Write a NumPy program to get the floor, ceiling and truncated values of the elements of a numpy array.<br>\n",
    "\n",
    "Original array:<br>\n",
    "[-1.6 -1.5 -0.3 0.1 1.4 1.8 2. ]"
   ]
  },
  {
   "cell_type": "code",
   "execution_count": 179,
   "outputs": [
    {
     "name": "stdout",
     "output_type": "stream",
     "text": [
      "[-1, -1, 0, 1, 2, 2, 3]\n"
     ]
    }
   ],
   "source": [
    "arr = [-1.6, -1.5, -0.3, 0.1, 1.4, 1.8, 2. ]\n",
    "\n",
    "ceils = []\n",
    "for x in arr:\n",
    "    if isinstance(x, int):\n",
    "        ceils.append(x)\n",
    "\n",
    "    if x >= 0:\n",
    "        ceils.append(int(x) + 1)\n",
    "\n",
    "    else:\n",
    "        ceils.append(int(x))\n",
    "\n",
    "print(ceils)"
   ],
   "metadata": {
    "collapsed": false,
    "ExecuteTime": {
     "end_time": "2023-12-21T09:20:40.337241200Z",
     "start_time": "2023-12-21T09:20:40.093485300Z"
    }
   }
  },
  {
   "cell_type": "code",
   "execution_count": 180,
   "outputs": [
    {
     "name": "stdout",
     "output_type": "stream",
     "text": [
      "[-2, -2, -1, 0, 1, 1, 2]\n"
     ]
    }
   ],
   "source": [
    "floors = []\n",
    "for x in arr:\n",
    "    if isinstance(x, int):\n",
    "        floors.append(x)\n",
    "    if x >= 0:\n",
    "        floors.append(int(x))\n",
    "    else:\n",
    "        floors.append(int(x) - 1)\n",
    "\n",
    "print(floors)"
   ],
   "metadata": {
    "collapsed": false,
    "ExecuteTime": {
     "end_time": "2023-12-21T09:20:40.340234400Z",
     "start_time": "2023-12-21T09:20:40.099158500Z"
    }
   }
  },
  {
   "cell_type": "code",
   "execution_count": 181,
   "outputs": [
    {
     "name": "stdout",
     "output_type": "stream",
     "text": [
      "[-1, -1, 0, 0, 1, 1, 2]\n"
     ]
    }
   ],
   "source": [
    "truncats = []\n",
    "for x in arr:\n",
    "    truncats.append(int(x))\n",
    "\n",
    "print(truncats)"
   ],
   "metadata": {
    "collapsed": false,
    "ExecuteTime": {
     "end_time": "2023-12-21T09:20:40.341231400Z",
     "start_time": "2023-12-21T09:20:40.107958Z"
    }
   }
  },
  {
   "cell_type": "code",
   "execution_count": 182,
   "id": "8fa2a543",
   "metadata": {
    "ExecuteTime": {
     "end_time": "2023-12-21T09:20:40.350205200Z",
     "start_time": "2023-12-21T09:20:40.120230Z"
    }
   },
   "outputs": [
    {
     "name": "stdout",
     "output_type": "stream",
     "text": [
      "2.0\n",
      "2.0\n",
      "2.0\n"
     ]
    }
   ],
   "source": [
    "arr = np.array([-1.6, -1.5, -0.3, 0.1, 1.4, 1.8, 2. ])\n",
    "\n",
    "print(np.floor(x))\n",
    "print(np.ceil(x))\n",
    "print(np.trunc(x))\n"
   ]
  },
  {
   "cell_type": "markdown",
   "id": "9434026c",
   "metadata": {},
   "source": [
    "### Questions 10\n",
    "\n",
    "Write a NumPy program to display all the dates for the month of March, 2017"
   ]
  },
  {
   "cell_type": "code",
   "execution_count": 183,
   "id": "67332471",
   "metadata": {
    "ExecuteTime": {
     "end_time": "2023-12-21T09:20:40.373691900Z",
     "start_time": "2023-12-21T09:20:40.138896100Z"
    }
   },
   "outputs": [
    {
     "name": "stdout",
     "output_type": "stream",
     "text": [
      "['2017-03-01' '2017-03-02' '2017-03-03' '2017-03-04' '2017-03-05'\n",
      " '2017-03-06' '2017-03-07' '2017-03-08' '2017-03-09' '2017-03-10'\n",
      " '2017-03-11' '2017-03-12' '2017-03-13' '2017-03-14' '2017-03-15'\n",
      " '2017-03-16' '2017-03-17' '2017-03-18' '2017-03-19' '2017-03-20'\n",
      " '2017-03-21' '2017-03-22' '2017-03-23' '2017-03-24' '2017-03-25'\n",
      " '2017-03-26' '2017-03-27' '2017-03-28' '2017-03-29' '2017-03-30'\n",
      " '2017-03-31']\n"
     ]
    }
   ],
   "source": [
    "print(np.arange('2017-03', '2017-04', dtype='datetime64[D]'))"
   ]
  },
  {
   "cell_type": "markdown",
   "id": "34eb3ebf",
   "metadata": {},
   "source": [
    "### Question 11\n",
    "\n",
    "Write a NumPy program to create 24 python datetime.datetime objects (single object for every hour), and then put it in a numpy array."
   ]
  },
  {
   "cell_type": "code",
   "execution_count": 184,
   "id": "705b235f",
   "metadata": {
    "ExecuteTime": {
     "end_time": "2023-12-21T09:20:40.374724900Z",
     "start_time": "2023-12-21T09:20:40.152351900Z"
    }
   },
   "outputs": [
    {
     "name": "stdout",
     "output_type": "stream",
     "text": [
      "2000-01-01 00:00:00\n",
      "[datetime.datetime(2000, 1, 1, 0, 0) datetime.datetime(2000, 1, 1, 1, 0)\n",
      " datetime.datetime(2000, 1, 1, 2, 0) datetime.datetime(2000, 1, 1, 3, 0)\n",
      " datetime.datetime(2000, 1, 1, 4, 0) datetime.datetime(2000, 1, 1, 5, 0)\n",
      " datetime.datetime(2000, 1, 1, 6, 0) datetime.datetime(2000, 1, 1, 7, 0)\n",
      " datetime.datetime(2000, 1, 1, 8, 0) datetime.datetime(2000, 1, 1, 9, 0)\n",
      " datetime.datetime(2000, 1, 1, 10, 0) datetime.datetime(2000, 1, 1, 11, 0)\n",
      " datetime.datetime(2000, 1, 1, 12, 0) datetime.datetime(2000, 1, 1, 13, 0)\n",
      " datetime.datetime(2000, 1, 1, 14, 0) datetime.datetime(2000, 1, 1, 15, 0)\n",
      " datetime.datetime(2000, 1, 1, 16, 0) datetime.datetime(2000, 1, 1, 17, 0)\n",
      " datetime.datetime(2000, 1, 1, 18, 0) datetime.datetime(2000, 1, 1, 19, 0)\n",
      " datetime.datetime(2000, 1, 1, 20, 0) datetime.datetime(2000, 1, 1, 21, 0)\n",
      " datetime.datetime(2000, 1, 1, 22, 0) datetime.datetime(2000, 1, 1, 23, 0)]\n"
     ]
    }
   ],
   "source": [
    "from datetime import datetime, timedelta\n",
    "\n",
    "base_date = datetime(2000, 1, 1, 0, 0, 0)\n",
    "print(base_date)\n",
    "date_objects = [base_date + timedelta(hours=i) for i in range(24)]\n",
    "numpy_array = np.array(date_objects)\n",
    "print(numpy_array)\n"
   ]
  },
  {
   "cell_type": "markdown",
   "id": "e34c59d5",
   "metadata": {},
   "source": [
    "### Question 12\n",
    "\n",
    "Write a NumPy program to concatenate element-wise two arrays of string.<br>\n",
    "<b>Example <\\b>\n",
    "Array1:<br>\n",
    "['Python' 'PHP']<br>\n",
    "Array2:<br>\n",
    "[' Java' ' C++']<br>\n",
    "new array:<br>\n",
    "['Python Java' 'PHP C++']<br>"
   ]
  },
  {
   "cell_type": "code",
   "execution_count": 185,
   "id": "cd6b480c",
   "metadata": {
    "ExecuteTime": {
     "end_time": "2023-12-21T09:20:40.374724900Z",
     "start_time": "2023-12-21T09:20:40.164565500Z"
    }
   },
   "outputs": [
    {
     "name": "stdout",
     "output_type": "stream",
     "text": [
      "['Python' 'PHP' ' C++' None]\n"
     ]
    }
   ],
   "source": [
    "x = np.array(['Python', 'PHP'])\n",
    "y = np.array([' Java', ' C++'])\n",
    "array = np.empty(len(x)*len(y), dtype='object')\n",
    "\n",
    "for i in range(2):\n",
    "    array[i] = x[i]\n",
    "    array[i+1] = y[i]\n",
    "\n",
    "print(array)\n"
   ]
  },
  {
   "cell_type": "code",
   "execution_count": 185,
   "outputs": [],
   "source": [],
   "metadata": {
    "collapsed": false,
    "ExecuteTime": {
     "end_time": "2023-12-21T09:20:40.375720600Z",
     "start_time": "2023-12-21T09:20:40.177582700Z"
    }
   }
  }
 ],
 "metadata": {
  "kernelspec": {
   "display_name": "Python 3 (ipykernel)",
   "language": "python",
   "name": "python3"
  },
  "language_info": {
   "codemirror_mode": {
    "name": "ipython",
    "version": 3
   },
   "file_extension": ".py",
   "mimetype": "text/x-python",
   "name": "python",
   "nbconvert_exporter": "python",
   "pygments_lexer": "ipython3",
   "version": "3.10.9"
  }
 },
 "nbformat": 4,
 "nbformat_minor": 5
}
